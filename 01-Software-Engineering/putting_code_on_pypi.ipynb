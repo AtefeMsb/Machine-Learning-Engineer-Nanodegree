{
 "cells": [
  {
   "cell_type": "markdown",
   "metadata": {},
   "source": [
    "**Source** [Putting Code on PyPi](https://www.youtube.com/watch?v=4uosDOKn5LI&feature=emb_logo)\n",
    "\n",
    "#### PyPi vs. Test PyPi\n",
    "\n",
    "Note that pypi.org and test.pypy.org are two different websites. You'll need to register separately at each website. If you only register at pypi.org, you will not be able to upload to the test.pypy.org repository.\n",
    "\n",
    "Also, remember that your package name must be unique. If you use a package name that is already taken, you will get an error when trying to upload the package.\n",
    "\n",
    "You'll need to create a setup.cfg file, README.md file, and license.txt file. You'll also need to create accounts for the pypi test repository and pypi repository. \n",
    "\n",
    "#### Summary of the Terminal Commands Used in the Video\n",
    "\n",
    "`\n",
    "cd binomial_package_files\n",
    "python setup.py sdist\n",
    "pip install twine\n",
    "`\n",
    "\n",
    "#### commands to upload to the pypi test repository\n",
    "`twine upload --repository-url https://test.pypi.org/legacy/ dist/*`\n",
    "\n",
    "`pip install --index-url https://test.pypi.org/simple/ dsnd-probability`\n",
    "\n",
    "\n",
    "\n",
    "#### command to upload to the pypi repository\n",
    "`twine upload dist/*`\n",
    "\n",
    "`pip install dsnd-probability`\n",
    "\n",
    "### More PyPi Resources\n",
    "\n",
    "This link has a good tutorial on distributing Python packages including more configuration options for your setup.py file: [tutorial on distributing packages](https://packaging.python.org/tutorials/packaging-projects/). You'll notice that the python command to run the setup.py is slightly different with\n",
    "\n",
    "`python3 setup.py sdist bdist_wheel`\n",
    "\n",
    "This command will still output a folder called `dist`. The difference is that you will get both a .tar.gz file and a .whl file. The .tar.gz file is called a source archive whereas the .whl file is a built distribution. The .whl file is a newer type of installation file for Python packages. When you pip install a package, pip will first look for a whl file (wheel file) and if there isn't one, will then look for the tar.gz file.\n",
    "\n",
    "A tar.gz file, ie an sdist, contains the files needed to compile and install a Python package. A whl file, ie a built distribution, only needs to be copied to the proper place for installation. Behind the scenes, pip installing a whl file has fewer steps than a tar.gz file.\n",
    "\n",
    "Other than this command, the rest of the steps for uploading to PyPi are the same."
   ]
  }
 ],
 "metadata": {
  "kernelspec": {
   "display_name": "Python 3",
   "language": "python",
   "name": "python3"
  },
  "language_info": {
   "codemirror_mode": {
    "name": "ipython",
    "version": 3
   },
   "file_extension": ".py",
   "mimetype": "text/x-python",
   "name": "python",
   "nbconvert_exporter": "python",
   "pygments_lexer": "ipython3",
   "version": "3.8.1"
  }
 },
 "nbformat": 4,
 "nbformat_minor": 4
}
