{
 "cells": [
  {
   "cell_type": "markdown",
   "metadata": {},
   "source": [
    "## Characteristic of Production Code\n",
    "**CLEAN:** readable, simple, and concise. A characteristic of production quality code that is crucial for collaboration and maintainability in software development.\n",
    "\n",
    "**MODULAR:** logically broken up into functions and modules. Also an important characteristic of production quality code that makes your code more organized, efficient, and reusable.\n",
    "* Don't repeat yourself (DRY)\n",
    "* Abstract out logic to improve readability\n",
    "* Minimize the number of entities (functions, classes, modules, etc.)\n",
    "* Functions should do one thing\n",
    "* Arbitrary variable names can be more effective in certain functions\n",
    "* Try to use fewer than three arguments per function\n",
    "\n",
    "**MODULE:** a file. Modules allow code to be reused by encapsulating them into files that can be imported into other files."
   ]
  },
  {
   "cell_type": "code",
   "execution_count": 1,
   "metadata": {},
   "outputs": [
    {
     "name": "stdout",
     "output_type": "stream",
     "text": [
      "92.4\n",
      "97.4\n",
      "93.44776840374746\n"
     ]
    }
   ],
   "source": [
    "# DRY\n",
    "import math\n",
    "import numpy as np\n",
    "test_scores = [88, 92, 79, 93, 85]\n",
    "\n",
    "# List comprehension\n",
    "curved_5 = [score + 5 for score in test_scores]\n",
    "print(np.mean(curved_5))\n",
    "\n",
    "curved_10 = [score + 10 for score in test_scores]\n",
    "print(np.mean(curved_10))\n",
    "\n",
    "curved_sqrt = [math.sqrt(score) * 10 for score in test_scores]\n",
    "print(np.mean(curved_sqrt))"
   ]
  },
  {
   "cell_type": "code",
   "execution_count": 2,
   "metadata": {},
   "outputs": [
    {
     "name": "stdout",
     "output_type": "stream",
     "text": [
      "87.4\n",
      "92.4\n",
      "97.4\n",
      "93.44776840374746\n"
     ]
    }
   ],
   "source": [
    "# Abstract out logic to improve readability\n",
    "import math\n",
    "import numpy as np\n",
    "\n",
    "def flat_curve(arr, n):\n",
    "    return [i + n for i in arr]\n",
    "\n",
    "def square_root_curve(arr):\n",
    "    return [math.sqrt(i) * 10 for i in arr]\n",
    "\n",
    "test_scores = [88, 92, 79, 93, 85]\n",
    "\n",
    "curved_5 = flat_curve(test_scores, 5)\n",
    "curved_10 = flat_curve(test_scores, 10)\n",
    "curved_sqrt = square_root_curve(test_scores)\n",
    "\n",
    "for score_list in test_scores, curved_5, curved_10, curved_sqrt:\n",
    "    print(np.mean(score_list))\n"
   ]
  },
  {
   "cell_type": "markdown",
   "metadata": {},
   "source": [
    "## Writting Clean Code\n",
    "* Nice Whitespace\n",
    "    * Organize your code with consistent indentation - the standard is to use 4 spaces for each indent.\n",
    "    * Separate sections with blank lines to keep your code well organized and readable.\n",
    "    * Try to limit your lines to around 79 characters, which is the guideline given in the PEP 8 style guide.  \n",
    "    [PEP 8 guidelines for code layout](https://www.python.org/dev/peps/pep-0008/?#code-lay-out)\n",
    "    \n",
    "* Meaningfull Names\n",
    "    * Be descriptive and imply type: E.g. for booleans, use prefix is_ or has_ to make clear it is a condition.\n",
    "    * Be consistent but clearly differentiate\n",
    "    * Avoid abbreviations and especially single letters\n",
    "    * Long names does not necessary mean descriptive names. (don't put the details in the name of function)\n",
    "    * Use verb for function names."
   ]
  },
  {
   "cell_type": "code",
   "execution_count": 3,
   "metadata": {},
   "outputs": [
    {
     "data": {
      "text/plain": [
       "[47, 'minor', 28]"
      ]
     },
     "execution_count": 3,
     "metadata": {},
     "output_type": "execute_result"
    }
   ],
   "source": [
    "# Be descriptive and imply type\n",
    "age_list = [47, 12, 28]\n",
    "\n",
    "for i, age in enumerate(age_list):\n",
    "    if age < 18:\n",
    "        is_minor = True\n",
    "        age_list[i] = \"minor\"\n",
    "        \n",
    "age_list"
   ]
  },
  {
   "cell_type": "markdown",
   "metadata": {},
   "source": [
    "## Code refactoring\n",
    "\n",
    "**REFACTORING:** restructuring your code to improve its internal structure, without changing its external functionality. This gives you a chance to clean and modularize your program after you've got it working."
   ]
  },
  {
   "cell_type": "markdown",
   "metadata": {},
   "source": [
    "### Refactor: Wine Quality Analysis\n",
    "In this exercise, you'll refactor code that analyzes a wine quality dataset taken from the UCI Machine Learning Repository [here](https://archive.ics.uci.edu/ml/datasets/wine+quality). Each row contains data on a wine sample, including several physicochemical properties gathered from tests, as well as a quality rating evaluated by wine experts.\n",
    "\n",
    "The code in this notebook first renames the columns of the dataset and then calculates some statistics on how some features may be related to quality ratings. Can you refactor this code to make it more clean and modular?"
   ]
  },
  {
   "cell_type": "code",
   "execution_count": 4,
   "metadata": {},
   "outputs": [
    {
     "data": {
      "text/html": [
       "<div>\n",
       "<style scoped>\n",
       "    .dataframe tbody tr th:only-of-type {\n",
       "        vertical-align: middle;\n",
       "    }\n",
       "\n",
       "    .dataframe tbody tr th {\n",
       "        vertical-align: top;\n",
       "    }\n",
       "\n",
       "    .dataframe thead th {\n",
       "        text-align: right;\n",
       "    }\n",
       "</style>\n",
       "<table border=\"1\" class=\"dataframe\">\n",
       "  <thead>\n",
       "    <tr style=\"text-align: right;\">\n",
       "      <th></th>\n",
       "      <th>fixed acidity</th>\n",
       "      <th>volatile acidity</th>\n",
       "      <th>citric acid</th>\n",
       "      <th>residual sugar</th>\n",
       "      <th>chlorides</th>\n",
       "      <th>free sulfur dioxide</th>\n",
       "      <th>total sulfur dioxide</th>\n",
       "      <th>density</th>\n",
       "      <th>pH</th>\n",
       "      <th>sulphates</th>\n",
       "      <th>alcohol</th>\n",
       "      <th>quality</th>\n",
       "    </tr>\n",
       "  </thead>\n",
       "  <tbody>\n",
       "    <tr>\n",
       "      <th>0</th>\n",
       "      <td>7.4</td>\n",
       "      <td>0.70</td>\n",
       "      <td>0.0</td>\n",
       "      <td>1.9</td>\n",
       "      <td>0.076</td>\n",
       "      <td>11.0</td>\n",
       "      <td>34.0</td>\n",
       "      <td>0.9978</td>\n",
       "      <td>3.51</td>\n",
       "      <td>0.56</td>\n",
       "      <td>9.4</td>\n",
       "      <td>5</td>\n",
       "    </tr>\n",
       "    <tr>\n",
       "      <th>1</th>\n",
       "      <td>7.8</td>\n",
       "      <td>0.88</td>\n",
       "      <td>0.0</td>\n",
       "      <td>2.6</td>\n",
       "      <td>0.098</td>\n",
       "      <td>25.0</td>\n",
       "      <td>67.0</td>\n",
       "      <td>0.9968</td>\n",
       "      <td>3.20</td>\n",
       "      <td>0.68</td>\n",
       "      <td>9.8</td>\n",
       "      <td>5</td>\n",
       "    </tr>\n",
       "  </tbody>\n",
       "</table>\n",
       "</div>"
      ],
      "text/plain": [
       "   fixed acidity  volatile acidity  citric acid  residual sugar  chlorides  \\\n",
       "0            7.4              0.70          0.0             1.9      0.076   \n",
       "1            7.8              0.88          0.0             2.6      0.098   \n",
       "\n",
       "   free sulfur dioxide  total sulfur dioxide  density    pH  sulphates  \\\n",
       "0                 11.0                  34.0   0.9978  3.51       0.56   \n",
       "1                 25.0                  67.0   0.9968  3.20       0.68   \n",
       "\n",
       "   alcohol  quality  \n",
       "0      9.4        5  \n",
       "1      9.8        5  "
      ]
     },
     "execution_count": 4,
     "metadata": {},
     "output_type": "execute_result"
    }
   ],
   "source": [
    "import pandas as pd\n",
    "df = pd.read_csv('../data/winequality-red.csv', sep=';')\n",
    "df.head(2)"
   ]
  },
  {
   "cell_type": "markdown",
   "metadata": {},
   "source": [
    "### Renaming Columns\n",
    "You want to replace the spaces in the column labels with underscores to be able to reference columns with dot notation. Here's one way you could've done it."
   ]
  },
  {
   "cell_type": "code",
   "execution_count": 5,
   "metadata": {},
   "outputs": [
    {
     "data": {
      "text/html": [
       "<div>\n",
       "<style scoped>\n",
       "    .dataframe tbody tr th:only-of-type {\n",
       "        vertical-align: middle;\n",
       "    }\n",
       "\n",
       "    .dataframe tbody tr th {\n",
       "        vertical-align: top;\n",
       "    }\n",
       "\n",
       "    .dataframe thead th {\n",
       "        text-align: right;\n",
       "    }\n",
       "</style>\n",
       "<table border=\"1\" class=\"dataframe\">\n",
       "  <thead>\n",
       "    <tr style=\"text-align: right;\">\n",
       "      <th></th>\n",
       "      <th>fixed_acidity</th>\n",
       "      <th>volatile_acidity</th>\n",
       "      <th>citric_acid</th>\n",
       "      <th>residual_sugar</th>\n",
       "      <th>chlorides</th>\n",
       "      <th>free_sulfur_dioxide</th>\n",
       "      <th>total_sulfur_dioxide</th>\n",
       "      <th>density</th>\n",
       "      <th>pH</th>\n",
       "      <th>sulphates</th>\n",
       "      <th>alcohol</th>\n",
       "      <th>quality</th>\n",
       "    </tr>\n",
       "  </thead>\n",
       "  <tbody>\n",
       "    <tr>\n",
       "      <th>0</th>\n",
       "      <td>7.4</td>\n",
       "      <td>0.70</td>\n",
       "      <td>0.0</td>\n",
       "      <td>1.9</td>\n",
       "      <td>0.076</td>\n",
       "      <td>11.0</td>\n",
       "      <td>34.0</td>\n",
       "      <td>0.9978</td>\n",
       "      <td>3.51</td>\n",
       "      <td>0.56</td>\n",
       "      <td>9.4</td>\n",
       "      <td>5</td>\n",
       "    </tr>\n",
       "    <tr>\n",
       "      <th>1</th>\n",
       "      <td>7.8</td>\n",
       "      <td>0.88</td>\n",
       "      <td>0.0</td>\n",
       "      <td>2.6</td>\n",
       "      <td>0.098</td>\n",
       "      <td>25.0</td>\n",
       "      <td>67.0</td>\n",
       "      <td>0.9968</td>\n",
       "      <td>3.20</td>\n",
       "      <td>0.68</td>\n",
       "      <td>9.8</td>\n",
       "      <td>5</td>\n",
       "    </tr>\n",
       "  </tbody>\n",
       "</table>\n",
       "</div>"
      ],
      "text/plain": [
       "   fixed_acidity  volatile_acidity  citric_acid  residual_sugar  chlorides  \\\n",
       "0            7.4              0.70          0.0             1.9      0.076   \n",
       "1            7.8              0.88          0.0             2.6      0.098   \n",
       "\n",
       "   free_sulfur_dioxide  total_sulfur_dioxide  density    pH  sulphates  \\\n",
       "0                 11.0                  34.0   0.9978  3.51       0.56   \n",
       "1                 25.0                  67.0   0.9968  3.20       0.68   \n",
       "\n",
       "   alcohol  quality  \n",
       "0      9.4        5  \n",
       "1      9.8        5  "
      ]
     },
     "execution_count": 5,
     "metadata": {},
     "output_type": "execute_result"
    }
   ],
   "source": [
    "# renaming\n",
    "new_df = df.rename(columns={'fixed acidity': 'fixed_acidity',\n",
    "                             'volatile acidity': 'volatile_acidity',\n",
    "                             'citric acid': 'citric_acid',\n",
    "                             'residual sugar': 'residual_sugar',\n",
    "                             'free sulfur dioxide': 'free_sulfur_dioxide',\n",
    "                             'total sulfur dioxide': 'total_sulfur_dioxide'\n",
    "                            })\n",
    "new_df.head(2)"
   ]
  },
  {
   "cell_type": "code",
   "execution_count": 6,
   "metadata": {},
   "outputs": [
    {
     "name": "stdout",
     "output_type": "stream",
     "text": [
      "Index(['fixed_acidity', 'volatile_acidity', 'citric_acid', 'residual_sugar',\n",
      "       'chlorides', 'free_sulfur_dioxide', 'total_sulfur_dioxide', 'density',\n",
      "       'pH', 'sulphates', 'alcohol', 'quality'],\n",
      "      dtype='object')\n"
     ]
    }
   ],
   "source": [
    "# renaming using using list comprehension\n",
    "df.columns = [label.replace(' ', '_') for label in df.columns]\n",
    "print(df.columns)"
   ]
  },
  {
   "cell_type": "markdown",
   "metadata": {},
   "source": [
    "### Analyzing Features\n",
    "Now that your columns are ready, you want to see how different features of this dataset relate to the quality rating of the wine. A very simple way you could do this is by observing the mean quality rating for the top and bottom half of each feature. The code below does this for four features. It looks pretty repetitive right now. Can you make this more concise? "
   ]
  },
  {
   "cell_type": "code",
   "execution_count": 7,
   "metadata": {},
   "outputs": [],
   "source": [
    "def numeric_to_buckets(df, column_name):\n",
    "    median = df[column_name].median()\n",
    "    for i, val in enumerate(df[column_name]):\n",
    "        if val >= median:\n",
    "            df.loc[i, column_name] = 'high'\n",
    "        else:\n",
    "            df.loc[i, column_name] = 'low' "
   ]
  },
  {
   "cell_type": "code",
   "execution_count": 8,
   "metadata": {},
   "outputs": [
    {
     "name": "stdout",
     "output_type": "stream",
     "text": [
      "fixed_acidity\n",
      "high    5.726061\n",
      "low     5.540052\n",
      "Name: quality, dtype: float64 \n",
      "\n",
      "volatile_acidity\n",
      "high    5.392157\n",
      "low     5.890166\n",
      "Name: quality, dtype: float64 \n",
      "\n",
      "citric_acid\n",
      "high    5.822360\n",
      "low     5.447103\n",
      "Name: quality, dtype: float64 \n",
      "\n",
      "residual_sugar\n",
      "high    5.665880\n",
      "low     5.602394\n",
      "Name: quality, dtype: float64 \n",
      "\n",
      "chlorides\n",
      "high    5.507194\n",
      "low     5.776471\n",
      "Name: quality, dtype: float64 \n",
      "\n",
      "free_sulfur_dioxide\n",
      "high    5.595268\n",
      "low     5.677136\n",
      "Name: quality, dtype: float64 \n",
      "\n",
      "total_sulfur_dioxide\n",
      "high    5.522981\n",
      "low     5.750630\n",
      "Name: quality, dtype: float64 \n",
      "\n",
      "density\n",
      "high    5.540574\n",
      "low     5.731830\n",
      "Name: quality, dtype: float64 \n",
      "\n",
      "pH\n",
      "high    5.598039\n",
      "low     5.675607\n",
      "Name: quality, dtype: float64 \n",
      "\n",
      "sulphates\n",
      "high    5.898917\n",
      "low     5.351562\n",
      "Name: quality, dtype: float64 \n",
      "\n",
      "alcohol\n",
      "high    5.958904\n",
      "low     5.310302\n",
      "Name: quality, dtype: float64 \n",
      "\n"
     ]
    }
   ],
   "source": [
    "# select all coulumn but the last one (quality)\n",
    "for feature in df.columns[:-1]:\n",
    "    numeric_to_buckets(df, feature)\n",
    "    print(df.groupby(feature).quality.mean(), '\\n')"
   ]
  },
  {
   "cell_type": "markdown",
   "metadata": {},
   "source": [
    "### groupby example"
   ]
  },
  {
   "cell_type": "code",
   "execution_count": 9,
   "metadata": {},
   "outputs": [
    {
     "name": "stdout",
     "output_type": "stream",
     "text": [
      "   Animal  Max_Speed\n",
      "0  Falcon      380.0\n",
      "1  Falcon      370.0\n",
      "2  Parrot       24.0\n",
      "3  Parrot       26.0\n"
     ]
    }
   ],
   "source": [
    "df = pd.DataFrame({'Animal': ['Falcon', 'Falcon',\n",
    "                              'Parrot', 'Parrot'],\n",
    "                   'Max_Speed': [380., 370., 24., 26.]})\n",
    "print(df)"
   ]
  },
  {
   "cell_type": "code",
   "execution_count": 10,
   "metadata": {},
   "outputs": [
    {
     "data": {
      "text/plain": [
       "Animal\n",
       "Falcon    375.0\n",
       "Parrot     25.0\n",
       "Name: Max_Speed, dtype: float64"
      ]
     },
     "execution_count": 10,
     "metadata": {},
     "output_type": "execute_result"
    }
   ],
   "source": [
    "df.groupby('Animal').Max_Speed.mean()"
   ]
  },
  {
   "cell_type": "markdown",
   "metadata": {},
   "source": [
    "### enumerate example"
   ]
  },
  {
   "cell_type": "code",
   "execution_count": 11,
   "metadata": {},
   "outputs": [
    {
     "name": "stdout",
     "output_type": "stream",
     "text": [
      "0 residual_sugar\n",
      "1 density\n",
      "2 pH\n",
      "3 sulphates\n",
      "4 alcohol\n"
     ]
    }
   ],
   "source": [
    "columns = ['residual_sugar','density','pH','sulphates','alcohol']\n",
    "for i, col in enumerate(columns):\n",
    "    print(i, col)"
   ]
  },
  {
   "cell_type": "markdown",
   "metadata": {},
   "source": [
    "## Efficient Code\n",
    "* Execute faster\n",
    "* Take up less space in memory/storage"
   ]
  },
  {
   "cell_type": "markdown",
   "metadata": {},
   "source": [
    "### Optimizing Code: Common Books\n",
    "Here's the code your coworker wrote to find the common book ids in `books_published_last_two_years.txt` and `all_coding_books.txt` to obtain a list of recent coding books."
   ]
  },
  {
   "cell_type": "code",
   "execution_count": 12,
   "metadata": {},
   "outputs": [],
   "source": [
    "import time\n",
    "import pandas as pd\n",
    "import numpy as np"
   ]
  },
  {
   "cell_type": "code",
   "execution_count": 13,
   "metadata": {},
   "outputs": [],
   "source": [
    "with open('../data/books_published_last_two_years.txt') as f:\n",
    "    recent_books = f.read().split('\\n')\n",
    "    \n",
    "with open('../data/all_coding_books.txt') as f:\n",
    "    coding_books = f.read().split('\\n')"
   ]
  },
  {
   "cell_type": "code",
   "execution_count": 14,
   "metadata": {},
   "outputs": [
    {
     "name": "stdout",
     "output_type": "stream",
     "text": [
      "96\n",
      "Duration: 15.209768056869507 seconds\n"
     ]
    }
   ],
   "source": [
    "# inefficient way\n",
    "start = time.time()\n",
    "recent_coding_books = []\n",
    "\n",
    "for book in recent_books:\n",
    "    if book in coding_books:\n",
    "        recent_coding_books.append(book)\n",
    "\n",
    "print(len(recent_coding_books))\n",
    "print('Duration: {} seconds'.format(time.time() - start))"
   ]
  },
  {
   "cell_type": "markdown",
   "metadata": {},
   "source": [
    "#### Tip #1: Use vector operations over loops when possible\n",
    "Use numpy's `intersect1d` method to get the intersection of the `recent_books` and `coding_books` arrays.\n",
    "\n",
    "**numpy.intersect1d()** function find the intersection of two arrays and return the sorted, unique values that are in both of the input arrays.\n",
    "```\n",
    "arr1 = np.array([1, 1, 2, 3, 4]) \n",
    "arr2 = np.array([2, 1, 4, 6]) \n",
    "    \n",
    "result = np.intersect1d(arr1, arr2)  \n",
    "print (result) \n",
    "[1 2 4]\n",
    "```"
   ]
  },
  {
   "cell_type": "code",
   "execution_count": 15,
   "metadata": {},
   "outputs": [
    {
     "name": "stdout",
     "output_type": "stream",
     "text": [
      "96\n",
      "Duration: 0.03148794174194336 seconds\n"
     ]
    }
   ],
   "source": [
    "start = time.time()\n",
    "recent_coding_books = np.intersect1d(recent_books, coding_books)\n",
    "print(len(recent_coding_books))\n",
    "print('Duration: {} seconds'.format(time.time() - start))"
   ]
  },
  {
   "cell_type": "markdown",
   "metadata": {},
   "source": [
    "#### Tip #2: Know your data structures and which methods are faster\n",
    "\n",
    "**resource:**  [What makes sets faster than lists](https://stackoverflow.com/questions/8929284/what-makes-sets-faster-than-lists/8929445#8929445)"
   ]
  },
  {
   "cell_type": "code",
   "execution_count": 16,
   "metadata": {},
   "outputs": [
    {
     "name": "stdout",
     "output_type": "stream",
     "text": [
      "96\n",
      "Duration: 0.00522303581237793 seconds\n"
     ]
    }
   ],
   "source": [
    "start = time.time()\n",
    "recent_coding_books = set(recent_books).intersection(coding_books)\n",
    "print(len(recent_coding_books))\n",
    "print('Duration: {} seconds'.format(time.time() - start))"
   ]
  },
  {
   "cell_type": "markdown",
   "metadata": {},
   "source": [
    "#### NOTE: Looks like using sets to compute the intersection is indeed most efficient in this case!"
   ]
  },
  {
   "cell_type": "markdown",
   "metadata": {},
   "source": [
    "### Optimizing Code: Holiday Gifts\n",
    "In the last example, you learned that using vectorized operations and more efficient data structures can optimize your code. Let's use these tips for one more example.\n",
    "\n",
    "Say your online gift store has one million users that each listed a gift on a wish list. You have the prices for each of these gifts stored in `gift_costs.txt`. For the holidays, you're going to give each customer their wish list gift for free if it is under 25 dollars. Now, you want to calculate the total cost of all gifts under 25 dollars to see how much you'd spend on free gifts. Here's one way you could've done it."
   ]
  },
  {
   "cell_type": "code",
   "execution_count": 17,
   "metadata": {},
   "outputs": [],
   "source": [
    "import time\n",
    "import numpy as np"
   ]
  },
  {
   "cell_type": "code",
   "execution_count": 18,
   "metadata": {},
   "outputs": [],
   "source": [
    "with open('../data/gift_costs.txt') as f:\n",
    "    gift_costs = f.read().split('\\n')"
   ]
  },
  {
   "cell_type": "code",
   "execution_count": null,
   "metadata": {},
   "outputs": [],
   "source": [
    "gift_costs = np.array(gift_costs).astype(int)  # convert string to int\n",
    "type(gift_costs)\n",
    "print(gift_costs)"
   ]
  },
  {
   "cell_type": "code",
   "execution_count": null,
   "metadata": {},
   "outputs": [],
   "source": [
    "# ineffiecient code\n",
    "start = time.time()\n",
    "\n",
    "total_price = 0\n",
    "for cost in gift_costs:\n",
    "    if cost < 25:\n",
    "        total_price += cost * 1.08  # add cost after tax\n",
    "\n",
    "print(total_price)\n",
    "print('Duration: {} seconds'.format(time.time() - start))"
   ]
  },
  {
   "cell_type": "markdown",
   "metadata": {},
   "source": [
    "#### Refactor Code\n",
    "**Hint:** Using numpy makes it very easy to select all the elements in an array that meet a certain condition, and then perform operations on them together all at once. You can them find the sum of what those values end up being."
   ]
  },
  {
   "cell_type": "code",
   "execution_count": null,
   "metadata": {},
   "outputs": [],
   "source": [
    "# first way\n",
    "start = time.time()\n",
    "\n",
    "total_price = gift_costs[gift_costs < 25].sum() * 1.08\n",
    "\n",
    "print(round(total_price, 2))\n",
    "print('Duration: {} seconds'.format(time.time() - start))"
   ]
  },
  {
   "cell_type": "code",
   "execution_count": null,
   "metadata": {},
   "outputs": [],
   "source": [
    "# second way\n",
    "start = time.time()\n",
    "\n",
    "total_price = np.sum(gift_costs[gift_costs < 25]) * 1.08\n",
    "\n",
    "print(round(total_price, 2))\n",
    "print('Duration: {} seconds'.format(time.time() - start))"
   ]
  },
  {
   "cell_type": "markdown",
   "metadata": {},
   "source": [
    "#### NOTE: numpy.sum(gift_costs) is faster that using the gift_costs.sum()"
   ]
  },
  {
   "cell_type": "markdown",
   "metadata": {},
   "source": [
    "## Documentation\n",
    "\n",
    "#### benefits\n",
    "* Helpful for clarifying complex parts of code\n",
    "* making your code easier to navigate\n",
    "* quickly conveying how and why different components of your program are used.\n",
    "\n",
    "#### types of documentation \n",
    "* In-line Comments - line level\n",
    "* Docstrings - module and function level\n",
    "* Project Documentation - project level"
   ]
  },
  {
   "cell_type": "markdown",
   "metadata": {},
   "source": [
    "#### Docstrings Example"
   ]
  },
  {
   "cell_type": "code",
   "execution_count": null,
   "metadata": {},
   "outputs": [],
   "source": [
    "# One line docstring\n",
    "def population_density(population, land_area):\n",
    "    \"\"\"Calculate the population density of an area.\"\"\"\n",
    "    return population / land_area"
   ]
  },
  {
   "cell_type": "code",
   "execution_count": null,
   "metadata": {},
   "outputs": [],
   "source": [
    "# multi line docstring\n",
    "def population_density(population, land_area):\n",
    "    \"\"\"Calculate the population density of an area.\n",
    "\n",
    "    Args:\n",
    "    population: int. The population of the area\n",
    "    land_area: int or float. This function is unit-agnostic, if you pass in values in terms of square km or square miles the function will return a density in those units.\n",
    "\n",
    "    Returns:\n",
    "    population_density: population/land_area. The population density of a \n",
    "    particular area.\n",
    "    \"\"\"\n",
    "    return population / land_area"
   ]
  },
  {
   "cell_type": "markdown",
   "metadata": {},
   "source": [
    "#### Project Documentation\n",
    "[Udacity README Course](https://classroom.udacity.com/courses/ud777)"
   ]
  },
  {
   "cell_type": "markdown",
   "metadata": {},
   "source": [
    "## Version Control In Data Science"
   ]
  },
  {
   "cell_type": "markdown",
   "metadata": {},
   "source": [
    "#### Scenario 1\n",
    "You have to stop working on a unfinished feature to start a more prioritize one.The solution is to create a new branch.\n",
    "\n",
    "![scenario1](../images/scenario1.png)"
   ]
  },
  {
   "cell_type": "markdown",
   "metadata": {},
   "source": [
    "STEP 1: You have a local version of this repository on your laptop, and to get the latest stable version, you pull from the develop branch.\n",
    "\n",
    "> Switch to the develop branch\n",
    ">\n",
    "> `git checkout develop`\n",
    "\n",
    "> Pull latest changes in the develop branch\n",
    ">\n",
    "> `git pull`\n",
    "\n",
    "STEP 2: When you start working on this demographic feature, you create a new branch for this called demographic, and start working on your code in this branch.\n",
    "\n",
    "> Create and switch to new branch called demographic from develop branch\n",
    ">\n",
    "> `git checkout -b demographic`\n",
    "\n",
    "> Work on this new feature and commit as you go\n",
    ">\n",
    "> `git commit -m 'added gender recommendations'`\n",
    ">\n",
    "> `git commit -m 'added location specific recommendations'`\n",
    ">\n",
    "> `...`\n",
    "\n",
    "STEP 3: However, in the middle of your work, you need to work on another feature. So you commit your changes on this demographic branch, and switch back to the develop branch.\n",
    "\n",
    "> Commit changes before switching\n",
    ">\n",
    "> `git commit -m 'refactored demographic gender and location recommendations '`\n",
    "\n",
    "\n",
    "> Switch to the develop branch \n",
    "> \n",
    "> `git checkout develop`\n",
    "\n",
    "STEP 4: From this stable develop branch, you create another branch for a new feature called friend_groups.\n",
    "\n",
    "> Create and switch to new branch called friend_groups from develop branch\n",
    ">\n",
    "> `git checkout -b friend_groups`\n",
    "\n",
    "STEP 5: After you finish your work on the friend_groups branch, you commit your changes, switch back to the development branch, merge it back to the develop branch, and push this to the remote repository’s develop branch.\n",
    "\n",
    "> Commit changes before switching\n",
    ">\n",
    "> `git commit -m 'finalized friend_groups recommendations '`\n",
    "\n",
    "> Switch to the develop branch\n",
    ">\n",
    "> `git checkout develop`\n",
    "\n",
    "> Merge friend_groups branch to develop\n",
    ">\n",
    "> `git merge --no-ff friends_groups`\n",
    "\n",
    "> Push to remote repository\n",
    ">\n",
    "> `git push origin develop`\n",
    "\n",
    "STEP 6: Now, you can switch back to the demographic branch to continue your progress on that feature.\n",
    "\n",
    "> Switch to the demographic branch\n",
    ">\n",
    "> `git checkout demographic`"
   ]
  },
  {
   "cell_type": "markdown",
   "metadata": {},
   "source": [
    "#### Scenario 2\n",
    "\n",
    "While tweaking the parameters to get the best model, all the configuration must be saved using commit that has the cross validation result in its comment message.\n",
    "\n",
    "![scenario12](../images/scenario2.png)"
   ]
  },
  {
   "cell_type": "markdown",
   "metadata": {},
   "source": [
    "Step 1: You check your commit history, seeing messages of the changes you made and how well it performed.\n",
    "\n",
    "> View log history\n",
    ">\n",
    "> `git log`\n",
    "\n",
    "Step 2: The model at this commit seemed to score the highest, so you decide to take a look.\n",
    "\n",
    "> Checkout a commit\n",
    ">\n",
    "> `git checkout bc90f2cbc9dc4e802b46e7a153aa106dc9a88560`\n",
    "\n",
    "After inspecting your code, you realize what modifications made this perform well, and use those for your model.\n",
    "\n",
    "Step 3: Now, you’re pretty confident merging this back into the development branch, and pushing the updated recommendation engine.\n",
    "\n",
    "> Switch to develop branch\n",
    ">\n",
    "> `git checkout develop`\n",
    "\n",
    "> Merge friend_groups branch to develop\n",
    ">\n",
    "> `git merge --no-ff friend_groups`\n",
    "\n",
    "> Push changes to remote repository\n",
    ">\n",
    "> `git push origin develop`"
   ]
  },
  {
   "cell_type": "markdown",
   "metadata": {},
   "source": [
    "#### Scenario 3\n",
    "\n",
    "two coworkers working on diffrent branches.\n",
    "\n",
    "![scenario3](../images/scenario3.png)"
   ]
  },
  {
   "cell_type": "markdown",
   "metadata": {},
   "source": [
    "Step 1: Andrew commits his changes to the documentation branch, switches to the development branch, and pulls down the latest changes from the cloud on this development branch, including the change I merged previously for the friends group feature.\n",
    "\n",
    "> Commit changes on documentation branch\n",
    ">\n",
    "> `git commit -m \"standardized all docstrings in process.py\"`\n",
    "\n",
    "> Switch to develop branch\n",
    ">\n",
    "> `git checkout develop`\n",
    "\n",
    "> Pull latest changes on develop down\n",
    ">\n",
    "> `git pull`\n",
    "\n",
    "Step 2: Then, Andrew merges his documentation branch on the develop branch on his local repository, and then pushes his changes up to update the develop branch on the remote repository.\n",
    "\n",
    "> Merge documentation branch to develop\n",
    ">\n",
    "> `git merge --no-ff documentation`\n",
    "\n",
    "> Push changes up to remote repository\n",
    ">\n",
    "> `git push origin develop`\n",
    "\n",
    "Step 3: After the team reviewed both of your work, they merge the updates from the development branch to the master branch. Now they push the changes to the master branch on the remote repository. These changes are now in production.\n",
    "\n",
    "> Merge develop to master\n",
    ">\n",
    "> `git merge --no-ff develop`\n",
    "\n",
    "> Push changes up to remote repository\n",
    ">\n",
    "> `git push origin master`"
   ]
  },
  {
   "cell_type": "markdown",
   "metadata": {},
   "source": [
    "#### Git Great Resources\n",
    "[A successful Git branching model](https://nvie.com/posts/a-successful-git-branching-model/)\n",
    "\n",
    "[About merge conflicts](https://docs.github.com/en/github/collaborating-with-issues-and-pull-requests/about-merge-conflicts)"
   ]
  },
  {
   "cell_type": "markdown",
   "metadata": {},
   "source": [
    "### Model Versioning\n",
    "\n",
    "each commit will be documented with a score for that model.\n",
    "\n",
    "[How to version control your production machine learning models](https://algorithmia.com/blog/how-to-version-control-your-production-machine-learning-models)"
   ]
  }
 ],
 "metadata": {
  "kernelspec": {
   "display_name": "Python 3",
   "language": "python",
   "name": "python3"
  },
  "language_info": {
   "codemirror_mode": {
    "name": "ipython",
    "version": 3
   },
   "file_extension": ".py",
   "mimetype": "text/x-python",
   "name": "python",
   "nbconvert_exporter": "python",
   "pygments_lexer": "ipython3",
   "version": "3.8.1"
  }
 },
 "nbformat": 4,
 "nbformat_minor": 4
}
