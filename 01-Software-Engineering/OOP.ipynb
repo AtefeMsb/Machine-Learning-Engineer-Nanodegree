{
 "cells": [
  {
   "cell_type": "markdown",
   "metadata": {},
   "source": [
    "#### Function vs Method\n",
    "\n",
    "A function and a method look very similar. They both use the def keyword. They also have inputs and return outputs. The difference is that a method is inside of a class whereas a function is outside of a class.\n",
    "\n",
    "#### What is self?\n",
    "\n",
    "self is a dictionary that includes all the object attributes and their values in it.\n",
    "\n",
    "#### Set and Get methods\n",
    "\n",
    "Accessing attributes directly would be frowned upon in many other languages but not in Python. Instead, the general object-oriented programming convention is to use methods to access attributes or change attribute values. These methods are called set and get methods or setter and getter methods.\n",
    "\n",
    "A get method is for obtaining an attribute value. A set method is for changing an attribute value.\n",
    "\n",
    "```\n",
    "class Shirt:\n",
    "\n",
    "    def __init__(self, shirt_color, shirt_size, shirt_style, shirt_price):\n",
    "        self._price = shirt_price\n",
    "\n",
    "    def get_price(self):\n",
    "      return self._price\n",
    "\n",
    "    def set_price(self, new_price):\n",
    "      self._price = new_price\n",
    "```\n",
    "\n",
    "Instantiating and using an object might look like this:\n",
    "\n",
    "```\n",
    "shirt_one = Shirt('yellow', 'M', 'long-sleeve', 15)\n",
    "print(shirt_one.get_price())\n",
    "shirt_one.set_price(10)\n",
    "```\n",
    "\n",
    "In the class definition, the underscore in front of price is a somewhat controversial Python convention. In other languages like C++ or Java, price could be explicitly labeled as a private variable. This would prohibit an object from accessing the price attribute directly like shirt_one._price = 15. However, Python does not distinguish between private and public variables like other languages. Therefore, there is some controversy about using the underscore convention as well as get and set methods in Python. Why use get and set methods in Python when Python wasn't designed to use them?\n",
    "\n",
    "At the same time, you'll find that some Python programmers develop object-oriented programs using get and set methods anyway. Following the Python convention, the underscore in front of price is to let a programmer know that price should only be accessed with get and set methods rather than accessing price directly with shirt_one._price. However, a programmer could still access _price directly because there is nothing in the Python language to prevent the direct access.\n",
    "\n",
    "One of the benefits of set and get methods is that, as previously mentioned in the course, you can hide the implementation from your user. Maybe originally a variable was coded as a list and later became a dictionary. With set and get methods, you could easily change how that variable gets accessed. Without set and get methods, you'd have to go to every place in the code that accessed the variable directly and change the code.\n",
    "\n",
    "[get and set method](https://www.python-course.eu/python3_properties.php)\n",
    "\n",
    "\n",
    "#### Modularized Code\n",
    "\n",
    "You would put the Shirt class into its own Python script called, say, shirt.py. And then in another Python script, you would import the Shirt class with a line like: from shirt import Shirt."
   ]
  },
  {
   "cell_type": "markdown",
   "metadata": {},
   "source": [
    "#### Magic Methods\n",
    "\n",
    "they let you customize and overwrite default python behavior.\n",
    "example: `__repr__` and `__add__`"
   ]
  },
  {
   "cell_type": "markdown",
   "metadata": {},
   "source": [
    "### Resources for OOP\n",
    "[class methods, instance methods, and static methods ](https://realpython.com/instance-class-and-static-methods-demystified/)\n",
    "\n",
    "[Class and Instance Attributes](https://www.python-course.eu/python3_class_and_instance_attributes.php)\n",
    "\n",
    "[multiple inheritance, mixins](https://easyaspython.com/mixins-for-fun-and-profit-cb9962760556)\n",
    "\n",
    "[Python decorators](https://realpython.com/primer-on-python-decorators/)\n",
    "\n",
    "[Decorators](https://realpython.com/primer-on-python-decorators/)"
   ]
  },
  {
   "cell_type": "markdown",
   "metadata": {},
   "source": [
    "### Contributing to a GitHub project\n",
    "\n",
    "[Beginner's Guide to Contributing to a Github Project](https://akrabat.com/the-beginners-guide-to-contributing-to-a-github-project/#summary)\n",
    "\n",
    "[Contributing to a Github Project](https://github.com/MarcDiethelm/contributing/blob/master/README.md)\n",
    "\n",
    "[Configuring a remote for a fork\n",
    "](https://docs.github.com/en/github/collaborating-with-issues-and-pull-requests/configuring-a-remote-for-a-fork)"
   ]
  },
  {
   "cell_type": "code",
   "execution_count": null,
   "metadata": {},
   "outputs": [],
   "source": []
  }
 ],
 "metadata": {
  "kernelspec": {
   "display_name": "Python 3",
   "language": "python",
   "name": "python3"
  },
  "language_info": {
   "codemirror_mode": {
    "name": "ipython",
    "version": 3
   },
   "file_extension": ".py",
   "mimetype": "text/x-python",
   "name": "python",
   "nbconvert_exporter": "python",
   "pygments_lexer": "ipython3",
   "version": "3.8.1"
  }
 },
 "nbformat": 4,
 "nbformat_minor": 4
}
