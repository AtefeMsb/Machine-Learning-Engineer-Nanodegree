{
 "cells": [
  {
   "cell_type": "markdown",
   "metadata": {},
   "source": [
    "### Videos\n",
    "\n",
    "[Intro to create endpoint with mixture of high and low lavel API](https://www.youtube.com/watch?v=dwRkA0ig3uU&feature=emb_logo&ab_channel=Udacity)\n",
    "\n",
    "[Another example](https://www.youtube.com/watch?v=7TdiVF6qS1k&feature=emb_logo&ab_channel=Udacity)\n",
    "\n",
    "[A/B test](https://www.youtube.com/watch?v=OYYJerDHu0o&feature=emb_logo&ab_channel=Udacity)\n",
    "\n",
    "[Loading and Testing the New Data](https://www.youtube.com/watch?v=75RxW3R6674&feature=emb_logo&ab_channel=Udacity)\n",
    "\n",
    "[Exploring the New Data](https://www.youtube.com/watch?v=sEBK1dmiUfE&feature=emb_logo&ab_channel=Udacity)\n",
    "\n",
    "[Building a New Model](https://www.youtube.com/watch?v=RUVxrKcWAsU&feature=emb_logo&ab_channel=Udacity)\n",
    "\n",
    "[SageMaker Retrospective](https://www.youtube.com/watch?v=Vdacqn_w-e4&feature=emb_logo&ab_channel=Udacity)\n",
    "\n",
    "[Cleaning Up Your AWS Account](https://www.youtube.com/watch?v=8z24cb3EfMc&feature=emb_logo&ab_channel=Udacity)\n",
    "\n",
    "[Tips and Tricks](https://www.youtube.com/watch?v=ilnX9rUlV_w&feature=emb_logo&ab_channel=Udacity)\n",
    "\n",
    "### Documentation\n",
    "\n",
    "[Developer Documentation](https://docs.aws.amazon.com/sagemaker/latest/dg/whatis.html)\n",
    "[Python SDK Documentation (also known as the high level approach)](https://sagemaker.readthedocs.io/en/latest/)"
   ]
  },
  {
   "cell_type": "markdown",
   "metadata": {},
   "source": [
    "### Why\n",
    "In this lesson we are going to take a look at updating an existing endpoint so that it conforms to a different endpoint configuration. There are many reasons for wanting to do this, the two that we will look at are, performing an A/B test and updating a model which is no longer performing as well.\n",
    "\n",
    "To start, we will look at performing an A/B test between two different models. Then, once we've decided on a model to use, updating the existing endpoint so that it only sends data to a single model.\n",
    "\n",
    "For the second example, it may be the case that once we've built a model and begun using it, the assumptions on which our model is built begin to change.\n",
    "\n",
    "For instance, in the sentiment analysis examples that we've looked at our models are based on a vocabulary consisting of the 5000 most frequently appearing words in the training set. But what happens if, over time, the usage of words changes? Then our model may not be as accurate.\n",
    "\n",
    "When this happens we may need to modify our model, often this means re-training it. When we do, we'd like to update the existing endpoint without having to shut it down. Fortunately, SageMaker allows us to do this in a straightforward way."
   ]
  },
  {
   "cell_type": "markdown",
   "metadata": {},
   "source": [
    "Depending on the application you have in mind for a particular machine learning model, accuracy may not always be the metric you wish to optimize. There may be some other constraints on getting the model to work in production. For example, your model may not be very easy to interpret or maybe performing inference for a particular model may be too costly.\n",
    "\n",
    "In any case you may want to try alternative models. In the example we are working on here we construct a linear learner model as an alternative to the previously created XGBoost model.\n",
    "\n",
    "**Note: It is important to notice that the result returned by the linear learner model is json, compared to the csv data returned by the XGBoost model. You can't always assume that different models will return data in the same way although typically the return type is specified in the documentation.**"
   ]
  },
  {
   "cell_type": "markdown",
   "metadata": {},
   "source": [
    "Using the low level approach to creating endpoint configurations allows us to create endpoints that are more sophisticated. For example, endpoints which receive data and route that data to one of many different models.\n",
    "\n",
    "In addition, SageMaker provides functionality to update an existing endpoint so that it conforms to a different endpoint configuration. Further, SageMaker does this in a way that does not require the existing endpoint to be shut down.\n",
    "\n",
    "This is very beneficial as you may be working in an environment where there are other services that depend on your deployed endpoint."
   ]
  },
  {
   "cell_type": "markdown",
   "metadata": {},
   "source": [
    "### SageMaker Retrospective\n",
    "\n",
    "In this module we looked at various features offered by Amazon's SageMaker service. These features include the following.\n",
    "\n",
    "**Notebook Instances** provide a convenient place to process and explore data in addition to making it very easy to interact with the rest of SageMaker's features.\n",
    "\n",
    "**Training Jobs** allow us to create model artifacts by fitting various machine learning models to data.\n",
    "\n",
    "**Hyperparameter Tuning** allow us to create multiple training jobs each with different hyperparameters in order to find the hyperparameters that work best for a given problem.\n",
    "\n",
    "**Models** are essentially a combination of model artifacts formed during a training job and an associated docker container (code) that is used to perform inference.\n",
    "\n",
    "**Endpoint Configurations** act as blueprints for endpoints. They describe what sort of resources should be used when an endpoint is constructed along with which models should be used and, if multiple models are to be used, how the incoming data should be split up among the various models.\n",
    "\n",
    "**Endpoints** are the actual HTTP URLs that are created by SageMaker and which have properties specified by their associated endpoint configurations. Have you shut down your endpoints?\n",
    "\n",
    "**Batch Transform** is the method by which you can perform inference on a whole bunch of data at once. In contrast, setting up an endpoint allows you to perform inference on small amounts of data by sending it do the endpoint bit by bit.\n",
    "\n",
    "In addition to the features provided by SageMaker we used three other Amazon services.\n",
    "\n",
    "In particular, we used S3 as a central repository in which to store our data. This included test / training / validation data as well as model artifacts that we created during training.\n",
    "\n",
    "We also looked at how we could combine a deployed SageMaker endpoint with Lambda and API Gateway to create our own simple web app."
   ]
  },
  {
   "cell_type": "code",
   "execution_count": null,
   "metadata": {},
   "outputs": [],
   "source": []
  }
 ],
 "metadata": {
  "kernelspec": {
   "display_name": "Python 3",
   "language": "python",
   "name": "python3"
  },
  "language_info": {
   "codemirror_mode": {
    "name": "ipython",
    "version": 3
   },
   "file_extension": ".py",
   "mimetype": "text/x-python",
   "name": "python",
   "nbconvert_exporter": "python",
   "pygments_lexer": "ipython3",
   "version": "3.8.1"
  }
 },
 "nbformat": 4,
 "nbformat_minor": 4
}
