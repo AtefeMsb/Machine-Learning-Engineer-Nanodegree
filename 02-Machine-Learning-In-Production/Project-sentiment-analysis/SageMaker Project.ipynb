{
 "cells": [
  {
   "cell_type": "markdown",
   "metadata": {},
   "source": [
    "# Creating a Sentiment Analysis Web App\n",
    "## Using PyTorch and SageMaker\n",
    "\n",
    "_Deep Learning Nanodegree Program | Deployment_\n",
    "\n",
    "---\n",
    "\n",
    "Now that we have a basic understanding of how SageMaker works we will try to use it to construct a complete project from end to end. Our goal will be to have a simple web page which a user can use to enter a movie review. The web page will then send the review off to our deployed model which will predict the sentiment of the entered review.\n",
    "\n",
    "## Instructions\n",
    "\n",
    "Some template code has already been provided for you, and you will need to implement additional functionality to successfully complete this notebook. You will not need to modify the included code beyond what is requested. Sections that begin with '**TODO**' in the header indicate that you need to complete or implement some portion within them. Instructions will be provided for each section and the specifics of the implementation are marked in the code block with a `# TODO: ...` comment. Please be sure to read the instructions carefully!\n",
    "\n",
    "In addition to implementing code, there will be questions for you to answer which relate to the task and your implementation. Each section where you will answer a question is preceded by a '**Question:**' header. Carefully read each question and provide your answer below the '**Answer:**' header by editing the Markdown cell.\n",
    "\n",
    "> **Note**: Code and Markdown cells can be executed using the **Shift+Enter** keyboard shortcut. In addition, a cell can be edited by typically clicking it (double-click for Markdown cells) or by pressing **Enter** while it is highlighted.\n",
    "\n",
    "## General Outline\n",
    "\n",
    "Recall the general outline for SageMaker projects using a notebook instance.\n",
    "\n",
    "1. Download or otherwise retrieve the data.\n",
    "2. Process / Prepare the data.\n",
    "3. Upload the processed data to S3.\n",
    "4. Train a chosen model.\n",
    "5. Test the trained model (typically using a batch transform job).\n",
    "6. Deploy the trained model.\n",
    "7. Use the deployed model.\n",
    "\n",
    "For this project, you will be following the steps in the general outline with some modifications. \n",
    "\n",
    "First, you will not be testing the model in its own step. You will still be testing the model, however, you will do it by deploying your model and then using the deployed model by sending the test data to it. One of the reasons for doing this is so that you can make sure that your deployed model is working correctly before moving forward.\n",
    "\n",
    "In addition, you will deploy and use your trained model a second time. In the second iteration you will customize the way that your trained model is deployed by including some of your own code. In addition, your newly deployed model will be used in the sentiment analysis web app."
   ]
  },
  {
   "cell_type": "code",
   "execution_count": 1,
   "metadata": {},
   "outputs": [
    {
     "name": "stdout",
     "output_type": "stream",
     "text": [
      "Requirement already satisfied: sagemaker==1.72.0 in /home/ec2-user/anaconda3/envs/pytorch_p36/lib/python3.6/site-packages (1.72.0)\n",
      "Requirement already satisfied: importlib-metadata>=1.4.0 in /home/ec2-user/anaconda3/envs/pytorch_p36/lib/python3.6/site-packages (from sagemaker==1.72.0) (3.7.0)\n",
      "Requirement already satisfied: protobuf>=3.1 in /home/ec2-user/anaconda3/envs/pytorch_p36/lib/python3.6/site-packages (from sagemaker==1.72.0) (3.15.2)\n",
      "Requirement already satisfied: protobuf3-to-dict>=0.1.5 in /home/ec2-user/anaconda3/envs/pytorch_p36/lib/python3.6/site-packages (from sagemaker==1.72.0) (0.1.5)\n",
      "Requirement already satisfied: scipy>=0.19.0 in /home/ec2-user/anaconda3/envs/pytorch_p36/lib/python3.6/site-packages (from sagemaker==1.72.0) (1.5.3)\n",
      "Requirement already satisfied: smdebug-rulesconfig==0.1.4 in /home/ec2-user/anaconda3/envs/pytorch_p36/lib/python3.6/site-packages (from sagemaker==1.72.0) (0.1.4)\n",
      "Requirement already satisfied: packaging>=20.0 in /home/ec2-user/anaconda3/envs/pytorch_p36/lib/python3.6/site-packages (from sagemaker==1.72.0) (20.9)\n",
      "Requirement already satisfied: numpy>=1.9.0 in /home/ec2-user/anaconda3/envs/pytorch_p36/lib/python3.6/site-packages (from sagemaker==1.72.0) (1.19.5)\n",
      "Requirement already satisfied: boto3>=1.14.12 in /home/ec2-user/anaconda3/envs/pytorch_p36/lib/python3.6/site-packages (from sagemaker==1.72.0) (1.17.99)\n",
      "Requirement already satisfied: jmespath<1.0.0,>=0.7.1 in /home/ec2-user/anaconda3/envs/pytorch_p36/lib/python3.6/site-packages (from boto3>=1.14.12->sagemaker==1.72.0) (0.10.0)\n",
      "Requirement already satisfied: botocore<1.21.0,>=1.20.99 in /home/ec2-user/anaconda3/envs/pytorch_p36/lib/python3.6/site-packages (from boto3>=1.14.12->sagemaker==1.72.0) (1.20.99)\n",
      "Requirement already satisfied: s3transfer<0.5.0,>=0.4.0 in /home/ec2-user/anaconda3/envs/pytorch_p36/lib/python3.6/site-packages (from boto3>=1.14.12->sagemaker==1.72.0) (0.4.2)\n",
      "Requirement already satisfied: python-dateutil<3.0.0,>=2.1 in /home/ec2-user/anaconda3/envs/pytorch_p36/lib/python3.6/site-packages (from botocore<1.21.0,>=1.20.99->boto3>=1.14.12->sagemaker==1.72.0) (2.8.1)\n",
      "Requirement already satisfied: urllib3<1.27,>=1.25.4 in /home/ec2-user/anaconda3/envs/pytorch_p36/lib/python3.6/site-packages (from botocore<1.21.0,>=1.20.99->boto3>=1.14.12->sagemaker==1.72.0) (1.26.5)\n",
      "Requirement already satisfied: zipp>=0.5 in /home/ec2-user/anaconda3/envs/pytorch_p36/lib/python3.6/site-packages (from importlib-metadata>=1.4.0->sagemaker==1.72.0) (3.4.0)\n",
      "Requirement already satisfied: typing-extensions>=3.6.4 in /home/ec2-user/anaconda3/envs/pytorch_p36/lib/python3.6/site-packages (from importlib-metadata>=1.4.0->sagemaker==1.72.0) (3.7.4.3)\n",
      "Requirement already satisfied: pyparsing>=2.0.2 in /home/ec2-user/anaconda3/envs/pytorch_p36/lib/python3.6/site-packages (from packaging>=20.0->sagemaker==1.72.0) (2.4.7)\n",
      "Requirement already satisfied: six>=1.9 in /home/ec2-user/anaconda3/envs/pytorch_p36/lib/python3.6/site-packages (from protobuf>=3.1->sagemaker==1.72.0) (1.15.0)\n",
      "\u001b[33mWARNING: You are using pip version 21.1.2; however, version 21.2.1 is available.\n",
      "You should consider upgrading via the '/home/ec2-user/anaconda3/envs/pytorch_p36/bin/python -m pip install --upgrade pip' command.\u001b[0m\n"
     ]
    }
   ],
   "source": [
    "# Make sure that we use SageMaker 1.x\n",
    "!pip install sagemaker==1.72.0"
   ]
  },
  {
   "cell_type": "markdown",
   "metadata": {},
   "source": [
    "## Step 1: Downloading the data\n",
    "\n",
    "As in the XGBoost in SageMaker notebook, we will be using the [IMDb dataset](http://ai.stanford.edu/~amaas/data/sentiment/)\n",
    "\n",
    "> Maas, Andrew L., et al. [Learning Word Vectors for Sentiment Analysis](http://ai.stanford.edu/~amaas/data/sentiment/). In _Proceedings of the 49th Annual Meeting of the Association for Computational Linguistics: Human Language Technologies_. Association for Computational Linguistics, 2011."
   ]
  },
  {
   "cell_type": "code",
   "execution_count": 2,
   "metadata": {},
   "outputs": [
    {
     "name": "stdout",
     "output_type": "stream",
     "text": [
      "mkdir: cannot create directory ‘../data’: File exists\n",
      "--2021-07-29 21:07:43--  http://ai.stanford.edu/~amaas/data/sentiment/aclImdb_v1.tar.gz\n",
      "Resolving ai.stanford.edu (ai.stanford.edu)... 171.64.68.10\n",
      "Connecting to ai.stanford.edu (ai.stanford.edu)|171.64.68.10|:80... connected.\n",
      "HTTP request sent, awaiting response... 200 OK\n",
      "Length: 84125825 (80M) [application/x-gzip]\n",
      "Saving to: ‘../data/aclImdb_v1.tar.gz’\n",
      "\n",
      "../data/aclImdb_v1. 100%[===================>]  80.23M  20.7MB/s    in 5.9s    \n",
      "\n",
      "2021-07-29 21:07:49 (13.6 MB/s) - ‘../data/aclImdb_v1.tar.gz’ saved [84125825/84125825]\n",
      "\n"
     ]
    }
   ],
   "source": [
    "%mkdir ../data\n",
    "!wget -O ../data/aclImdb_v1.tar.gz http://ai.stanford.edu/~amaas/data/sentiment/aclImdb_v1.tar.gz\n",
    "!tar -zxf ../data/aclImdb_v1.tar.gz -C ../data"
   ]
  },
  {
   "cell_type": "markdown",
   "metadata": {},
   "source": [
    "## Step 2: Preparing and Processing the data\n",
    "\n",
    "Also, as in the XGBoost notebook, we will be doing some initial data processing. The first few steps are the same as in the XGBoost example. To begin with, we will read in each of the reviews and combine them into a single input structure. Then, we will split the dataset into a training set and a testing set."
   ]
  },
  {
   "cell_type": "code",
   "execution_count": 3,
   "metadata": {},
   "outputs": [],
   "source": [
    "import os\n",
    "import glob\n",
    "\n",
    "def read_imdb_data(data_dir='../data/aclImdb'):\n",
    "    data = {}\n",
    "    labels = {}\n",
    "    \n",
    "    for data_type in ['train', 'test']:\n",
    "        data[data_type] = {}\n",
    "        labels[data_type] = {}\n",
    "        \n",
    "        for sentiment in ['pos', 'neg']:\n",
    "            data[data_type][sentiment] = []\n",
    "            labels[data_type][sentiment] = []\n",
    "            \n",
    "            path = os.path.join(data_dir, data_type, sentiment, '*.txt')\n",
    "            files = glob.glob(path)\n",
    "            \n",
    "            for f in files:\n",
    "                with open(f) as review:\n",
    "                    data[data_type][sentiment].append(review.read())\n",
    "                    # Here we represent a positive review by '1' and a negative review by '0'\n",
    "                    labels[data_type][sentiment].append(1 if sentiment == 'pos' else 0)\n",
    "                    \n",
    "            assert len(data[data_type][sentiment]) == len(labels[data_type][sentiment]), \\\n",
    "                    \"{}/{} data size does not match labels size\".format(data_type, sentiment)\n",
    "                \n",
    "    return data, labels"
   ]
  },
  {
   "cell_type": "code",
   "execution_count": 4,
   "metadata": {},
   "outputs": [
    {
     "name": "stdout",
     "output_type": "stream",
     "text": [
      "IMDB reviews: train = 12500 pos / 12500 neg, test = 12500 pos / 12500 neg\n"
     ]
    }
   ],
   "source": [
    "data, labels = read_imdb_data()\n",
    "print(\"IMDB reviews: train = {} pos / {} neg, test = {} pos / {} neg\".format(\n",
    "            len(data['train']['pos']), len(data['train']['neg']),\n",
    "            len(data['test']['pos']), len(data['test']['neg'])))"
   ]
  },
  {
   "cell_type": "markdown",
   "metadata": {},
   "source": [
    "Now that we've read the raw training and testing data from the downloaded dataset, we will combine the positive and negative reviews and shuffle the resulting records."
   ]
  },
  {
   "cell_type": "code",
   "execution_count": 5,
   "metadata": {},
   "outputs": [],
   "source": [
    "from sklearn.utils import shuffle\n",
    "\n",
    "def prepare_imdb_data(data, labels):\n",
    "    \"\"\"Prepare training and test sets from IMDb movie reviews.\"\"\"\n",
    "    \n",
    "    #Combine positive and negative reviews and labels\n",
    "    data_train = data['train']['pos'] + data['train']['neg']\n",
    "    data_test = data['test']['pos'] + data['test']['neg']\n",
    "    labels_train = labels['train']['pos'] + labels['train']['neg']\n",
    "    labels_test = labels['test']['pos'] + labels['test']['neg']\n",
    "    \n",
    "    #Shuffle reviews and corresponding labels within training and test sets\n",
    "    data_train, labels_train = shuffle(data_train, labels_train)\n",
    "    data_test, labels_test = shuffle(data_test, labels_test)\n",
    "    \n",
    "    # Return a unified training data, test data, training labels, test labets\n",
    "    return data_train, data_test, labels_train, labels_test"
   ]
  },
  {
   "cell_type": "code",
   "execution_count": 6,
   "metadata": {},
   "outputs": [
    {
     "name": "stdout",
     "output_type": "stream",
     "text": [
      "IMDb reviews (combined): train = 25000, test = 25000\n"
     ]
    }
   ],
   "source": [
    "train_X, test_X, train_y, test_y = prepare_imdb_data(data, labels)\n",
    "print(\"IMDb reviews (combined): train = {}, test = {}\".format(len(train_X), len(test_X)))"
   ]
  },
  {
   "cell_type": "markdown",
   "metadata": {},
   "source": [
    "Now that we have our training and testing sets unified and prepared, we should do a quick check and see an example of the data our model will be trained on. This is generally a good idea as it allows you to see how each of the further processing steps affects the reviews and it also ensures that the data has been loaded correctly."
   ]
  },
  {
   "cell_type": "code",
   "execution_count": 7,
   "metadata": {},
   "outputs": [
    {
     "name": "stdout",
     "output_type": "stream",
     "text": [
      "Vince Lombardi High School has a new principal--the evil Ms. Togar (Mary Woronov). She intends to ban rock and roll music all together. She butts head with Riff Randall (P.J. Soles) who LOVES the Ramones. Also the head of the school football team (Vincent Van Patten) can't seem to connect with any girl--not realizing cute Kate Rambeau (Dey Young) is in love with him.<br /><br />An instant midnight movie. This was put in general release and almost immediately bombed--but as a midnight movie it was a huge hit and kept playing all through the 1980s. I remember attending more than a few of those when I was in college--it was like a party! People were singing along with the songs, laughing uproariously at every joke and generally just having fun.<br /><br />Seeing it now as an adult I can't imagine why I loved this so much. The script is juvenile and full of groaners that I couldn't believe I was hearing. Characters change at random and the movie goes jumping all over the place. What saves this are some truly funny lines and wonderful performances by Soles and Woronov (who is REALLY enjoying herself). Also everyone is full of energy and playing their roles WAY over the top (as they should). As for the Ramones...I was never a fan. I DO like the title tune but the rest of the songs never really caught me. If you're a Ramones fan you might give this a higher rating.<br /><br />SPOILER WARNING!!!! This is mostly for kids (it has a PG rating) who will probably find it silly but fun. I especially think they'll like the end when the high school is blown up! SPOILER END!!!!<br /><br />So, if you're in the mood for a silly midnight movie from the 1980s you might like this. Otherwise stay away. I give it a 7.\n",
      "1\n"
     ]
    }
   ],
   "source": [
    "print(train_X[100])\n",
    "print(train_y[100])"
   ]
  },
  {
   "cell_type": "markdown",
   "metadata": {},
   "source": [
    "The first step in processing the reviews is to make sure that any html tags that appear should be removed. In addition we wish to tokenize our input, that way words such as *entertained* and *entertaining* are considered the same with regard to sentiment analysis."
   ]
  },
  {
   "cell_type": "code",
   "execution_count": 8,
   "metadata": {},
   "outputs": [],
   "source": [
    "import nltk\n",
    "from nltk.corpus import stopwords\n",
    "from nltk.stem.porter import *\n",
    "\n",
    "import re\n",
    "from bs4 import BeautifulSoup\n",
    "\n",
    "def review_to_words(review):\n",
    "    nltk.download(\"stopwords\", quiet=True)\n",
    "    stemmer = PorterStemmer()\n",
    "    \n",
    "    text = BeautifulSoup(review, \"html.parser\").get_text() # Remove HTML tags\n",
    "    text = re.sub(r\"[^a-zA-Z0-9]\", \" \", text.lower()) # Convert to lower case\n",
    "    words = text.split() # Split string into words\n",
    "    words = [w for w in words if w not in stopwords.words(\"english\")] # Remove stopwords\n",
    "    words = [PorterStemmer().stem(w) for w in words] # stem\n",
    "    \n",
    "    return words"
   ]
  },
  {
   "cell_type": "markdown",
   "metadata": {},
   "source": [
    "The `review_to_words` method defined above uses `BeautifulSoup` to remove any html tags that appear and uses the `nltk` package to tokenize the reviews. As a check to ensure we know how everything is working, try applying `review_to_words` to one of the reviews in the training set."
   ]
  },
  {
   "cell_type": "code",
   "execution_count": 9,
   "metadata": {},
   "outputs": [
    {
     "name": "stdout",
     "output_type": "stream",
     "text": [
      "['vinc', 'lombardi', 'high', 'school', 'new', 'princip', 'evil', 'ms', 'togar', 'mari', 'woronov', 'intend', 'ban', 'rock', 'roll', 'music', 'togeth', 'butt', 'head', 'riff', 'randal', 'p', 'j', 'sole', 'love', 'ramon', 'also', 'head', 'school', 'footbal', 'team', 'vincent', 'van', 'patten', 'seem', 'connect', 'girl', 'realiz', 'cute', 'kate', 'rambeau', 'dey', 'young', 'love', 'instant', 'midnight', 'movi', 'put', 'gener', 'releas', 'almost', 'immedi', 'bomb', 'midnight', 'movi', 'huge', 'hit', 'kept', 'play', '1980', 'rememb', 'attend', 'colleg', 'like', 'parti', 'peopl', 'sing', 'along', 'song', 'laugh', 'uproari', 'everi', 'joke', 'gener', 'fun', 'see', 'adult', 'imagin', 'love', 'much', 'script', 'juvenil', 'full', 'groaner', 'believ', 'hear', 'charact', 'chang', 'random', 'movi', 'goe', 'jump', 'place', 'save', 'truli', 'funni', 'line', 'wonder', 'perform', 'sole', 'woronov', 'realli', 'enjoy', 'also', 'everyon', 'full', 'energi', 'play', 'role', 'way', 'top', 'ramon', 'never', 'fan', 'like', 'titl', 'tune', 'rest', 'song', 'never', 'realli', 'caught', 'ramon', 'fan', 'might', 'give', 'higher', 'rate', 'spoiler', 'warn', 'mostli', 'kid', 'pg', 'rate', 'probabl', 'find', 'silli', 'fun', 'especi', 'think', 'like', 'end', 'high', 'school', 'blown', 'spoiler', 'end', 'mood', 'silli', 'midnight', 'movi', '1980', 'might', 'like', 'otherwis', 'stay', 'away', 'give', '7']\n"
     ]
    }
   ],
   "source": [
    "# TODO: Apply review_to_words to a review (train_X[100] or any other review)\n",
    "print(review_to_words(train_X[100]))"
   ]
  },
  {
   "cell_type": "markdown",
   "metadata": {},
   "source": [
    "**Question:** Above we mentioned that `review_to_words` method removes html formatting and allows us to tokenize the words found in a review, for example, converting *entertained* and *entertaining* into *entertain* so that they are treated as though they are the same word. What else, if anything, does this method do to the input?"
   ]
  },
  {
   "cell_type": "markdown",
   "metadata": {},
   "source": [
    "**Answer:**\n",
    "\n",
    "* remove html formating\n",
    "* remove words that starts with anything but ascii characters(a-zA-Z0-9), so basically punctuations are removed\n",
    "* convert words to lowercase\n",
    "* remove English stopwords\n",
    "* tokenize the review into individuals words\n",
    "* convert words to word stem (using Porter Stemmer)"
   ]
  },
  {
   "cell_type": "markdown",
   "metadata": {},
   "source": [
    "The method below applies the `review_to_words` method to each of the reviews in the training and testing datasets. In addition it caches the results. This is because performing this processing step can take a long time. This way if you are unable to complete the notebook in the current session, you can come back without needing to process the data a second time."
   ]
  },
  {
   "cell_type": "code",
   "execution_count": 10,
   "metadata": {},
   "outputs": [],
   "source": [
    "import pickle\n",
    "\n",
    "cache_dir = os.path.join(\"../cache\", \"sentiment_analysis\")  # where to store cache files\n",
    "os.makedirs(cache_dir, exist_ok=True)  # ensure cache directory exists\n",
    "\n",
    "def preprocess_data(data_train, data_test, labels_train, labels_test,\n",
    "                    cache_dir=cache_dir, cache_file=\"preprocessed_data.pkl\"):\n",
    "    \"\"\"Convert each review to words; read from cache if available.\"\"\"\n",
    "\n",
    "    # If cache_file is not None, try to read from it first\n",
    "    cache_data = None\n",
    "    if cache_file is not None:\n",
    "        try:\n",
    "            with open(os.path.join(cache_dir, cache_file), \"rb\") as f:\n",
    "                cache_data = pickle.load(f)\n",
    "            print(\"Read preprocessed data from cache file:\", cache_file)\n",
    "        except:\n",
    "            pass  # unable to read from cache, but that's okay\n",
    "    \n",
    "    # If cache is missing, then do the heavy lifting\n",
    "    if cache_data is None:\n",
    "        # Preprocess training and test data to obtain words for each review\n",
    "        #words_train = list(map(review_to_words, data_train))\n",
    "        #words_test = list(map(review_to_words, data_test))\n",
    "        words_train = [review_to_words(review) for review in data_train]\n",
    "        words_test = [review_to_words(review) for review in data_test]\n",
    "        \n",
    "        # Write to cache file for future runs\n",
    "        if cache_file is not None:\n",
    "            cache_data = dict(words_train=words_train, words_test=words_test,\n",
    "                              labels_train=labels_train, labels_test=labels_test)\n",
    "            with open(os.path.join(cache_dir, cache_file), \"wb\") as f:\n",
    "                pickle.dump(cache_data, f)\n",
    "            print(\"Wrote preprocessed data to cache file:\", cache_file)\n",
    "    else:\n",
    "        # Unpack data loaded from cache file\n",
    "        words_train, words_test, labels_train, labels_test = (cache_data['words_train'],\n",
    "                cache_data['words_test'], cache_data['labels_train'], cache_data['labels_test'])\n",
    "    \n",
    "    return words_train, words_test, labels_train, labels_test"
   ]
  },
  {
   "cell_type": "code",
   "execution_count": 11,
   "metadata": {},
   "outputs": [
    {
     "name": "stdout",
     "output_type": "stream",
     "text": [
      "Read preprocessed data from cache file: preprocessed_data.pkl\n"
     ]
    }
   ],
   "source": [
    "# Preprocess data\n",
    "train_X, test_X, train_y, test_y = preprocess_data(train_X, test_X, train_y, test_y)"
   ]
  },
  {
   "cell_type": "markdown",
   "metadata": {},
   "source": [
    "## Transform the data\n",
    "\n",
    "In the XGBoost notebook we transformed the data from its word representation to a bag-of-words feature representation. For the model we are going to construct in this notebook we will construct a feature representation which is very similar. To start, we will represent each word as an integer. Of course, some of the words that appear in the reviews occur very infrequently and so likely don't contain much information for the purposes of sentiment analysis. The way we will deal with this problem is that we will fix the size of our working vocabulary and we will only include the words that appear most frequently. We will then combine all of the infrequent words into a single category and, in our case, we will label it as `1`.\n",
    "\n",
    "Since we will be using a recurrent neural network, it will be convenient if the length of each review is the same. To do this, we will fix a size for our reviews and then pad short reviews with the category 'no word' (which we will label `0`) and truncate long reviews."
   ]
  },
  {
   "cell_type": "markdown",
   "metadata": {},
   "source": [
    "### (TODO) Create a word dictionary\n",
    "\n",
    "To begin with, we need to construct a way to map words that appear in the reviews to integers. Here we fix the size of our vocabulary (including the 'no word' and 'infrequent' categories) to be `5000` but you may wish to change this to see how it affects the model.\n",
    "\n",
    "> **TODO:** Complete the implementation for the `build_dict()` method below. Note that even though the vocab_size is set to `5000`, we only want to construct a mapping for the most frequently appearing `4998` words. This is because we want to reserve the special labels `0` for 'no word' and `1` for 'infrequent word'."
   ]
  },
  {
   "cell_type": "code",
   "execution_count": 12,
   "metadata": {},
   "outputs": [],
   "source": [
    "import numpy as np\n",
    "\n",
    "def build_dict(data, vocab_size = 5000):\n",
    "    \"\"\"Construct and return a dictionary mapping each of the most frequently appearing words to a unique integer.\"\"\"\n",
    "    \n",
    "    # TODO: Determine how often each word appears in `data`. Note that `data` is a list of sentences and that a\n",
    "    #       sentence is a list of words.\n",
    "    \n",
    "    word_count = {} # A dict storing the words that appear in the reviews along with how often they occur\n",
    "    \n",
    "    for sentence in data:\n",
    "        for word in sentence:\n",
    "            if word in word_count:\n",
    "                word_count[word] += 1\n",
    "            else:\n",
    "                word_count[word] = 1\n",
    "    \n",
    "    # TODO: Sort the words found in `data` so that sorted_words[0] is the most frequently appearing word and\n",
    "    #       sorted_words[-1] is the least frequently appearing word.\n",
    "    \n",
    "    sorted_words = None\n",
    "    sorted_words = [word for word, count in sorted(word_count.items(), key=lambda x:x[1], reverse=True)]\n",
    "    \n",
    "    word_dict = {} # This is what we are building, a dictionary that translates words into integers\n",
    "    for idx, word in enumerate(sorted_words[:vocab_size - 2]): # The -2 is so that we save room for the 'no word'\n",
    "        word_dict[word] = idx + 2                              # 'infrequent' labels\n",
    "        \n",
    "    return word_dict"
   ]
  },
  {
   "cell_type": "code",
   "execution_count": 13,
   "metadata": {},
   "outputs": [
    {
     "name": "stdout",
     "output_type": "stream",
     "text": [
      "{'movi': 2, 'film': 3, 'one': 4, 'like': 5, 'time': 6, 'good': 7, 'make': 8, 'charact': 9, 'get': 10, 'see': 11, 'watch': 12, 'stori': 13, 'even': 14, 'would': 15, 'realli': 16, 'well': 17, 'scene': 18, 'look': 19, 'show': 20, 'much': 21, 'end': 22, 'peopl': 23, 'bad': 24, 'go': 25, 'great': 26, 'also': 27, 'first': 28, 'love': 29, 'think': 30, 'way': 31, 'act': 32, 'play': 33, 'made': 34, 'thing': 35, 'could': 36, 'know': 37, 'say': 38, 'seem': 39, 'work': 40, 'plot': 41, 'two': 42, 'actor': 43, 'year': 44, 'come': 45, 'mani': 46, 'seen': 47, 'take': 48, 'want': 49, 'life': 50, 'never': 51, 'littl': 52, 'best': 53, 'tri': 54, 'man': 55, 'ever': 56, 'give': 57, 'better': 58, 'still': 59, 'perform': 60, 'find': 61, 'feel': 62, 'part': 63, 'back': 64, 'use': 65, 'someth': 66, 'director': 67, 'actual': 68, 'interest': 69, 'lot': 70, 'real': 71, 'old': 72, 'cast': 73, 'though': 74, 'live': 75, 'star': 76, 'enjoy': 77, 'guy': 78, 'anoth': 79, 'new': 80, 'role': 81, 'noth': 82, '10': 83, 'funni': 84, 'music': 85, 'point': 86, 'start': 87, 'set': 88, 'girl': 89, 'origin': 90, 'day': 91, 'world': 92, 'everi': 93, 'believ': 94, 'turn': 95, 'quit': 96, 'direct': 97, 'us': 98, 'thought': 99, 'fact': 100, 'minut': 101, 'horror': 102, 'kill': 103, 'action': 104, 'comedi': 105, 'pretti': 106, 'young': 107, 'wonder': 108, 'happen': 109, 'around': 110, 'got': 111, 'effect': 112, 'right': 113, 'long': 114, 'howev': 115, 'big': 116, 'line': 117, 'famili': 118, 'enough': 119, 'seri': 120, 'may': 121, 'need': 122, 'fan': 123, 'bit': 124, 'script': 125, 'beauti': 126, 'person': 127, 'becom': 128, 'without': 129, 'must': 130, 'alway': 131, 'friend': 132, 'tell': 133, 'reason': 134, 'saw': 135, 'last': 136, 'final': 137, 'kid': 138, 'almost': 139, 'put': 140, 'least': 141, 'sure': 142, 'done': 143, 'whole': 144, 'place': 145, 'complet': 146, 'kind': 147, 'expect': 148, 'differ': 149, 'shot': 150, 'far': 151, 'mean': 152, 'anyth': 153, 'book': 154, 'laugh': 155, 'might': 156, 'name': 157, 'sinc': 158, 'begin': 159, '2': 160, 'probabl': 161, 'woman': 162, 'help': 163, 'entertain': 164, 'let': 165, 'screen': 166, 'call': 167, 'tv': 168, 'moment': 169, 'away': 170, 'read': 171, 'yet': 172, 'rather': 173, 'worst': 174, 'run': 175, 'fun': 176, 'lead': 177, 'hard': 178, 'audienc': 179, 'idea': 180, 'anyon': 181, 'episod': 182, 'american': 183, 'found': 184, 'appear': 185, 'bore': 186, 'especi': 187, 'although': 188, 'hope': 189, 'keep': 190, 'cours': 191, 'anim': 192, 'job': 193, 'goe': 194, 'move': 195, 'sens': 196, 'version': 197, 'dvd': 198, 'war': 199, 'money': 200, 'someon': 201, 'mind': 202, 'mayb': 203, 'problem': 204, 'true': 205, 'hous': 206, 'everyth': 207, 'nice': 208, 'second': 209, 'rate': 210, 'three': 211, 'night': 212, 'face': 213, 'follow': 214, 'recommend': 215, 'main': 216, 'product': 217, 'worth': 218, 'leav': 219, 'human': 220, 'special': 221, 'excel': 222, 'togeth': 223, 'wast': 224, 'sound': 225, 'everyon': 226, 'john': 227, 'hand': 228, '1': 229, 'father': 230, 'later': 231, 'eye': 232, 'said': 233, 'view': 234, 'instead': 235, 'review': 236, 'boy': 237, 'high': 238, 'hour': 239, 'miss': 240, 'classic': 241, 'talk': 242, 'wife': 243, 'understand': 244, 'left': 245, 'care': 246, 'black': 247, 'death': 248, 'open': 249, 'murder': 250, 'write': 251, 'half': 252, 'head': 253, 'rememb': 254, 'chang': 255, 'viewer': 256, 'fight': 257, 'gener': 258, 'surpris': 259, 'short': 260, 'includ': 261, 'die': 262, 'fall': 263, 'less': 264, 'els': 265, 'entir': 266, 'piec': 267, 'involv': 268, 'pictur': 269, 'simpli': 270, 'top': 271, 'power': 272, 'home': 273, 'total': 274, 'usual': 275, 'budget': 276, 'attempt': 277, 'suppos': 278, 'releas': 279, 'hollywood': 280, 'terribl': 281, 'song': 282, 'men': 283, 'possibl': 284, 'featur': 285, 'portray': 286, 'disappoint': 287, 'poor': 288, '3': 289, 'coupl': 290, 'stupid': 291, 'camera': 292, 'dead': 293, 'wrong': 294, 'low': 295, 'produc': 296, 'video': 297, 'either': 298, 'aw': 299, 'definit': 300, 'except': 301, 'rest': 302, 'given': 303, 'absolut': 304, 'women': 305, 'lack': 306, 'word': 307, 'writer': 308, 'titl': 309, 'talent': 310, 'decid': 311, 'full': 312, 'perfect': 313, 'along': 314, 'style': 315, 'close': 316, 'truli': 317, 'school': 318, 'save': 319, 'emot': 320, 'age': 321, 'sex': 322, 'next': 323, 'bring': 324, 'mr': 325, 'case': 326, 'killer': 327, 'heart': 328, 'comment': 329, 'sort': 330, 'creat': 331, 'perhap': 332, 'came': 333, 'brother': 334, 'sever': 335, 'joke': 336, 'art': 337, 'dialogu': 338, 'game': 339, 'small': 340, 'base': 341, 'flick': 342, 'written': 343, 'sequenc': 344, 'meet': 345, 'earli': 346, 'often': 347, 'other': 348, 'mother': 349, 'develop': 350, 'humor': 351, 'actress': 352, 'consid': 353, 'dark': 354, 'guess': 355, 'amaz': 356, 'unfortun': 357, 'light': 358, 'lost': 359, 'exampl': 360, 'cinema': 361, 'drama': 362, 'white': 363, 'ye': 364, 'experi': 365, 'imagin': 366, 'mention': 367, 'stop': 368, 'natur': 369, 'forc': 370, 'manag': 371, 'felt': 372, 'present': 373, 'cut': 374, 'children': 375, 'fail': 376, 'son': 377, 'car': 378, 'qualiti': 379, 'support': 380, 'ask': 381, 'hit': 382, 'side': 383, 'voic': 384, 'extrem': 385, 'impress': 386, 'wors': 387, 'evil': 388, 'stand': 389, 'went': 390, 'certainli': 391, 'basic': 392, 'oh': 393, 'overal': 394, 'favorit': 395, 'horribl': 396, 'mysteri': 397, 'number': 398, 'type': 399, 'danc': 400, 'wait': 401, 'hero': 402, 'alreadi': 403, '5': 404, 'learn': 405, 'matter': 406, '4': 407, 'michael': 408, 'genr': 409, 'fine': 410, 'despit': 411, 'throughout': 412, 'walk': 413, 'success': 414, 'histori': 415, 'question': 416, 'zombi': 417, 'town': 418, 'relationship': 419, 'realiz': 420, 'child': 421, 'past': 422, 'daughter': 423, 'late': 424, 'b': 425, 'wish': 426, 'hate': 427, 'credit': 428, 'event': 429, 'theme': 430, 'touch': 431, 'citi': 432, 'today': 433, 'sometim': 434, 'behind': 435, 'god': 436, 'twist': 437, 'sit': 438, 'annoy': 439, 'stay': 440, 'deal': 441, 'abl': 442, 'rent': 443, 'pleas': 444, 'edit': 445, 'blood': 446, 'deserv': 447, 'comic': 448, 'anyway': 449, 'appar': 450, 'soon': 451, 'gave': 452, 'etc': 453, 'level': 454, 'slow': 455, 'chanc': 456, 'score': 457, 'bodi': 458, 'brilliant': 459, 'incred': 460, 'figur': 461, 'situat': 462, 'major': 463, 'self': 464, 'stuff': 465, 'decent': 466, 'element': 467, 'dream': 468, 'return': 469, 'obvious': 470, 'continu': 471, 'order': 472, 'pace': 473, 'ridicul': 474, 'happi': 475, 'group': 476, 'highli': 477, 'add': 478, 'thank': 479, 'ladi': 480, 'novel': 481, 'speak': 482, 'pain': 483, 'career': 484, 'shoot': 485, 'strang': 486, 'heard': 487, 'sad': 488, 'husband': 489, 'polic': 490, 'import': 491, 'break': 492, 'took': 493, 'strong': 494, 'cannot': 495, 'robert': 496, 'predict': 497, 'violenc': 498, 'hilari': 499, 'recent': 500, 'countri': 501, 'known': 502, 'particularli': 503, 'pick': 504, 'documentari': 505, 'season': 506, 'critic': 507, 'jame': 508, 'compar': 509, 'obviou': 510, 'alon': 511, 'told': 512, 'state': 513, 'rock': 514, 'visual': 515, 'exist': 516, 'offer': 517, 'theater': 518, 'opinion': 519, 'gore': 520, 'crap': 521, 'hold': 522, 'result': 523, 'room': 524, 'hear': 525, 'realiti': 526, 'effort': 527, 'clich': 528, 'thriller': 529, 'caus': 530, 'sequel': 531, 'serious': 532, 'explain': 533, 'king': 534, 'local': 535, 'ago': 536, 'none': 537, 'hell': 538, 'note': 539, 'allow': 540, 'david': 541, 'sister': 542, 'simpl': 543, 'femal': 544, 'deliv': 545, 'ok': 546, 'convinc': 547, 'class': 548, 'check': 549, 'suspens': 550, 'win': 551, 'oscar': 552, 'buy': 553, 'huge': 554, 'valu': 555, 'sexual': 556, 'cool': 557, 'scari': 558, 'excit': 559, 'similar': 560, 'provid': 561, 'exactli': 562, 'apart': 563, 'avoid': 564, 'shown': 565, 'seriou': 566, 'english': 567, 'whose': 568, 'taken': 569, 'cinematographi': 570, 'shock': 571, 'polit': 572, 'spoiler': 573, 'offic': 574, 'across': 575, 'middl': 576, 'street': 577, 'pass': 578, 'messag': 579, 'somewhat': 580, 'charm': 581, 'silli': 582, 'modern': 583, 'confus': 584, 'filmmak': 585, 'form': 586, 'tale': 587, 'singl': 588, 'jack': 589, 'mostli': 590, 'attent': 591, 'carri': 592, 'william': 593, 'sing': 594, 'five': 595, 'subject': 596, 'richard': 597, 'prove': 598, 'stage': 599, 'team': 600, 'unlik': 601, 'cop': 602, 'georg': 603, 'monster': 604, 'televis': 605, 'earth': 606, 'villain': 607, 'cover': 608, 'pay': 609, 'marri': 610, 'toward': 611, 'build': 612, 'pull': 613, 'parent': 614, 'due': 615, 'respect': 616, 'fill': 617, 'dialog': 618, 'four': 619, 'remind': 620, 'futur': 621, 'typic': 622, 'weak': 623, '7': 624, 'cheap': 625, 'intellig': 626, 'british': 627, 'atmospher': 628, 'clearli': 629, '80': 630, 'paul': 631, 'non': 632, 'dog': 633, 'artist': 634, 'fast': 635, 'knew': 636, '8': 637, 'crime': 638, 'easili': 639, 'escap': 640, 'doubt': 641, 'adult': 642, 'detail': 643, 'date': 644, 'romant': 645, 'fire': 646, 'member': 647, 'drive': 648, 'gun': 649, 'straight': 650, 'fit': 651, 'beyond': 652, 'attack': 653, 'imag': 654, 'upon': 655, 'posit': 656, 'whether': 657, 'peter': 658, 'fantast': 659, 'appreci': 660, 'aspect': 661, 'captur': 662, 'ten': 663, 'plan': 664, 'discov': 665, 'remain': 666, 'near': 667, 'period': 668, 'air': 669, 'realist': 670, 'mark': 671, 'red': 672, 'dull': 673, 'adapt': 674, 'within': 675, 'spend': 676, 'lose': 677, 'materi': 678, 'color': 679, 'chase': 680, 'mari': 681, 'storylin': 682, 'forget': 683, 'bunch': 684, 'clear': 685, 'lee': 686, 'victim': 687, 'nearli': 688, 'box': 689, 'york': 690, 'inspir': 691, 'match': 692, 'finish': 693, 'mess': 694, 'standard': 695, 'easi': 696, 'truth': 697, 'suffer': 698, 'busi': 699, 'dramat': 700, 'bill': 701, 'space': 702, 'western': 703, 'e': 704, 'list': 705, 'battl': 706, 'notic': 707, 'de': 708, 'french': 709, 'ad': 710, '9': 711, 'tom': 712, 'larg': 713, 'among': 714, 'eventu': 715, 'train': 716, 'accept': 717, 'agre': 718, 'spirit': 719, 'soundtrack': 720, 'third': 721, 'teenag': 722, 'adventur': 723, 'soldier': 724, 'suggest': 725, 'sorri': 726, 'drug': 727, 'famou': 728, 'normal': 729, 'cri': 730, 'babi': 731, 'ultim': 732, 'troubl': 733, 'contain': 734, 'certain': 735, 'cultur': 736, 'romanc': 737, 'rare': 738, 'lame': 739, 'somehow': 740, 'disney': 741, 'mix': 742, 'gone': 743, 'cartoon': 744, 'student': 745, 'fear': 746, 'reveal': 747, 'suck': 748, 'kept': 749, 'attract': 750, 'appeal': 751, 'premis': 752, 'greatest': 753, 'secret': 754, 'design': 755, 'shame': 756, 'throw': 757, 'scare': 758, 'copi': 759, 'wit': 760, 'admit': 761, 'america': 762, 'brought': 763, 'particular': 764, 'relat': 765, 'screenplay': 766, 'whatev': 767, 'pure': 768, '70': 769, 'averag': 770, 'harri': 771, 'master': 772, 'describ': 773, 'treat': 774, 'male': 775, '20': 776, 'issu': 777, 'fantasi': 778, 'warn': 779, 'inde': 780, 'background': 781, 'forward': 782, 'free': 783, 'project': 784, 'memor': 785, 'japanes': 786, 'poorli': 787, 'award': 788, 'locat': 789, 'amus': 790, 'potenti': 791, 'struggl': 792, 'weird': 793, 'magic': 794, 'societi': 795, 'okay': 796, 'accent': 797, 'doctor': 798, 'imdb': 799, 'water': 800, 'hot': 801, '30': 802, 'alien': 803, 'dr': 804, 'express': 805, 'odd': 806, 'crazi': 807, 'choic': 808, 'fiction': 809, 'studio': 810, 'becam': 811, 'control': 812, 'masterpiec': 813, 'difficult': 814, 'fli': 815, 'joe': 816, 'scream': 817, 'costum': 818, 'lover': 819, 'uniqu': 820, 'refer': 821, 'remak': 822, 'girlfriend': 823, 'vampir': 824, 'prison': 825, 'execut': 826, 'wear': 827, 'jump': 828, 'wood': 829, 'unless': 830, 'creepi': 831, 'cheesi': 832, 'superb': 833, 'otherwis': 834, 'parti': 835, 'ghost': 836, 'roll': 837, 'mad': 838, 'public': 839, 'depict': 840, 'badli': 841, 'jane': 842, 'week': 843, 'moral': 844, 'earlier': 845, 'dumb': 846, 'fi': 847, 'grow': 848, 'flaw': 849, 'deep': 850, 'sci': 851, 'cat': 852, 'maker': 853, 'connect': 854, 'older': 855, 'footag': 856, 'bother': 857, 'plenti': 858, 'outsid': 859, 'stick': 860, 'gay': 861, 'catch': 862, 'plu': 863, 'co': 864, 'popular': 865, 'equal': 866, 'social': 867, 'disturb': 868, 'quickli': 869, 'perfectli': 870, 'dress': 871, '90': 872, 'era': 873, 'mistak': 874, 'lie': 875, 'previou': 876, 'ride': 877, 'combin': 878, 'band': 879, 'concept': 880, 'surviv': 881, 'answer': 882, 'rich': 883, 'front': 884, 'sweet': 885, 'christma': 886, 'insid': 887, 'bare': 888, 'eat': 889, 'concern': 890, 'beat': 891, 'ben': 892, 'listen': 893, 'c': 894, 'serv': 895, 'term': 896, 'meant': 897, 'german': 898, 'la': 899, 'stereotyp': 900, 'hardli': 901, 'innoc': 902, 'law': 903, 'desper': 904, 'promis': 905, 'memori': 906, 'intent': 907, 'cute': 908, 'steal': 909, 'inform': 910, 'variou': 911, 'brain': 912, 'post': 913, 'tone': 914, 'island': 915, 'amount': 916, 'nuditi': 917, 'compani': 918, 'track': 919, 'store': 920, 'claim': 921, 'hair': 922, 'flat': 923, '50': 924, 'land': 925, 'univers': 926, 'scott': 927, 'fairli': 928, 'danger': 929, 'kick': 930, 'player': 931, 'crew': 932, 'step': 933, 'plain': 934, 'toni': 935, 'share': 936, 'centuri': 937, 'tast': 938, 'engag': 939, 'achiev': 940, 'cold': 941, 'travel': 942, 'rip': 943, 'record': 944, 'suit': 945, 'sadli': 946, 'manner': 947, 'wrote': 948, 'tension': 949, 'spot': 950, 'intens': 951, 'fascin': 952, 'familiar': 953, 'remark': 954, 'depth': 955, 'burn': 956, 'destroy': 957, 'histor': 958, 'sleep': 959, 'purpos': 960, 'languag': 961, 'ruin': 962, 'ignor': 963, 'delight': 964, 'unbeliev': 965, 'italian': 966, 'soul': 967, 'collect': 968, 'abil': 969, 'clever': 970, 'detect': 971, 'violent': 972, 'rape': 973, 'reach': 974, 'door': 975, 'trash': 976, 'liter': 977, 'scienc': 978, 'caught': 979, 'reveng': 980, 'commun': 981, 'creatur': 982, 'trip': 983, 'approach': 984, 'intrigu': 985, 'fashion': 986, 'skill': 987, 'introduc': 988, 'paint': 989, 'channel': 990, 'complex': 991, 'camp': 992, 'christian': 993, 'extra': 994, 'hole': 995, 'immedi': 996, 'mental': 997, 'limit': 998, 'ann': 999, 'comput': 1000, '6': 1001, 'mere': 1002, 'million': 1003, 'slightli': 1004, 'conclus': 1005, 'slasher': 1006, 'imposs': 1007, 'suddenli': 1008, 'neither': 1009, 'crimin': 1010, 'teen': 1011, 'spent': 1012, 'physic': 1013, 'nation': 1014, 'respons': 1015, 'planet': 1016, 'fake': 1017, 'receiv': 1018, 'sick': 1019, 'blue': 1020, 'bizarr': 1021, 'embarrass': 1022, 'indian': 1023, '15': 1024, 'ring': 1025, 'pop': 1026, 'drop': 1027, 'drag': 1028, 'haunt': 1029, 'pointless': 1030, 'suspect': 1031, 'edg': 1032, 'search': 1033, 'handl': 1034, 'biggest': 1035, 'common': 1036, 'arriv': 1037, 'faith': 1038, 'hurt': 1039, 'technic': 1040, 'angel': 1041, 'genuin': 1042, 'dad': 1043, 'solid': 1044, 'awesom': 1045, 'f': 1046, 'van': 1047, 'former': 1048, 'colleg': 1049, 'focu': 1050, 'count': 1051, 'tear': 1052, 'heavi': 1053, 'wall': 1054, 'rais': 1055, 'laughabl': 1056, 'younger': 1057, 'visit': 1058, 'excus': 1059, 'sign': 1060, 'fair': 1061, 'cult': 1062, 'key': 1063, 'tough': 1064, 'motion': 1065, 'super': 1066, 'desir': 1067, 'addit': 1068, 'stun': 1069, 'exploit': 1070, 'cloth': 1071, 'smith': 1072, 'tortur': 1073, 'race': 1074, 'davi': 1075, 'cross': 1076, 'author': 1077, 'jim': 1078, 'minor': 1079, 'compel': 1080, 'consist': 1081, 'focus': 1082, 'pathet': 1083, 'chemistri': 1084, 'commit': 1085, 'park': 1086, 'obsess': 1087, 'frank': 1088, 'tradit': 1089, 'grade': 1090, 'asid': 1091, '60': 1092, 'brutal': 1093, 'somewher': 1094, 'steve': 1095, 'u': 1096, 'opportun': 1097, 'grant': 1098, 'explor': 1099, 'rule': 1100, 'depress': 1101, 'honest': 1102, 'besid': 1103, 'dub': 1104, 'anti': 1105, 'trailer': 1106, 'intend': 1107, 'bar': 1108, 'regard': 1109, 'west': 1110, 'scientist': 1111, 'longer': 1112, 'decad': 1113, 'judg': 1114, 'silent': 1115, 'armi': 1116, 'creativ': 1117, 'wild': 1118, 'g': 1119, 'south': 1120, 'stewart': 1121, 'draw': 1122, 'road': 1123, 'govern': 1124, 'boss': 1125, 'ex': 1126, 'practic': 1127, 'surprisingli': 1128, 'festiv': 1129, 'gang': 1130, 'motiv': 1131, 'club': 1132, 'london': 1133, 'green': 1134, 'redeem': 1135, 'page': 1136, 'aliv': 1137, 'militari': 1138, 'machin': 1139, 'display': 1140, 'idiot': 1141, 'repeat': 1142, 'thrill': 1143, 'nobodi': 1144, 'yeah': 1145, '100': 1146, 'folk': 1147, '40': 1148, 'journey': 1149, 'garbag': 1150, 'smile': 1151, 'ground': 1152, 'tire': 1153, 'mood': 1154, 'bought': 1155, 'stone': 1156, 'sam': 1157, 'cost': 1158, 'noir': 1159, 'mouth': 1160, 'terrif': 1161, 'agent': 1162, 'utterli': 1163, 'requir': 1164, 'area': 1165, 'honestli': 1166, 'sexi': 1167, 'geniu': 1168, 'report': 1169, 'glad': 1170, 'enter': 1171, 'humour': 1172, 'investig': 1173, 'serial': 1174, 'occasion': 1175, 'narr': 1176, 'passion': 1177, 'climax': 1178, 'marriag': 1179, 'studi': 1180, 'industri': 1181, 'center': 1182, 'nowher': 1183, 'demon': 1184, 'ship': 1185, 'charli': 1186, 'hors': 1187, 'loos': 1188, 'bear': 1189, 'wow': 1190, 'hang': 1191, 'graphic': 1192, 'admir': 1193, 'giant': 1194, 'send': 1195, 'damn': 1196, 'loud': 1197, 'subtl': 1198, 'nake': 1199, 'rel': 1200, 'profession': 1201, 'blow': 1202, 'bottom': 1203, 'insult': 1204, 'batman': 1205, 'boyfriend': 1206, 'kelli': 1207, 'doubl': 1208, 'r': 1209, 'initi': 1210, 'frame': 1211, 'opera': 1212, 'gem': 1213, 'church': 1214, 'affect': 1215, 'drawn': 1216, 'cinemat': 1217, 'challeng': 1218, 'nightmar': 1219, 'j': 1220, 'seek': 1221, 'evid': 1222, 'fulli': 1223, 'l': 1224, 'arm': 1225, 'essenti': 1226, 'conflict': 1227, 'wind': 1228, 'grace': 1229, 'christoph': 1230, 'henri': 1231, 'narrat': 1232, 'assum': 1233, 'witch': 1234, 'hunt': 1235, 'push': 1236, 'wise': 1237, 'chri': 1238, 'repres': 1239, 'nomin': 1240, 'month': 1241, 'avail': 1242, 'affair': 1243, 'hide': 1244, 'sceneri': 1245, 'thu': 1246, 'bond': 1247, 'smart': 1248, 'justic': 1249, 'outstand': 1250, 'interview': 1251, 'flashback': 1252, 'constantli': 1253, 'satisfi': 1254, 'presenc': 1255, 'bed': 1256, 'central': 1257, 'sell': 1258, 'iron': 1259, 'content': 1260, 'everybodi': 1261, 'gag': 1262, 'slowli': 1263, 'hotel': 1264, 'hire': 1265, 'system': 1266, 'thrown': 1267, 'hey': 1268, 'individu': 1269, 'charl': 1270, 'adam': 1271, 'allen': 1272, 'jone': 1273, 'mediocr': 1274, 'ray': 1275, 'lesson': 1276, 'billi': 1277, 'cameo': 1278, 'photographi': 1279, 'fellow': 1280, 'pari': 1281, 'strike': 1282, 'brief': 1283, 'rise': 1284, 'independ': 1285, 'absurd': 1286, 'neg': 1287, 'impact': 1288, 'phone': 1289, 'born': 1290, 'ill': 1291, 'model': 1292, 'spoil': 1293, 'angl': 1294, 'fresh': 1295, 'likabl': 1296, 'abus': 1297, 'discuss': 1298, 'hill': 1299, 'sight': 1300, 'ahead': 1301, 'photograph': 1302, 'sent': 1303, 'shine': 1304, 'occur': 1305, 'logic': 1306, 'blame': 1307, 'mainli': 1308, 'bruce': 1309, 'forev': 1310, 'skip': 1311, 'commerci': 1312, 'segment': 1313, 'held': 1314, 'surround': 1315, 'teacher': 1316, 'blond': 1317, 'zero': 1318, 'resembl': 1319, 'trap': 1320, 'satir': 1321, 'summer': 1322, 'fool': 1323, 'queen': 1324, 'ball': 1325, 'six': 1326, 'twice': 1327, 'sub': 1328, 'tragedi': 1329, 'pack': 1330, 'reaction': 1331, 'bomb': 1332, 'will': 1333, 'protagonist': 1334, 'hospit': 1335, 'mile': 1336, 'sport': 1337, 'trust': 1338, 'mom': 1339, 'jerri': 1340, 'drink': 1341, 'vote': 1342, 'encount': 1343, 'plane': 1344, 'al': 1345, 'program': 1346, 'station': 1347, 'current': 1348, 'martin': 1349, 'celebr': 1350, 'choos': 1351, 'join': 1352, 'round': 1353, 'tragic': 1354, 'lord': 1355, 'field': 1356, 'favourit': 1357, 'robot': 1358, 'vision': 1359, 'jean': 1360, 'arthur': 1361, 'tie': 1362, 'fortun': 1363, 'random': 1364, 'roger': 1365, 'psycholog': 1366, 'dread': 1367, 'intern': 1368, 'epic': 1369, 'improv': 1370, 'nonsens': 1371, 'prefer': 1372, 'legend': 1373, 'pleasur': 1374, 'highlight': 1375, 'formula': 1376, 'dollar': 1377, '11': 1378, 'tape': 1379, 'gorgeou': 1380, 'wide': 1381, 'fox': 1382, 'thin': 1383, 'object': 1384, 'porn': 1385, 'influenc': 1386, 'buddi': 1387, 'ugli': 1388, 'nasti': 1389, 'prepar': 1390, 'ii': 1391, 'progress': 1392, 'reflect': 1393, 'warm': 1394, 'supposedli': 1395, 'youth': 1396, 'worthi': 1397, 'length': 1398, 'unusu': 1399, 'latter': 1400, 'crash': 1401, 'shop': 1402, 'seven': 1403, 'superior': 1404, 'childhood': 1405, 'remot': 1406, 'theatr': 1407, 'funniest': 1408, 'paid': 1409, 'disgust': 1410, 'pilot': 1411, 'fell': 1412, 'convers': 1413, 'castl': 1414, 'trick': 1415, 'gangster': 1416, 'rob': 1417, 'disast': 1418, 'establish': 1419, 'mine': 1420, 'ident': 1421, 'suicid': 1422, 'heaven': 1423, 'disappear': 1424, 'forgotten': 1425, 'mask': 1426, 'tend': 1427, 'heroin': 1428, 'singer': 1429, 'decis': 1430, 'brian': 1431, 'partner': 1432, 'desert': 1433, 'recogn': 1434, 'alan': 1435, 'stuck': 1436, 'p': 1437, 'ms': 1438, 'thoroughli': 1439, 'sky': 1440, 'accur': 1441, 'replac': 1442, 'market': 1443, 'seemingli': 1444, 'clue': 1445, 'uncl': 1446, 'danni': 1447, 'eddi': 1448, 'commentari': 1449, 'andi': 1450, 'devil': 1451, 'jackson': 1452, 'therefor': 1453, 'refus': 1454, 'that': 1455, 'pair': 1456, 'fault': 1457, 'unit': 1458, 'fate': 1459, 'ed': 1460, 'river': 1461, 'accid': 1462, 'tune': 1463, 'afraid': 1464, 'stephen': 1465, 'russian': 1466, 'hidden': 1467, 'clean': 1468, 'irrit': 1469, 'readi': 1470, 'captain': 1471, 'quick': 1472, 'convey': 1473, 'instanc': 1474, 'test': 1475, 'european': 1476, 'frustrat': 1477, 'daniel': 1478, 'insan': 1479, 'food': 1480, 'wed': 1481, '1950': 1482, 'rescu': 1483, 'chines': 1484, 'lock': 1485, 'angri': 1486, 'dirti': 1487, 'joy': 1488, 'price': 1489, 'steven': 1490, 'cage': 1491, 'bland': 1492, 'rang': 1493, 'anymor': 1494, 'wooden': 1495, 'jason': 1496, 'n': 1497, 'rush': 1498, 'news': 1499, 'twenti': 1500, 'martial': 1501, 'board': 1502, 'led': 1503, '12': 1504, 'worri': 1505, 'cgi': 1506, 'hunter': 1507, 'transform': 1508, 'symbol': 1509, 'x': 1510, 'sentiment': 1511, 'johnni': 1512, 'onto': 1513, 'invent': 1514, 'piti': 1515, 'process': 1516, 'explan': 1517, 'attitud': 1518, 'awar': 1519, 'owner': 1520, 'aim': 1521, 'necessari': 1522, 'floor': 1523, 'favor': 1524, 'energi': 1525, 'target': 1526, 'opposit': 1527, 'religi': 1528, 'chick': 1529, 'window': 1530, 'insight': 1531, 'blind': 1532, 'movement': 1533, 'comparison': 1534, 'deepli': 1535, 'possess': 1536, 'mountain': 1537, 'research': 1538, 'rain': 1539, 'whatsoev': 1540, 'comed': 1541, 'grand': 1542, 'shadow': 1543, 'bank': 1544, 'mid': 1545, 'began': 1546, 'parodi': 1547, 'princ': 1548, 'pre': 1549, 'credibl': 1550, 'friendship': 1551, 'weapon': 1552, 'taylor': 1553, 'flesh': 1554, 'teach': 1555, 'dougla': 1556, 'hint': 1557, 'bloodi': 1558, 'protect': 1559, 'terror': 1560, 'marvel': 1561, 'anybodi': 1562, 'load': 1563, 'superman': 1564, 'leader': 1565, 'accord': 1566, 'drunk': 1567, 'watchabl': 1568, 'freddi': 1569, 'brown': 1570, 'seat': 1571, 'appropri': 1572, 'tim': 1573, 'hitler': 1574, 'jeff': 1575, 'unknown': 1576, 'charg': 1577, 'villag': 1578, 'knock': 1579, 'keaton': 1580, 'media': 1581, 'enemi': 1582, 'unnecessari': 1583, 'england': 1584, 'empti': 1585, 'craft': 1586, 'wave': 1587, 'strength': 1588, 'utter': 1589, 'dare': 1590, 'buck': 1591, 'perspect': 1592, 'kiss': 1593, 'contrast': 1594, 'correct': 1595, 'nativ': 1596, 'ford': 1597, 'distract': 1598, 'magnific': 1599, 'nazi': 1600, 'speed': 1601, 'knowledg': 1602, 'anywher': 1603, 'chill': 1604, 'soap': 1605, 'ice': 1606, 'fred': 1607, '1980': 1608, 'breath': 1609, 'mission': 1610, 'crowd': 1611, 'moon': 1612, 'joan': 1613, 'jr': 1614, 'soft': 1615, 'kate': 1616, '000': 1617, 'frighten': 1618, 'dick': 1619, 'hundr': 1620, 'dan': 1621, 'nick': 1622, 'dozen': 1623, 'radio': 1624, 'somebodi': 1625, 'simon': 1626, 'andrew': 1627, 'thousand': 1628, 'academi': 1629, 'shakespear': 1630, 'loss': 1631, 'quot': 1632, 'root': 1633, 'vehicl': 1634, 'account': 1635, 'sum': 1636, 'leg': 1637, '1970': 1638, 'behavior': 1639, 'convent': 1640, 'regular': 1641, 'gold': 1642, 'demand': 1643, 'pretenti': 1644, 'worker': 1645, 'compet': 1646, 'stretch': 1647, 'lynch': 1648, 'japan': 1649, 'interpret': 1650, 'candi': 1651, 'notabl': 1652, 'explos': 1653, 'privat': 1654, 'constant': 1655, 'debut': 1656, 'tarzan': 1657, 'sea': 1658, 'spi': 1659, 'translat': 1660, 'prais': 1661, 'revolv': 1662, 'quiet': 1663, 'franc': 1664, 'sat': 1665, 'jesu': 1666, 'technolog': 1667, 'ass': 1668, 'failur': 1669, 'threaten': 1670, 'toy': 1671, 'higher': 1672, 'aid': 1673, 'kevin': 1674, 'punch': 1675, 'met': 1676, 'mike': 1677, 'interact': 1678, 'abandon': 1679, 'vh': 1680, 'bet': 1681, 'confront': 1682, 'command': 1683, 'separ': 1684, 'site': 1685, 'servic': 1686, 'techniqu': 1687, 'gotten': 1688, 'belong': 1689, 'recal': 1690, 'stunt': 1691, 'foot': 1692, 'cabl': 1693, 'freak': 1694, 'bug': 1695, 'capabl': 1696, 'fu': 1697, 'bright': 1698, 'african': 1699, 'jimmi': 1700, 'boat': 1701, 'clark': 1702, 'fat': 1703, 'succeed': 1704, 'stock': 1705, 'presid': 1706, 'gene': 1707, 'structur': 1708, 'spanish': 1709, 'kidnap': 1710, 'paper': 1711, 'belief': 1712, 'factor': 1713, 'whilst': 1714, 'tree': 1715, 'attend': 1716, 'witti': 1717, 'complic': 1718, 'realism': 1719, 'educ': 1720, 'realis': 1721, 'bob': 1722, 'broken': 1723, 'santa': 1724, 'finest': 1725, 'assist': 1726, 'determin': 1727, 'up': 1728, 'smoke': 1729, 'v': 1730, 'depart': 1731, 'observ': 1732, 'hat': 1733, 'oper': 1734, 'lewi': 1735, 'routin': 1736, 'fame': 1737, 'rubbish': 1738, 'domin': 1739, 'lone': 1740, 'advanc': 1741, 'safe': 1742, 'morgan': 1743, 'foreign': 1744, 'kinda': 1745, 'hook': 1746, 'rank': 1747, 'numer': 1748, 'shallow': 1749, 'vs': 1750, 'shape': 1751, 'civil': 1752, 'washington': 1753, 'rose': 1754, 'werewolf': 1755, 'gari': 1756, 'morn': 1757, 'kong': 1758, 'ordinari': 1759, 'accomplish': 1760, 'winner': 1761, 'peac': 1762, 'grab': 1763, 'virtual': 1764, 'whenev': 1765, 'h': 1766, 'offens': 1767, 'luck': 1768, 'welcom': 1769, 'bigger': 1770, 'contriv': 1771, 'patient': 1772, 'activ': 1773, 'unfunni': 1774, 'complain': 1775, 'con': 1776, 'dimension': 1777, 'trek': 1778, 'pretend': 1779, 'lesbian': 1780, 'wake': 1781, 'cain': 1782, 'code': 1783, 'eric': 1784, 'flash': 1785, 'dri': 1786, 'statu': 1787, 'corrupt': 1788, 'dancer': 1789, 'manipul': 1790, 'guard': 1791, 'albert': 1792, 'speech': 1793, 'signific': 1794, 'awkward': 1795, 'context': 1796, 'gain': 1797, 'sourc': 1798, 'psycho': 1799, '13': 1800, 'anthoni': 1801, 'corni': 1802, 'sean': 1803, 'clip': 1804, 'w': 1805, 'curiou': 1806, 'theatric': 1807, 'reli': 1808, 'advic': 1809, 'religion': 1810, 'priest': 1811, 'addict': 1812, 'flow': 1813, 'skin': 1814, 'howard': 1815, 'asian': 1816, 'secur': 1817, 'jennif': 1818, 'specif': 1819, 'core': 1820, 'comfort': 1821, 'luke': 1822, 'golden': 1823, 'organ': 1824, 'promot': 1825, 'cash': 1826, 'cheat': 1827, 'lucki': 1828, 'dislik': 1829, 'associ': 1830, 'lower': 1831, 'regret': 1832, 'devic': 1833, 'frequent': 1834, 'spell': 1835, 'frankli': 1836, 'balanc': 1837, 'contribut': 1838, 'degre': 1839, 'wing': 1840, 'forgiv': 1841, 'print': 1842, 'sake': 1843, 'lake': 1844, 'thoma': 1845, 'mass': 1846, 'betti': 1847, 'crack': 1848, 'gordon': 1849, 'unexpect': 1850, 'amateur': 1851, 'unfold': 1852, 'construct': 1853, 'depend': 1854, 'categori': 1855, 'invit': 1856, 'grown': 1857, 'matur': 1858, 'grew': 1859, 'condit': 1860, 'walter': 1861, 'anna': 1862, 'intellectu': 1863, 'honor': 1864, 'sole': 1865, 'mirror': 1866, 'veteran': 1867, 'spectacular': 1868, 'sudden': 1869, 'liner': 1870, 'gift': 1871, 'experienc': 1872, 'demonstr': 1873, 'meanwhil': 1874, 'grip': 1875, 'freedom': 1876, 'overli': 1877, 'robin': 1878, 'card': 1879, 'oliv': 1880, 'sheriff': 1881, 'theori': 1882, 'section': 1883, 'crappi': 1884, 'drew': 1885, 'circumst': 1886, 'brilliantli': 1887, 'colour': 1888, 'unabl': 1889, 'subtitl': 1890, 'altern': 1891, 'laughter': 1892, 'path': 1893, 'matt': 1894, 'sheer': 1895, 'cook': 1896, 'pile': 1897, 'parker': 1898, 'defin': 1899, 'accident': 1900, 'wander': 1901, 'hall': 1902, 'treatment': 1903, 'sinatra': 1904, 'relief': 1905, 'lawyer': 1906, 'captiv': 1907, 'dragon': 1908, 'hank': 1909, 'gratuit': 1910, 'halloween': 1911, 'moor': 1912, 'unintent': 1913, 'k': 1914, 'broadway': 1915, 'wound': 1916, 'kung': 1917, 'cowboy': 1918, 'jacki': 1919, 'barbara': 1920, 'wayn': 1921, 'statement': 1922, 'spoof': 1923, 'winter': 1924, 'surreal': 1925, 'canadian': 1926, 'treasur': 1927, 'fish': 1928, 'gonna': 1929, 'compos': 1930, 'fare': 1931, 'cheer': 1932, 'sensit': 1933, 'unrealist': 1934, 'emerg': 1935, 'victor': 1936, 'woodi': 1937, 'ran': 1938, 'neighbor': 1939, 'sympathet': 1940, 'driven': 1941, 'menac': 1942, 'expos': 1943, 'glass': 1944, 'overlook': 1945, 'authent': 1946, 'topic': 1947, 'gross': 1948, 'handsom': 1949, 'michel': 1950, 'ancient': 1951, 'chief': 1952, 'built': 1953, 'pleasant': 1954, 'contemporari': 1955, 'feet': 1956, 'russel': 1957, 'nevertheless': 1958, 'cinderella': 1959, 'stranger': 1960, 'network': 1961, 'comedian': 1962, 'miser': 1963, 'endless': 1964, 'consider': 1965, 'earn': 1966, 'blockbust': 1967, 'gori': 1968, 'letter': 1969, 'underr': 1970, 'brook': 1971, 'switch': 1972, 'solv': 1973, 'convict': 1974, 'joseph': 1975, 'edward': 1976, 'victoria': 1977, 'virgin': 1978, 'bullet': 1979, 'scenario': 1980, 'cynic': 1981, 'chosen': 1982, 'scale': 1983, 'alex': 1984, '0': 1985, 'gut': 1986, 'outrag': 1987, 'curs': 1988, 'sword': 1989, 'com': 1990, 'uk': 1991, 'juli': 1992, 'driver': 1993, 'substanc': 1994, 'screenwrit': 1995, 'proper': 1996, 'monkey': 1997, 'wrap': 1998, 'remov': 1999, 'indic': 2000, 'court': 2001, 'bird': 2002, 'par': 2003, 'inevit': 2004, 'grave': 2005, 'nanci': 2006, 'naiv': 2007, 'advertis': 2008, 'loser': 2009, 'consequ': 2010, 'rental': 2011, 'roy': 2012, 'bridg': 2013, 'le': 2014, 'fatal': 2015, 'germani': 2016, 'brave': 2017, 'slap': 2018, 'invis': 2019, 'ador': 2020, 'loui': 2021, 'footbal': 2022, 'provok': 2023, 'anger': 2024, 'alcohol': 2025, 'anderson': 2026, 'chan': 2027, 'stumbl': 2028, 'willi': 2029, 'ryan': 2030, 'professor': 2031, 'sharp': 2032, '1930': 2033, 'bat': 2034, 'australian': 2035, 'assassin': 2036, 'patrick': 2037, 'liber': 2038, 'saturday': 2039, 'amateurish': 2040, 'lousi': 2041, 'cell': 2042, 'eight': 2043, 'deni': 2044, 'trilog': 2045, 'strongli': 2046, 'heck': 2047, 'refresh': 2048, 'ape': 2049, 'sin': 2050, 'resid': 2051, 'vagu': 2052, 'san': 2053, 'justifi': 2054, 'terrifi': 2055, 'defeat': 2056, 'sympathi': 2057, 'mini': 2058, 'creator': 2059, 'reput': 2060, 'indi': 2061, 'endur': 2062, 'expert': 2063, 'prevent': 2064, 'task': 2065, 'tediou': 2066, 'tabl': 2067, 'imit': 2068, 'employ': 2069, 'rival': 2070, 'offend': 2071, 'basebal': 2072, 'trial': 2073, 'che': 2074, 'weekend': 2075, 'fairi': 2076, 'dig': 2077, 'pitch': 2078, 'europ': 2079, 'max': 2080, 'complaint': 2081, 'beach': 2082, 'murphi': 2083, 'risk': 2084, 'format': 2085, 'purchas': 2086, 'tini': 2087, 'hype': 2088, 'bite': 2089, 'nois': 2090, 'powel': 2091, 'glimps': 2092, 'titan': 2093, 'harsh': 2094, 'reminisc': 2095, 'asleep': 2096, 'fals': 2097, 'prime': 2098, '14': 2099, 'north': 2100, 'till': 2101, 'strip': 2102, 'descript': 2103, 'revel': 2104, 'texa': 2105, 'africa': 2106, 'destruct': 2107, 'semi': 2108, 'spin': 2109, 'inner': 2110, 'sitcom': 2111, 'arrest': 2112, 'excess': 2113, 'uninterest': 2114, 'surfac': 2115, 'massiv': 2116, 'twin': 2117, 'hitchcock': 2118, 'makeup': 2119, 'controversi': 2120, 'maintain': 2121, 'argu': 2122, 'dinosaur': 2123, 'kim': 2124, 'stare': 2125, 'ideal': 2126, 'ludicr': 2127, 'melodrama': 2128, 'reject': 2129, 'expens': 2130, 'insist': 2131, 'ala': 2132, 'supernatur': 2133, 'ga': 2134, 'host': 2135, 'columbo': 2136, 'forest': 2137, 'nail': 2138, 'erot': 2139, 'atroci': 2140, 'subplot': 2141, 'press': 2142, 'notch': 2143, 'dude': 2144, 'identifi': 2145, 'presum': 2146, 'cant': 2147, 'closer': 2148, 'guest': 2149, 'method': 2150, 'crude': 2151, 'character': 2152, 'plagu': 2153, 'forgett': 2154, 'princess': 2155, 'foster': 2156, 'beast': 2157, 'lion': 2158, 'landscap': 2159, 'border': 2160, 'ear': 2161, 'storytel': 2162, 'previous': 2163, 'pacino': 2164, 'damag': 2165, 'birth': 2166, 'bound': 2167, 'accus': 2168, 'aunt': 2169, 'jungl': 2170, 'urban': 2171, 'emma': 2172, 'thirti': 2173, 'propaganda': 2174, 'chose': 2175, 'nude': 2176, 'doll': 2177, 'guid': 2178, 'jess': 2179, 'pet': 2180, '25': 2181, 'whoever': 2182, 'mate': 2183, 'mainstream': 2184, 'warrior': 2185, 'gritti': 2186, 'poster': 2187, 'deadli': 2188, 'upset': 2189, 'merit': 2190, 'latest': 2191, 'friday': 2192, 'exact': 2193, 'size': 2194, 'cooper': 2195, '1990': 2196, 'wilson': 2197, 'rough': 2198, 'corps': 2199, 'blend': 2200, 'contact': 2201, 'settl': 2202, 'sun': 2203, 'ton': 2204, 'warner': 2205, 'buff': 2206, 'citizen': 2207, 'popul': 2208, 'contest': 2209, 'alic': 2210, 'select': 2211, 'mgm': 2212, 'bu': 2213, 'metal': 2214, 'overcom': 2215, 'pitt': 2216, 'environ': 2217, 'widow': 2218, 'rat': 2219, 'lift': 2220, 'revolut': 2221, 'ted': 2222, 'particip': 2223, 'guilti': 2224, 'link': 2225, 'moron': 2226, 'afternoon': 2227, 'corner': 2228, 'prostitut': 2229, 'accompani': 2230, '1960': 2231, 'exagger': 2232, 'corpor': 2233, 'matrix': 2234, 'johnson': 2235, 'instal': 2236, 'friendli': 2237, 'sincer': 2238, 'clair': 2239, 'holm': 2240, 'doom': 2241, 'leagu': 2242, 'multipl': 2243, 'hood': 2244, 'junk': 2245, 'aka': 2246, 'examin': 2247, 'defend': 2248, 'string': 2249, 'hip': 2250, 'grim': 2251, 'sunday': 2252, 'advis': 2253, 'lugosi': 2254, 'irish': 2255, 'campi': 2256, 'blah': 2257, 'icon': 2258, 'varieti': 2259, 'confid': 2260, 'shake': 2261, 'shut': 2262, 'rachel': 2263, 'tight': 2264, 'pro': 2265, 'goal': 2266, 'denni': 2267, 'mexican': 2268, 'sullivan': 2269, 'jaw': 2270, 'directli': 2271, 'attach': 2272, 'medic': 2273, 'truck': 2274, 'bourn': 2275, 'legendari': 2276, 'prior': 2277, 'breast': 2278, 'courag': 2279, 'dean': 2280, 'sentenc': 2281, 'vietnam': 2282, 'terrorist': 2283, 'duke': 2284, 'sarah': 2285, 'proceed': 2286, 'split': 2287, 'hong': 2288, 'entri': 2289, 'un': 2290, 'behav': 2291, 'donald': 2292, 'yell': 2293, 'nose': 2294, 'buri': 2295, 'confess': 2296, 'lifetim': 2297, 'borrow': 2298, 'crush': 2299, 'stolen': 2300, 'everywher': 2301, 'concentr': 2302, 'unconvinc': 2303, 'jerk': 2304, 'forth': 2305, 'gather': 2306, 'swim': 2307, 'deliveri': 2308, 'turkey': 2309, 'spite': 2310, 'california': 2311, 'julia': 2312, 'lip': 2313, 'pan': 2314, 'proud': 2315, 'flight': 2316, 'quest': 2317, 'offici': 2318, 'reward': 2319, 'downright': 2320, 'china': 2321, 'freeman': 2322, 'hoffman': 2323, 'worthwhil': 2324, 'encourag': 2325, 'fade': 2326, 'jail': 2327, 'betray': 2328, 'fabul': 2329, 'jon': 2330, 'sir': 2331, 'notori': 2332, 'sink': 2333, 'lazi': 2334, 'inept': 2335, 'shower': 2336, 'lisa': 2337, 'retard': 2338, 'bag': 2339, 'relev': 2340, 'branagh': 2341, 'susan': 2342, 'cousin': 2343, 'bell': 2344, 'teeth': 2345, 'imageri': 2346, 'survivor': 2347, 'storm': 2348, 'mexico': 2349, 'finger': 2350, 'quirki': 2351, 'alright': 2352, 'stab': 2353, 'hugh': 2354, 'facial': 2355, 'toler': 2356, 'summari': 2357, 'trade': 2358, 'shark': 2359, 'bride': 2360, 'tremend': 2361, 'hyster': 2362, 'ha': 2363, 'von': 2364, 'bitter': 2365, 'pose': 2366, 'blown': 2367, 'larri': 2368, 'address': 2369, 'cruel': 2370, 'bone': 2371, 'ned': 2372, 'christ': 2373, 'scheme': 2374, 'afterward': 2375, 'ron': 2376, 'pursu': 2377, 'screw': 2378, 'distinct': 2379, 'snake': 2380, 'feed': 2381, 'swear': 2382, 'beg': 2383, 'thumb': 2384, 'tour': 2385, 'traci': 2386, 'occas': 2387, 'raw': 2388, 'chair': 2389, 'stomach': 2390, 'obscur': 2391, 'photo': 2392, 'mechan': 2393, 'hardi': 2394, 'gruesom': 2395, 'necessarili': 2396, 'resist': 2397, 'cabin': 2398, 'chain': 2399, 'argument': 2400, 'heavili': 2401, 'render': 2402, 'southern': 2403, 'holiday': 2404, 'sidney': 2405, 'understood': 2406, 'satan': 2407, 'indulg': 2408, 'racist': 2409, 'india': 2410, 'philip': 2411, 'midnight': 2412, 'forgot': 2413, 'tongu': 2414, 'obnoxi': 2415, 'pregnant': 2416, 'belov': 2417, 'outfit': 2418, 'integr': 2419, 'stalk': 2420, 'fourth': 2421, 'lay': 2422, 'inhabit': 2423, 'deeper': 2424, 'ticket': 2425, 'carol': 2426, 'garden': 2427, '17': 2428, 'slapstick': 2429, 'restor': 2430, 'magazin': 2431, 'devot': 2432, 'incid': 2433, 'brad': 2434, 'shoe': 2435, 'lincoln': 2436, 'maria': 2437, 'disbelief': 2438, 'elizabeth': 2439, 'anticip': 2440, 'divorc': 2441, 'underground': 2442, 'sandler': 2443, 'benefit': 2444, 'lili': 2445, 'guarante': 2446, 'princip': 2447, 'creation': 2448, 'greater': 2449, 'bbc': 2450, 'amazingli': 2451, 'explod': 2452, 'mildli': 2453, 'cring': 2454, 'capit': 2455, 'slave': 2456, 'funnier': 2457, 'lesli': 2458, 'halfway': 2459, 'extraordinari': 2460, 'introduct': 2461, 'wreck': 2462, 'advantag': 2463, 'transfer': 2464, 'enhanc': 2465, 'tap': 2466, 'text': 2467, 'extent': 2468, 'overwhelm': 2469, 'punish': 2470, 'dynam': 2471, 'east': 2472, 'deliber': 2473, 'lo': 2474, 'jessica': 2475, 'horrif': 2476, 'lane': 2477, 'plant': 2478, 'error': 2479, 'preview': 2480, 'miller': 2481, 'sophist': 2482, 'miscast': 2483, 'appli': 2484, 'basi': 2485, 'ensu': 2486, 'vincent': 2487, 'vacat': 2488, '2000': 2489, 'homosexu': 2490, 'sleazi': 2491, 'elev': 2492, 'uncomfort': 2493, 'steel': 2494, 'via': 2495, 'extend': 2496, 'measur': 2497, 'mansion': 2498, 'bollywood': 2499, 'spoken': 2500, 'reed': 2501, 'conceiv': 2502, 'beer': 2503, 'alter': 2504, 'breathtak': 2505, 'overact': 2506, 'daili': 2507, 'savag': 2508, 'blair': 2509, 'cathol': 2510, 'hippi': 2511, 'goofi': 2512, 'stanley': 2513, 'assign': 2514, 'melt': 2515, 'mous': 2516, 'dentist': 2517, 'fix': 2518, 'properli': 2519, 'oppos': 2520, 'subsequ': 2521, 'succe': 2522, 'nowaday': 2523, 'inspector': 2524, 'carpent': 2525, 'everyday': 2526, 'burt': 2527, 'sacrific': 2528, 'neck': 2529, 'laura': 2530, 'circl': 2531, 'massacr': 2532, 'block': 2533, 'mob': 2534, 'christi': 2535, 'access': 2536, 'portrait': 2537, 'pool': 2538, 'fay': 2539, 'lesser': 2540, 'fallen': 2541, 'concert': 2542, 'grey': 2543, 'seagal': 2544, 'sinist': 2545, 'isol': 2546, 'react': 2547, 'jake': 2548, 'competit': 2549, 'chees': 2550, 'usa': 2551, 'relax': 2552, 'jewish': 2553, 'suitabl': 2554, 'spiritu': 2555, 'lyric': 2556, 'creep': 2557, '2006': 2558, 'immens': 2559, 'stink': 2560, 'ironi': 2561, 'nonetheless': 2562, 'appal': 2563, 'nine': 2564, 'chop': 2565, 'retir': 2566, 'navi': 2567, 'nut': 2568, 'adopt': 2569, 'luci': 2570, 'needless': 2571, 'spring': 2572, 'showcas': 2573, 'franchis': 2574, 'reduc': 2575, 'rage': 2576, 'user': 2577, 'shirt': 2578, 'sold': 2579, 'asham': 2580, 'nurs': 2581, 'bulli': 2582, 'uninspir': 2583, 'digit': 2584, 'zone': 2585, 'jay': 2586, 'bath': 2587, 'per': 2588, 'stanwyck': 2589, 'oddli': 2590, '1940': 2591, 'upper': 2592, 'illustr': 2593, 'broadcast': 2594, '2001': 2595, 'sutherland': 2596, 'amongst': 2597, 'laid': 2598, 'disguis': 2599, 'fulfil': 2600, 'throat': 2601, 'stylish': 2602, 'brando': 2603, 'baker': 2604, 'aspir': 2605, 'pound': 2606, '18': 2607, 'impli': 2608, 'endear': 2609, 'em': 2610, 'neighborhood': 2611, 'wanna': 2612, 'pride': 2613, 'wwii': 2614, 'nobl': 2615, 'thief': 2616, 'cinematograph': 2617, 'bett': 2618, 'bo': 2619, 'diseas': 2620, 'rochest': 2621, 'dawn': 2622, 'tens': 2623, '16': 2624, 'prop': 2625, 'dinner': 2626, 'albeit': 2627, 'distribut': 2628, 'shoulder': 2629, 'shift': 2630, 'coher': 2631, 'surf': 2632, 'forti': 2633, 'wash': 2634, 'rebel': 2635, 'shout': 2636, 'function': 2637, 'poignant': 2638, 'matthau': 2639, 'knife': 2640, 'silenc': 2641, 'contract': 2642, 'snow': 2643, 'internet': 2644, 'horrend': 2645, 'mindless': 2646, 'widmark': 2647, 'height': 2648, 'heat': 2649, 'derek': 2650, 'henc': 2651, 'instinct': 2652, 'silver': 2653, 'eeri': 2654, 'chuck': 2655, 'cancel': 2656, 'duti': 2657, 'proof': 2658, 'elvira': 2659, 'cannib': 2660, 'reunion': 2661, 'etern': 2662, 'absorb': 2663, 'musician': 2664, 'innov': 2665, 'repetit': 2666, 'alik': 2667, 'greatli': 2668, 'pie': 2669, 'torn': 2670, 'neat': 2671, 'incoher': 2672, 'spielberg': 2673, 'glori': 2674, 'premier': 2675, 'mill': 2676, 'elvi': 2677, 'bang': 2678, 'homag': 2679, 'diamond': 2680, 'trite': 2681, 'lovabl': 2682, 'wealthi': 2683, 'infam': 2684, 'fbi': 2685, 'precis': 2686, 'redempt': 2687, 'britain': 2688, 'crisi': 2689, 'horrifi': 2690, 'itali': 2691, 'announc': 2692, 'blank': 2693, 'nelson': 2694, 'racism': 2695, 'burton': 2696, 'hammer': 2697, 'parallel': 2698, 'dedic': 2699, 'streisand': 2700, 'happili': 2701, 'chaplin': 2702, 'flop': 2703, 'pat': 2704, 'ensembl': 2705, 'wilder': 2706, 'helen': 2707, 'resolut': 2708, 'st': 2709, 'disagre': 2710, 'cube': 2711, 'conclud': 2712, 'mar': 2713, 'oil': 2714, 'plastic': 2715, 'factori': 2716, 'triumph': 2717, 'broke': 2718, 'carter': 2719, 'chuckl': 2720, 'rocket': 2721, 'fighter': 2722, 'own': 2723, 'climb': 2724, 'row': 2725, 'vega': 2726, 'march': 2727, 'bush': 2728, 'weight': 2729, 'sensibl': 2730, 'luca': 2731, 'dane': 2732, 'thug': 2733, 'wherea': 2734, 'spare': 2735, 'enorm': 2736, 'boot': 2737, 'lust': 2738, 'mst3k': 2739, 'kurt': 2740, 'meaning': 2741, 'unforgett': 2742, 'dump': 2743, 'adequ': 2744, 'dear': 2745, 'threat': 2746, 'brand': 2747, 'caricatur': 2748, 'difficulti': 2749, 'fifti': 2750, 'stress': 2751, 'butt': 2752, 'arnold': 2753, 'engin': 2754, 'karloff': 2755, 'rap': 2756, 'bobbi': 2757, 'elabor': 2758, 'hamlet': 2759, 'arrog': 2760, 'polish': 2761, 'homeless': 2762, 'swing': 2763, 'fest': 2764, 'ralph': 2765, 'barri': 2766, 'journalist': 2767, 'ego': 2768, 'secretari': 2769, 'flynn': 2770, 'grate': 2771, 'arrang': 2772, 'puppet': 2773, 'tool': 2774, 'resort': 2775, 'conspiraci': 2776, 'fanci': 2777, 'unbear': 2778, 'float': 2779, 'induc': 2780, 'spike': 2781, 'simpson': 2782, 'pig': 2783, 'muppet': 2784, 'basement': 2785, 'boll': 2786, 'tribut': 2787, 'choreograph': 2788, 'guilt': 2789, 'cruis': 2790, 'exercis': 2791, 'phillip': 2792, 'file': 2793, 'tower': 2794, 'slip': 2795, 'scarecrow': 2796, 'ham': 2797, 'stan': 2798, 'medium': 2799, 'editor': 2800, '24': 2801, 'item': 2802, 'toilet': 2803, 'puzzl': 2804, 'fianc': 2805, 'babe': 2806, 'document': 2807, 'layer': 2808, 'ward': 2809, 'korean': 2810, 'slaughter': 2811, 'superfici': 2812, 'orient': 2813, 'philosoph': 2814, 'transit': 2815, 'larger': 2816, 'minim': 2817, 'persona': 2818, 'doc': 2819, 'inexplic': 2820, 'assur': 2821, 'territori': 2822, 'glover': 2823, 'portion': 2824, 'librari': 2825, 'catherin': 2826, 'spark': 2827, 'denzel': 2828, 'financi': 2829, 'dorothi': 2830, 'curti': 2831, 'jet': 2832, 'jeremi': 2833, 'wolf': 2834, 'ban': 2835, 'sneak': 2836, 'shi': 2837, 'pg': 2838, 'owe': 2839, 'boredom': 2840, 'walken': 2841, 'metaphor': 2842, 'backdrop': 2843, 'hudson': 2844, 'whale': 2845, 'ambigu': 2846, 'profound': 2847, 'multi': 2848, 'eleph': 2849, 'cusack': 2850, '2005': 2851, 'notion': 2852, 'stiff': 2853, 'ultra': 2854, 'union': 2855, 'elsewher': 2856, 'implaus': 2857, 'gadget': 2858, 'rave': 2859, 'birthday': 2860, 'viru': 2861, 'hack': 2862, '1st': 2863, 'slight': 2864, 'urg': 2865, 'pad': 2866, 'eastwood': 2867, 'lloyd': 2868, 'hawk': 2869, 'reader': 2870, 'canada': 2871, 'eva': 2872, 'afford': 2873, 'superhero': 2874, 'disc': 2875, 'bibl': 2876, 'distanc': 2877, 'newspap': 2878, 'squar': 2879, 'deriv': 2880, 'poison': 2881, 'sadist': 2882, 'montag': 2883, 'huh': 2884, 'heston': 2885, 'charisma': 2886, 'essenc': 2887, 'cure': 2888, 'restaur': 2889, 'skit': 2890, 'health': 2891, 'spread': 2892, 'button': 2893, 'drown': 2894, 'gradual': 2895, 'invest': 2896, 'muslim': 2897, 'lab': 2898, 'dealt': 2899, 'godfath': 2900, 'peak': 2901, 'estat': 2902, 'maniac': 2903, 'fetch': 2904, 'companion': 2905, 'scoobi': 2906, 'ritter': 2907, 'cup': 2908, 'gothic': 2909, 'tea': 2910, 'servant': 2911, 'miik': 2912, 'countless': 2913, 'alli': 2914, 'subtleti': 2915, 'kane': 2916, 'electr': 2917, 'elect': 2918, 'heroic': 2919, 'briefli': 2920, 'charismat': 2921, 'salli': 2922, 'iii': 2923, 'bud': 2924, 'tender': 2925, 'resourc': 2926, 'admittedli': 2927, 'toss': 2928, 'wannab': 2929, 'grandmoth': 2930, 'ingredi': 2931, 'nuanc': 2932, 'reel': 2933, 'cole': 2934, 'neil': 2935, 'label': 2936, 'reev': 2937, 'stronger': 2938, 'shall': 2939, 'gate': 2940, 'mafia': 2941, 'pit': 2942, 'poverti': 2943, 'carrey': 2944, 'dawson': 2945, 'mild': 2946, 'punk': 2947, 'stood': 2948, 'kubrick': 2949, 'pauli': 2950, 'smooth': 2951, 'cardboard': 2952, 'updat': 2953, 'smash': 2954, 'tag': 2955, 'assault': 2956, 'useless': 2957, 'cox': 2958, 'outcom': 2959, 'bakshi': 2960, 'fond': 2961, 'easier': 2962, 'ian': 2963, 'burst': 2964, 'terri': 2965, 'astair': 2966, 'fist': 2967, 'divers': 2968, 'exchang': 2969, 'sketch': 2970, 'qualifi': 2971, 'resolv': 2972, 'vulner': 2973, '2002': 2974, 'rex': 2975, 'vari': 2976, 'melodramat': 2977, 'increasingli': 2978, 'samurai': 2979, 'coincid': 2980, 'luckili': 2981, 'suspend': 2982, 'be': 2983, 'templ': 2984, 'insert': 2985, 'tame': 2986, 'blast': 2987, 'brillianc': 2988, 'scratch': 2989, 'reynold': 2990, 'conveni': 2991, 'strictli': 2992, 'farm': 2993, 'jami': 2994, 'seventi': 2995, 'soprano': 2996, 'pin': 2997, 'nuclear': 2998, 'gotta': 2999, 'meat': 3000, 'fisher': 3001, 'matthew': 3002, 'ambiti': 3003, 'hamilton': 3004, 'walker': 3005, 'coach': 3006, 'timeless': 3007, 'closet': 3008, 'convolut': 3009, 'instantli': 3010, 'ninja': 3011, 'worthless': 3012, 'monk': 3013, 'recreat': 3014, 'joey': 3015, 'clock': 3016, 'empir': 3017, 'spooki': 3018, 'butcher': 3019, 'kudo': 3020, 'struck': 3021, 'revers': 3022, 'cave': 3023, 'discoveri': 3024, 'eccentr': 3025, 'brosnan': 3026, 'grasp': 3027, 'clown': 3028, 'selfish': 3029, 'gray': 3030, 'cliff': 3031, 'communist': 3032, 'importantli': 3033, 'partli': 3034, 'miracl': 3035, 'sidekick': 3036, 'sloppi': 3037, 'evok': 3038, 'fifteen': 3039, 'mitchel': 3040, 'seller': 3041, 'wipe': 3042, 'norman': 3043, 'bleak': 3044, 'eighti': 3045, 'pal': 3046, 'declar': 3047, 'inconsist': 3048, 'aforement': 3049, 'chew': 3050, 'websit': 3051, 'superbl': 3052, 'enthusiast': 3053, 'piano': 3054, 'farc': 3055, 'flawless': 3056, 'debat': 3057, 'lifestyl': 3058, 'psychiatrist': 3059, 'seed': 3060, 'cheek': 3061, '45': 3062, 'australia': 3063, 'ho': 3064, 'destin': 3065, 'stoog': 3066, 'regardless': 3067, 'kitchen': 3068, 'incompet': 3069, 'splatter': 3070, 'slice': 3071, 'anni': 3072, 'akshay': 3073, 'soviet': 3074, 'bash': 3075, 'wick': 3076, 'abc': 3077, 'pressur': 3078, 'emili': 3079, 'dash': 3080, 'directori': 3081, 'wrestl': 3082, 'drivel': 3083, 'dire': 3084, 'duo': 3085, 'boil': 3086, 'glow': 3087, 'jar': 3088, 'pleasantli': 3089, 'distant': 3090, 'artifici': 3091, 'ken': 3092, 'recov': 3093, 'beaten': 3094, 'suppli': 3095, 'chapter': 3096, 'increas': 3097, 'dave': 3098, 'lou': 3099, 'prize': 3100, 'flower': 3101, 'curios': 3102, 'judi': 3103, 'mann': 3104, 'helicopt': 3105, 'cameron': 3106, 'blob': 3107, 'seduc': 3108, 'doo': 3109, 'cia': 3110, 'cagney': 3111, 'perri': 3112, 'splendid': 3113, 'drunken': 3114, 'glenn': 3115, 'laurel': 3116, 'eleg': 3117, 'web': 3118, 'hop': 3119, 'combat': 3120, 'ellen': 3121, 'turner': 3122, 'craig': 3123, 'psychot': 3124, 'favour': 3125, 'goldberg': 3126, 'craven': 3127, 'panic': 3128, 'ranger': 3129, 'francisco': 3130, 'greek': 3131, 'ruth': 3132, 'shortli': 3133, 'gentl': 3134, 'hatr': 3135, 'plausibl': 3136, 'flip': 3137, 'modesti': 3138, 'rid': 3139, '20th': 3140, 'graduat': 3141, 'fx': 3142, 'gandhi': 3143, 'falk': 3144, 'alexand': 3145, 'slightest': 3146, 'min': 3147, 'philosophi': 3148, 'wizard': 3149, 'ocean': 3150, 'manhattan': 3151, 'preciou': 3152, 'harm': 3153, 'tall': 3154, 'holi': 3155, 'dracula': 3156, 'felix': 3157, 'unpleas': 3158, 'fund': 3159, 'we': 3160, 'futurist': 3161, 'jealou': 3162, 'lend': 3163, 'knight': 3164, 'legal': 3165, 'childish': 3166, 'ami': 3167, 'digniti': 3168, 'overdon': 3169, 'scientif': 3170, 'reviv': 3171, 'giallo': 3172, 'explicit': 3173, 'nod': 3174, 'tank': 3175, 'thread': 3176, 'bless': 3177, 'mock': 3178, 'forbidden': 3179, 'awe': 3180, 'nerv': 3181, 'broad': 3182, 'awaken': 3183, 'elderli': 3184, '99': 3185, 'torment': 3186, 'mel': 3187, 'margaret': 3188, 'yesterday': 3189, 'thick': 3190, 'unwatch': 3191, '2004': 3192, 'fever': 3193, 'eve': 3194, 'verhoeven': 3195, 'repeatedli': 3196, 'pirat': 3197, 'rivet': 3198, 'publish': 3199, 'absenc': 3200, 'eas': 3201, 'automat': 3202, 'launch': 3203, 'ambit': 3204, 'griffith': 3205, 'romero': 3206, 'roman': 3207, 'lean': 3208, 'royal': 3209, 'uniform': 3210, 'ah': 3211, 'timothi': 3212, 'acclaim': 3213, 'custom': 3214, 'bin': 3215, 'politician': 3216, 'kay': 3217, 'stiller': 3218, 'tomato': 3219, 'termin': 3220, 'transport': 3221, 'darker': 3222, 'foul': 3223, 'phrase': 3224, 'antic': 3225, 'wallac': 3226, 'bathroom': 3227, 'stinker': 3228, 'purpl': 3229, 'gabriel': 3230, 'pierc': 3231, 'pulp': 3232, 'crook': 3233, 'sunshin': 3234, 'warren': 3235, 'homicid': 3236, 'horrid': 3237, '2003': 3238, 'sixti': 3239, 'choreographi': 3240, 'li': 3241, 'juvenil': 3242, 'hollow': 3243, 'album': 3244, 'contrari': 3245, 'kenneth': 3246, 'eyr': 3247, 'pray': 3248, 'evolv': 3249, 'marin': 3250, 'awak': 3251, 'rambo': 3252, 'saint': 3253, 'brazil': 3254, 'viciou': 3255, 'ought': 3256, 'packag': 3257, 'coloni': 3258, 'donna': 3259, 'q': 3260, 'prom': 3261, 'revolutionari': 3262, 'karen': 3263, 'dose': 3264, 'stole': 3265, 'ireland': 3266, 'overr': 3267, 'defi': 3268, 'mummi': 3269, 'conserv': 3270, 'kapoor': 3271, 'boast': 3272, 'nerd': 3273, 'mildr': 3274, 'blade': 3275, 'twelv': 3276, 'option': 3277, 'beatti': 3278, 'candid': 3279, 'ramon': 3280, 'trio': 3281, 'kirk': 3282, 'funer': 3283, 'detract': 3284, 'natali': 3285, 'flame': 3286, 'collabor': 3287, 'astonish': 3288, 'jazz': 3289, 'protest': 3290, 'confirm': 3291, 'altman': 3292, 'fulci': 3293, 'global': 3294, 'blake': 3295, 'whip': 3296, 'enterpris': 3297, 'mystic': 3298, 'bottl': 3299, 'delici': 3300, 'destini': 3301, 'shade': 3302, 'leap': 3303, 'yellow': 3304, 'audio': 3305, 'racial': 3306, 'tommi': 3307, 'nicholson': 3308, 'bull': 3309, 'spit': 3310, 'todd': 3311, 'visibl': 3312, 'altogeth': 3313, 'enchant': 3314, 'neo': 3315, 'reunit': 3316, 'harder': 3317, 'staff': 3318, 'meaningless': 3319, 'popcorn': 3320, 'adolesc': 3321, 'vivid': 3322, 'fonda': 3323, 'merci': 3324, 'bedroom': 3325, 'pseudo': 3326, 'threw': 3327, 'inherit': 3328, 'swedish': 3329, 'madonna': 3330, 'decor': 3331, 'synopsi': 3332, 'lemmon': 3333, 'suspici': 3334, 'wire': 3335, 'kennedi': 3336, 'bust': 3337, 'await': 3338, 'fanat': 3339, 'ruthless': 3340, 'exhibit': 3341, 'uneven': 3342, 'atlanti': 3343, 'crocodil': 3344, 'roommat': 3345, 'moodi': 3346, 'tip': 3347, 'leonard': 3348, 'edi': 3349, 'befriend': 3350, 'reserv': 3351, 'voight': 3352, 'jew': 3353, 'lawrenc': 3354, 'respond': 3355, 'voyag': 3356, 'rural': 3357, 'garner': 3358, 'clint': 3359, 'audit': 3360, 'palma': 3361, 'bold': 3362, 'unsettl': 3363, 'ventur': 3364, 'centr': 3365, 'abysm': 3366, 'chao': 3367, 'clumsi': 3368, 'dimens': 3369, '2007': 3370, 'bargain': 3371, 'carl': 3372, 'incident': 3373, 'holli': 3374, 'bradi': 3375, 'daddi': 3376, 'echo': 3377, 'cd': 3378, 'mall': 3379, 'elimin': 3380, 'tiger': 3381, 'imperson': 3382, 'lit': 3383, 'poetic': 3384, 'ant': 3385, 'hart': 3386, 'versu': 3387, 'wealth': 3388, 'nearbi': 3389, 'troop': 3390, 'characterist': 3391, 'humili': 3392, '2nd': 3393, 'neglect': 3394, 'cuba': 3395, 'timon': 3396, 'acknowledg': 3397, 'cari': 3398, 'immigr': 3399, 'trail': 3400, 'solo': 3401, 'prejudic': 3402, 'collaps': 3403, 'mistaken': 3404, 'saga': 3405, 'domest': 3406, 'celluloid': 3407, 'marshal': 3408, 'infect': 3409, 'homer': 3410, 'jeffrey': 3411, 'paus': 3412, 'mickey': 3413, 'pun': 3414, 'repuls': 3415, 'coat': 3416, 'cake': 3417, 'gear': 3418, 'olivi': 3419, '1996': 3420, 'assembl': 3421, 'inan': 3422, 'leon': 3423, 'inappropri': 3424, 'promin': 3425, 'apolog': 3426, 'undoubtedli': 3427, 'hbo': 3428, 'interrupt': 3429, 'sore': 3430, 'harvey': 3431, 'equip': 3432, 'tribe': 3433, 'milk': 3434, 'pant': 3435, 'chest': 3436, 'ginger': 3437, 'coffe': 3438, 'brooklyn': 3439, 'furthermor': 3440, 'highest': 3441, 'aveng': 3442, 'pen': 3443, 'humbl': 3444, 'primari': 3445, 'trace': 3446, 'embrac': 3447, 'devast': 3448, 'consum': 3449, 'pot': 3450, 'maggi': 3451, 'polanski': 3452, 'colonel': 3453, 'airplan': 3454, 'colleagu': 3455, 'vulgar': 3456, 'instant': 3457, 'florida': 3458, 'exot': 3459, 'retain': 3460, 'solut': 3461, 'institut': 3462, 'jenni': 3463, '3rd': 3464, 'seduct': 3465, 'gender': 3466, 'rick': 3467, 'linda': 3468, 'principl': 3469, '1999': 3470, 'illog': 3471, 'poke': 3472, 'dian': 3473, 'descend': 3474, 'strain': 3475, 'bowl': 3476, 'smaller': 3477, 'godzilla': 3478, 'disabl': 3479, 'outer': 3480, 'dutch': 3481, 'cope': 3482, 'wive': 3483, 'ya': 3484, 'sale': 3485, 'dud': 3486, 'dive': 3487, 'scope': 3488, 'primarili': 3489, 'gloriou': 3490, 'inferior': 3491, 'yard': 3492, 'gundam': 3493, 'lol': 3494, 'secondli': 3495, 'predecessor': 3496, 'devoid': 3497, 'bubbl': 3498, 'mixtur': 3499, 'hal': 3500, 'cue': 3501, 'blatant': 3502, 'beneath': 3503, 'glamor': 3504, 'vast': 3505, 'rabbit': 3506, 'pearl': 3507, 'simplist': 3508, 'hideou': 3509, 'alfr': 3510, 'casual': 3511, 'streep': 3512, 'garbo': 3513, 'senseless': 3514, 'trademark': 3515, 'disjoint': 3516, 'april': 3517, 'et': 3518, 'countrysid': 3519, 'museum': 3520, 'aggress': 3521, 'alert': 3522, 'z': 3523, 'breed': 3524, 'myer': 3525, 'arab': 3526, 'talki': 3527, 'shirley': 3528, 'shelf': 3529, 'invas': 3530, 'grinch': 3531, 'domino': 3532, 'boom': 3533, 'slide': 3534, 'robberi': 3535, 'unhappi': 3536, 'defens': 3537, 'stack': 3538, 'khan': 3539, 'hopeless': 3540, 'oz': 3541, 'uwe': 3542, 'experiment': 3543, 'maci': 3544, 'hardcor': 3545, 'stellar': 3546, 'vanish': 3547, 'illeg': 3548, 'applaud': 3549, 'stir': 3550, 'loyal': 3551, 'disgrac': 3552, 'sh': 3553, 'rendit': 3554, 'mail': 3555, 'obtain': 3556, 'robinson': 3557, 'mayor': 3558, 'acid': 3559, 'dismiss': 3560, 'wont': 3561, 'craze': 3562, 'emphasi': 3563, 'incomprehens': 3564, 'span': 3565, 'grandfath': 3566, 'fri': 3567, 'amanda': 3568, 'topless': 3569, 'spider': 3570, 'tenant': 3571, 'declin': 3572, 'hartley': 3573, 'tempt': 3574, 'counter': 3575, 'blew': 3576, 'diana': 3577, 'rifl': 3578, 'recruit': 3579, 'dicken': 3580, 'soccer': 3581, 'berlin': 3582, 'psychic': 3583, 'scroog': 3584, 'woo': 3585, 'trashi': 3586, 'sibl': 3587, 'revolt': 3588, 'shed': 3589, 'bitch': 3590, 'parad': 3591, 'ethnic': 3592, 'goer': 3593, 'sympath': 3594, 'riot': 3595, 'resurrect': 3596, 'niro': 3597, 'shaw': 3598, 'justin': 3599, 'intim': 3600, 'wet': 3601, 'lumet': 3602, 'ration': 3603, 'porno': 3604, 'faster': 3605, 'steam': 3606, 'wheel': 3607, 'choru': 3608, 'dealer': 3609, 'hesit': 3610, 'weakest': 3611, 'ensur': 3612, 'enlighten': 3613, 'nephew': 3614, 'gap': 3615, '00': 3616, 'slick': 3617, 'region': 3618, 'partial': 3619, 'rider': 3620, 'eager': 3621, 'commend': 3622, 'mario': 3623, 'unreal': 3624, 'patriot': 3625, 'biographi': 3626, 'immort': 3627, 'andr': 3628, 'farmer': 3629, 'feminist': 3630, 'worm': 3631, 'ballet': 3632, 'honesti': 3633, 'jonathan': 3634, 'lena': 3635, 'wendi': 3636, 'hopper': 3637, 'safeti': 3638, 'sandra': 3639, 'charlott': 3640, 'skull': 3641, 'wore': 3642, 'leo': 3643, 'composit': 3644, 'victori': 3645, 'franco': 3646, 'vice': 3647, 'confin': 3648, 'util': 3649, 'hung': 3650, 'mutant': 3651, 'repress': 3652, 'owen': 3653, 'properti': 3654, 'psychopath': 3655, 'sappi': 3656, 'prequel': 3657, 'morri': 3658, 'macarthur': 3659, 'blunt': 3660, 'similarli': 3661, 'snap': 3662, 'kingdom': 3663, 'nostalg': 3664, 'rope': 3665, 'tad': 3666, 'valuabl': 3667, 'dalton': 3668, 'cg': 3669, 'nervou': 3670, 'tail': 3671, 'emperor': 3672, 'snl': 3673, 'recycl': 3674, 'strand': 3675, 'thru': 3676, 'compass': 3677, 'compens': 3678, 'bergman': 3679, 'dust': 3680, 'bonu': 3681, 'drum': 3682, 'acquir': 3683, 'del': 3684, 'speci': 3685, 'drain': 3686, 'whoopi': 3687, 'latin': 3688, 'deed': 3689, 'miseri': 3690, 'heartbreak': 3691, 'hyde': 3692, 'campbel': 3693, '1972': 3694, 'pattern': 3695, 'bumbl': 3696, 'bow': 3697, 'farrel': 3698, 'repli': 3699, 'exit': 3700, 'despair': 3701, 'montana': 3702, 'kyle': 3703, 'rocki': 3704, 'rambl': 3705, 'downhil': 3706, 'carradin': 3707, 'orson': 3708, 'radic': 3709, 'romp': 3710, 'olli': 3711, 'wacki': 3712, 'da': 3713, 'rotten': 3714, 'bleed': 3715, 'contempl': 3716, 'gal': 3717, '35': 3718, 'chess': 3719, 'mistress': 3720, 'rapist': 3721, 'roth': 3722, 'percept': 3723, 'airport': 3724, 'pour': 3725, 'slug': 3726, 'gimmick': 3727, 'tonight': 3728, 'martian': 3729, 'oppress': 3730, 'paltrow': 3731, 'pervert': 3732, 'pursuit': 3733, 'stilt': 3734, 'melodi': 3735, 'edgar': 3736, 'arguabl': 3737, 'heal': 3738, 'attorney': 3739, 'taught': 3740, 'programm': 3741, 'mislead': 3742, 'dazzl': 3743, 'tooth': 3744, 'slash': 3745, '1983': 3746, 'tackl': 3747, 'preach': 3748, 'pervers': 3749, 'banal': 3750, 'arc': 3751, 'belt': 3752, 'champion': 3753, 'unpredict': 3754, 'shelley': 3755, 'mesmer': 3756, 'raymond': 3757, 'cleverli': 3758, 'vocal': 3759, 'virginia': 3760, 'uplift': 3761, 'graham': 3762, 'tiresom': 3763, 'gambl': 3764, 'marti': 3765, 'rubi': 3766, 'passeng': 3767, 'vengeanc': 3768, 'sensat': 3769, 'employe': 3770, 'bela': 3771, 'conneri': 3772, 'closest': 3773, 'plight': 3774, 'franki': 3775, 'orang': 3776, 'dixon': 3777, 'chicken': 3778, 'maid': 3779, 'poem': 3780, 'duval': 3781, 'outing': 3782, 'volum': 3783, 'quarter': 3784, 'suffic': 3785, 'yawn': 3786, 'climact': 3787, '1968': 3788, 'crystal': 3789, 'secretli': 3790, 'iran': 3791, 'extens': 3792, 'whine': 3793, 'sirk': 3794, 'tube': 3795, 'amitabh': 3796, 'habit': 3797, 'swallow': 3798, 'bay': 3799, 'scottish': 3800, 'convincingli': 3801, 'gerard': 3802, 'paranoia': 3803, 'mute': 3804, 'calm': 3805, 'monologu': 3806, 'numb': 3807, 'profan': 3808, 'giggl': 3809, 'abraham': 3810, 'clone': 3811, 'engross': 3812, 'inject': 3813, 'lundgren': 3814, 'pokemon': 3815, 'lowest': 3816, 'austen': 3817, 'grotesqu': 3818, 'ethan': 3819, 'richardson': 3820, 'backward': 3821, 'spock': 3822, 'poetri': 3823, 'plod': 3824, 'franci': 3825, 'surpass': 3826, 'frankenstein': 3827, 'bend': 3828, 'underst': 3829, 'dispos': 3830, 'earl': 3831, 'septemb': 3832, 'chicago': 3833, 'expand': 3834, 'trend': 3835, 'abort': 3836, 'junior': 3837, 'meander': 3838, 'profess': 3839, 'im': 3840, 'taxi': 3841, 'linger': 3842, 'nichola': 3843, 'fed': 3844, 'rant': 3845, 'mundan': 3846, 'catchi': 3847, 'dysfunct': 3848, 'instrument': 3849, 'hum': 3850, 'cannon': 3851, 'compliment': 3852, 'waitress': 3853, 'stallon': 3854, 'greedi': 3855, 'nostalgia': 3856, 'household': 3857, 'myth': 3858, 'rubber': 3859, 'tourist': 3860, 'der': 3861, 'lure': 3862, 'spoke': 3863, 'literatur': 3864, 'econom': 3865, 'muddl': 3866, 'simplic': 3867, 'eugen': 3868, 'descent': 3869, 'sue': 3870, 'mortal': 3871, 'alongsid': 3872, 'cent': 3873, 'deaf': 3874, 'dictat': 3875, 'phoni': 3876, 'bacal': 3877, 'damon': 3878, 'randi': 3879, 'firstli': 3880, 'recognit': 3881, 'eaten': 3882, 'insur': 3883, 'stale': 3884, 'carel': 3885, 'occupi': 3886, 'coast': 3887, 'duck': 3888, 'louis': 3889, 'irrelev': 3890, 'phantom': 3891, 'omen': 3892, 'mankind': 3893, 'june': 3894, 'equival': 3895, 'sissi': 3896, 'molli': 3897, 'recognis': 3898, 'crucial': 3899, 'dement': 3900, 'map': 3901, 'flee': 3902, 'furi': 3903, 'hello': 3904, 'lang': 3905, 'cyborg': 3906, 'lengthi': 3907, 'labor': 3908, 'onlin': 3909, 'heel': 3910, 'bump': 3911, 'daisi': 3912, 'bike': 3913, 'buffalo': 3914, 'blackmail': 3915, 'biko': 3916, 'reign': 3917, 'likewis': 3918, 'ashley': 3919, 'loyalti': 3920, 'twilight': 3921, 'wisdom': 3922, '1973': 3923, 'drake': 3924, 'freez': 3925, 'damm': 3926, 'newli': 3927, 'grayson': 3928, 'distinguish': 3929, 'rooney': 3930, 'rude': 3931, 'dreari': 3932, 'antwon': 3933, 'interior': 3934, 'attribut': 3935, 'keith': 3936, 'incorpor': 3937, 'emphas': 3938, 'vein': 3939, 'ridden': 3940, 'tunnel': 3941, 'provoc': 3942, 'basketbal': 3943, 'startl': 3944, 'unorigin': 3945, 'inher': 3946, 'proce': 3947, 'approv': 3948, 'chronicl': 3949, 'baddi': 3950, 'sailor': 3951, 'nineti': 3952, 'worn': 3953, 'butler': 3954, 'analysi': 3955, 'prey': 3956, 'pink': 3957, 'boxer': 3958, 'barrymor': 3959, 'exposur': 3960, 'elm': 3961, 'hypnot': 3962, 'underli': 3963, 'nicol': 3964, 'walsh': 3965, 'undeni': 3966, 'improvis': 3967, 'condemn': 3968, 'drift': 3969, 'fleet': 3970, 'simmon': 3971, 'millionair': 3972, 'julian': 3973, 'meg': 3974, 'degrad': 3975, 'bunni': 3976, 'indiffer': 3977, 'stalker': 3978, 'meyer': 3979, 'robbin': 3980, 'othello': 3981, 'predat': 3982, 'barrel': 3983, 'er': 3984, 'mighti': 3985, 'unrel': 3986, 'substitut': 3987, 'belushi': 3988, 'mormon': 3989, 'carla': 3990, 'priceless': 3991, 'nyc': 3992, 'watson': 3993, 'shove': 3994, 'vital': 3995, 'exquisit': 3996, 'hay': 3997, 'disord': 3998, 'marion': 3999, 'warmth': 4000, '3d': 4001, 'mtv': 4002, 'greed': 4003, 'lampoon': 4004, 'roof': 4005, 'rukh': 4006, 'alison': 4007, 'enthusiasm': 4008, 'firm': 4009, 'edgi': 4010, 'alarm': 4011, 'unawar': 4012, 'dolph': 4013, 'agenda': 4014, 'reid': 4015, 'palac': 4016, 'errol': 4017, 'novak': 4018, 'valentin': 4019, 'glanc': 4020, 'peril': 4021, 'simultan': 4022, 'spain': 4023, 'randomli': 4024, 'ponder': 4025, 'petti': 4026, 'session': 4027, 'thompson': 4028, 'nun': 4029, 'drip': 4030, 'profit': 4031, '1933': 4032, '13th': 4033, 'beatl': 4034, 'minimum': 4035, 'testament': 4036, 'eastern': 4037, 'gestur': 4038, 'cassidi': 4039, 'sergeant': 4040, 'peck': 4041, 'coup': 4042, 'iraq': 4043, 'unleash': 4044, 'preserv': 4045, 'orlean': 4046, 'showdown': 4047, 'what': 4048, 'pamela': 4049, 'angela': 4050, 'zizek': 4051, 'campaign': 4052, 'championship': 4053, 'distort': 4054, 'crown': 4055, 'israel': 4056, 'din': 4057, 'han': 4058, 'shootout': 4059, '1984': 4060, 'mon': 4061, 'exposit': 4062, 'contradict': 4063, 'reson': 4064, 'travesti': 4065, 'crow': 4066, 'cream': 4067, 'scotland': 4068, 'rout': 4069, 'valley': 4070, 'buster': 4071, 'brenda': 4072, 'restrain': 4073, 'climat': 4074, 'stake': 4075, 'wig': 4076, 'unimagin': 4077, 'regist': 4078, 'jan': 4079, 'bro': 4080, 'crawl': 4081, 'realm': 4082, 'perpetu': 4083, 'empathi': 4084, 'cooki': 4085, 'fido': 4086, 'represent': 4087, 'calib': 4088, 'kurosawa': 4089, 'quinn': 4090, 'sabrina': 4091, 'gentleman': 4092, 'stroke': 4093, 'miyazaki': 4094, 'abomin': 4095, 'derang': 4096, '1997': 4097, 'mclaglen': 4098, 'wax': 4099, 'geek': 4100, 'unsatisfi': 4101, 'censor': 4102, 'meryl': 4103, 'fuller': 4104, 'sucker': 4105, 'absent': 4106, 'greg': 4107, 'compromis': 4108, 'baldwin': 4109, 'pole': 4110, 'femm': 4111, 'distress': 4112, 'traumat': 4113, 'painter': 4114, 'tacki': 4115, 'ustinov': 4116, 'warrant': 4117, 'passabl': 4118, 'businessman': 4119, 'sammi': 4120, 'shaki': 4121, 'delic': 4122, '1987': 4123, 'shoddi': 4124, 'cloud': 4125, 'demis': 4126, 'unseen': 4127, 'josh': 4128, 'stargat': 4129, 'monoton': 4130, 'ross': 4131, 'dana': 4132, 'pretens': 4133, 'soderbergh': 4134, 'perceiv': 4135, 'spacey': 4136, 'crawford': 4137, 'darren': 4138, 'austin': 4139, 'unravel': 4140, 'accuraci': 4141, 'valid': 4142, 'tech': 4143, 'exclus': 4144, 'verbal': 4145, 'kumar': 4146, 'dee': 4147, 'wholli': 4148, 'sid': 4149, 'primit': 4150, 'norm': 4151, 'jewel': 4152, 'tarantino': 4153, 'antonioni': 4154, 'deceas': 4155, 'reluct': 4156, 'correctli': 4157, 'seal': 4158, 'expedit': 4159, 'uncov': 4160, 'click': 4161, 'fog': 4162, 'deniro': 4163, '1993': 4164, 'furiou': 4165, 'judgment': 4166, 'polici': 4167, 'clash': 4168, 'anchor': 4169, 'fenc': 4170, 'nathan': 4171, 'crippl': 4172, 'sheet': 4173, 'fabric': 4174, 'sustain': 4175, 'trait': 4176, 'fart': 4177, 'wretch': 4178, 'enforc': 4179, 'seldom': 4180, 'malon': 4181, 'vanc': 4182, '2008': 4183, 'temper': 4184, 'bake': 4185, 'logan': 4186, 'joel': 4187, 'roller': 4188, 'patienc': 4189, 'sand': 4190, 'hallucin': 4191, 'darn': 4192, '3000': 4193, 'behold': 4194, 'fought': 4195, '1995': 4196, 'shanghai': 4197, 'alec': 4198, 'mode': 4199, 'dreck': 4200, 'conduct': 4201, 'wang': 4202, 'unfair': 4203, 'murray': 4204, 'sunni': 4205, 'tax': 4206, '1971': 4207, 'clerk': 4208, 'slam': 4209, 'nicola': 4210, 'debt': 4211, 'pocket': 4212, 'ritual': 4213, 'bridget': 4214, 'preposter': 4215, 'rita': 4216, 'fundament': 4217, 'technicolor': 4218, 'stark': 4219, 'clau': 4220, 'critiqu': 4221, 'schedul': 4222, 'tactic': 4223, 'sweep': 4224, 'guitar': 4225, 'isabel': 4226, 'helpless': 4227, 'runner': 4228, 'pete': 4229, 'scriptwrit': 4230, 'squad': 4231, 'legaci': 4232, 'despis': 4233, 'divid': 4234, 'soup': 4235, 'conscious': 4236, 'grief': 4237, 'phil': 4238, 'outlin': 4239, 'stuart': 4240, 'robber': 4241, 'shell': 4242, 'exhaust': 4243, 'canyon': 4244, 'preston': 4245, 'penni': 4246, 'bias': 4247, 'vomit': 4248, 'kansa': 4249, 'russia': 4250, 'lacklust': 4251, 'unexpectedli': 4252, 'propos': 4253, 'jacket': 4254, 'cigarett': 4255, 'passag': 4256, 'newman': 4257, 'drove': 4258, 'sugar': 4259, 'rear': 4260, 'flair': 4261, 'bloom': 4262, 'marc': 4263, 'downey': 4264, 'gregori': 4265, 'sniper': 4266, 'sentinel': 4267, 'inabl': 4268, 'jodi': 4269, 'delv': 4270, 'culmin': 4271, 'invad': 4272, 'boyl': 4273, 'consciou': 4274, 'agenc': 4275, 'connor': 4276, 'rehash': 4277, 'restrict': 4278, 'liberti': 4279, 'alley': 4280, 'implic': 4281, 'palanc': 4282, 'alicia': 4283, 'sharon': 4284, 'pale': 4285, 'chainsaw': 4286, 'cap': 4287, 'vet': 4288, 'wrench': 4289, 'mccoy': 4290, 'feat': 4291, 'karl': 4292, 'asylum': 4293, 'behaviour': 4294, 'rehears': 4295, 'improb': 4296, 'tendenc': 4297, '1936': 4298, 'horn': 4299, 'bacon': 4300, 'awhil': 4301, 'lush': 4302, 'aesthet': 4303, 'tripe': 4304, '22': 4305, 'arrow': 4306, 'rampag': 4307, 'ladder': 4308, 'delet': 4309, 'foxx': 4310, 'kolchak': 4311, 'rod': 4312, 'yeti': 4313, 'shortcom': 4314, '1988': 4315, 'hackney': 4316, 'globe': 4317, 'spice': 4318, 'suspicion': 4319, 'el': 4320, 'newcom': 4321, 'underneath': 4322, 'paradis': 4323, 'weav': 4324, 'filler': 4325, 'minu': 4326, 'loneli': 4327, 'amazon': 4328, 'tasteless': 4329, '1920': 4330, '1978': 4331, 'fright': 4332, 'suffici': 4333, 'lurk': 4334, 'coaster': 4335, 'tomorrow': 4336, 'paramount': 4337, 'financ': 4338, 'rumor': 4339, 'stream': 4340, 'elit': 4341, 'hulk': 4342, 'conscienc': 4343, '19th': 4344, 'visitor': 4345, 'scoop': 4346, 'wagner': 4347, 'basing': 4348, 'prank': 4349, 'rhythm': 4350, 'wildli': 4351, 'thunderbird': 4352, 'sung': 4353, 'aristocrat': 4354, 'hungri': 4355, 'immers': 4356, 'impos': 4357, 'counterpart': 4358, 'worship': 4359, '1939': 4360, 'teas': 4361, 'dirt': 4362, 'lectur': 4363, 'heist': 4364, 'ram': 4365, 'atroc': 4366, 'beverli': 4367, '75': 4368, 'posey': 4369, 'chamberlain': 4370, 'abrupt': 4371, 'inmat': 4372, 'leigh': 4373, 'quietli': 4374, 'naughti': 4375, 'penn': 4376, 'grudg': 4377, 'smell': 4378, 'brit': 4379, 'literari': 4380, '1989': 4381, 'entranc': 4382, 'hopkin': 4383, 'standout': 4384, 'paxton': 4385, 'minist': 4386, 'springer': 4387, 'en': 4388, 'straightforward': 4389, 'couch': 4390, 'tierney': 4391, 'rub': 4392, 'cancer': 4393, 'curli': 4394, 'recogniz': 4395, 'ingeni': 4396, 'wwe': 4397, 'bread': 4398, 'chavez': 4399, 'iv': 4400, 'secondari': 4401, 'choppi': 4402, 'transcend': 4403, 'attenborough': 4404, 'sublim': 4405, 'ace': 4406, 'duel': 4407, 'entitl': 4408, 'morbid': 4409, 'skeptic': 4410, 'laurenc': 4411, 'moreov': 4412, 'injuri': 4413, 'heartfelt': 4414, 'lindsay': 4415, 'cattl': 4416, 'nolan': 4417, '1986': 4418, 'sassi': 4419, 'yearn': 4420, 'nemesi': 4421, 'missil': 4422, 'net': 4423, 'misguid': 4424, 'enthral': 4425, 'bernard': 4426, 'convert': 4427, 'variat': 4428, 'policeman': 4429, 'watcher': 4430, 'geni': 4431, 'esther': 4432, 'quaid': 4433, 'clan': 4434, 'ratso': 4435, 'setup': 4436, 'buzz': 4437, 'spiral': 4438, 'graini': 4439, 'unexplain': 4440, 'grin': 4441, 'steadi': 4442, 'dont': 4443, 'vader': 4444, 'cruelti': 4445, 'bye': 4446, 'mytholog': 4447, 'characteris': 4448, 'obstacl': 4449, 'moder': 4450, 'youngest': 4451, 'reliabl': 4452, 'facil': 4453, 'kidman': 4454, 'hopelessli': 4455, 'tyler': 4456, 'puppi': 4457, 'poe': 4458, 'artsi': 4459, 'uncut': 4460, 'rosemari': 4461, 'out': 4462, 'carlito': 4463, 'diari': 4464, 'brood': 4465, 'enabl': 4466, 'bean': 4467, 'egg': 4468, '1979': 4469, 'kitti': 4470, 'hk': 4471, 'exterior': 4472, 'narrow': 4473, 'oblig': 4474, 'hammi': 4475, 'gina': 4476, 'bronson': 4477, 'spontan': 4478, 'martha': 4479, 'weather': 4480, 'patricia': 4481, 'effici': 4482, 'decept': 4483, 'athlet': 4484, 'despic': 4485, 'brendan': 4486, 'fuel': 4487, 'acquaint': 4488, 'gillian': 4489, 'christin': 4490, 'bewar': 4491, 'kline': 4492, 'baffl': 4493, 'bounc': 4494, 'preming': 4495, 'disastr': 4496, 'hain': 4497, 'clueless': 4498, 'heap': 4499, 'sweat': 4500, 'underworld': 4501, '1969': 4502, 'niec': 4503, 'headach': 4504, 'loath': 4505, 'shatter': 4506, 'outlaw': 4507, 'hepburn': 4508, 'loi': 4509, 'goof': 4510, 'renaiss': 4511, 'dilemma': 4512, 'analyz': 4513, '19': 4514, 'taboo': 4515, 'astound': 4516, 'virtu': 4517, 'uh': 4518, 'angst': 4519, 'mermaid': 4520, 'biker': 4521, 'suprem': 4522, 'circu': 4523, 'rome': 4524, 'harmless': 4525, 'insipid': 4526, 'fontain': 4527, 'injur': 4528, 'sooner': 4529, 'trigger': 4530, 'housewif': 4531, '73': 4532, 'sleepwalk': 4533, 'mayhem': 4534, 'lester': 4535, 'candl': 4536, 'scar': 4537, 'viewpoint': 4538, 'tick': 4539, 'preachi': 4540, 'dandi': 4541, 'enlist': 4542, 'spade': 4543, 'overlong': 4544, 'dish': 4545, 'cassavet': 4546, 'hooker': 4547, 'boston': 4548, 'camcord': 4549, 'bent': 4550, 'immatur': 4551, 'slimi': 4552, 'ebert': 4553, 'phenomenon': 4554, 'fluff': 4555, 'salt': 4556, 'amor': 4557, 'filth': 4558, 'foolish': 4559, 'redund': 4560, 'claustrophob': 4561, 'idol': 4562, 'hokey': 4563, 'glorifi': 4564, 'hostag': 4565, 'macho': 4566, 'stair': 4567, 'intric': 4568, 'steer': 4569, 'whore': 4570, 'tripl': 4571, 'zoom': 4572, 'corbett': 4573, 'ariel': 4574, 'scorses': 4575, 'stimul': 4576, 'dismal': 4577, 'contempt': 4578, 'sox': 4579, 'gere': 4580, 'oldest': 4581, 'guin': 4582, 'surgeri': 4583, 'spree': 4584, 'proport': 4585, 'fascist': 4586, 'obligatori': 4587, 'faint': 4588, 'down': 4589, 'flirt': 4590, 'frantic': 4591, 'perman': 4592, 'keen': 4593, 'mutual': 4594, 'mount': 4595, 'spinal': 4596, 'strongest': 4597, 'cush': 4598, 'trivia': 4599, 'corman': 4600, 'joker': 4601, 'dwarf': 4602, '1976': 4603, 'shield': 4604, 'flashi': 4605, 'gasp': 4606, 'assert': 4607, 'remad': 4608, 'astronaut': 4609, 'widescreen': 4610, 'flag': 4611, 'conquer': 4612, 'margin': 4613, 'messi': 4614, 'naschi': 4615, '1981': 4616, 'shred': 4617, 'cow': 4618, 'zane': 4619, 'preced': 4620, 'antagonist': 4621, 'transplant': 4622, 'radiat': 4623, 'muscl': 4624, 'harold': 4625, 'cohen': 4626, 'nolt': 4627, 'schlock': 4628, 'gabl': 4629, 'rhyme': 4630, 'beard': 4631, 'alvin': 4632, 'sensual': 4633, 'raj': 4634, 'strive': 4635, 'bachelor': 4636, 'interestingli': 4637, 'mobil': 4638, 'someday': 4639, 'brush': 4640, 'neurot': 4641, '28': 4642, 'carey': 4643, 'triangl': 4644, 'off': 4645, 'fishburn': 4646, 'hara': 4647, 'repris': 4648, 'boob': 4649, 'wield': 4650, 'resum': 4651, 'www': 4652, 'mol': 4653, 'claud': 4654, 'ritchi': 4655, '1945': 4656, 'vaniti': 4657, 'archiv': 4658, 'inflict': 4659, 'instruct': 4660, 'scandal': 4661, 'persuad': 4662, 'info': 4663, 'danish': 4664, 'discern': 4665, 'barn': 4666, 'deer': 4667, 'departur': 4668, 'flock': 4669, '95': 4670, 'divin': 4671, 'aborigin': 4672, 'bitten': 4673, 'dim': 4674, 'parson': 4675, 'hilar': 4676, 'cliffhang': 4677, 'rot': 4678, 'jade': 4679, 'heartwarm': 4680, 'cb': 4681, 'hapless': 4682, 'dame': 4683, 'submit': 4684, 'frontier': 4685, 'fragil': 4686, 'clad': 4687, 'vibrant': 4688, 'prophet': 4689, 'harrison': 4690, 'banter': 4691, 'pacif': 4692, 'miracul': 4693, 'hug': 4694, 'mobster': 4695, 'ish': 4696, 'earnest': 4697, 'bate': 4698, 'europa': 4699, 'casino': 4700, 'kathryn': 4701, 'carlo': 4702, 'timberlak': 4703, 'traffic': 4704, 'artwork': 4705, 'neill': 4706, 'undermin': 4707, 'axe': 4708, 'pixar': 4709, 'proclaim': 4710, 'recit': 4711, 'wendigo': 4712, 'cycl': 4713, 'colin': 4714, 'biblic': 4715, 'dylan': 4716, 'helm': 4717, 'melissa': 4718, 'luka': 4719, 'cher': 4720, 'loretta': 4721, 'pickford': 4722, 'senior': 4723, 'anton': 4724, 'nope': 4725, 'jordan': 4726, 'feast': 4727, 'pc': 4728, 'orphan': 4729, 'mason': 4730, 'wardrob': 4731, 'vanessa': 4732, 'sicken': 4733, 'token': 4734, 'foil': 4735, 'electron': 4736, 'seedi': 4737, 'holocaust': 4738, 'jo': 4739, 'blatantli': 4740, 'bikini': 4741, 'akin': 4742, 'antholog': 4743, 'misfortun': 4744, 'venom': 4745, 'alexandr': 4746, 'vile': 4747, 'static': 4748, 'lucil': 4749, 'legitim': 4750, 'redneck': 4751, 'rooki': 4752, 'eli': 4753, 'razor': 4754, 'winchest': 4755, 'aris': 4756, 'northern': 4757, 'shepherd': 4758, 'illus': 4759, 'toronto': 4760, 'http': 4761, 'breakfast': 4762, 'bondag': 4763, 'articl': 4764, 'estrang': 4765, 'uma': 4766, 'lui': 4767, 'trier': 4768, 'marlon': 4769, 'flavor': 4770, 'cerebr': 4771, 'choke': 4772, 'isra': 4773, 'mathieu': 4774, 'milo': 4775, 'highway': 4776, 'audrey': 4777, 'knightley': 4778, 'gunga': 4779, 'deem': 4780, 'oppon': 4781, 'turd': 4782, 'shorter': 4783, 'swept': 4784, 'disregard': 4785, 'charlton': 4786, 'glare': 4787, 'leather': 4788, 'frog': 4789, 'retriev': 4790, 'smack': 4791, 'fifth': 4792, 'wrestler': 4793, 'magician': 4794, 'feminin': 4795, 'peer': 4796, 'howl': 4797, 'boyer': 4798, 'clinic': 4799, 'gilbert': 4800, 'comprehend': 4801, 'tack': 4802, 'dudley': 4803, 'cartoonish': 4804, 'huston': 4805, 'linear': 4806, 'outdat': 4807, 'styliz': 4808, 'abund': 4809, 'psych': 4810, 'affleck': 4811, 'nightclub': 4812, 'ceremoni': 4813, 'ideolog': 4814, 'durat': 4815, 'newer': 4816, 'greet': 4817, 'client': 4818, 'breakdown': 4819, 'deliver': 4820, 'bogu': 4821, 'moe': 4822, 'cemeteri': 4823, 'boo': 4824, 'salman': 4825, 'monument': 4826, 'evolut': 4827, 'corn': 4828, 'energet': 4829, 'summar': 4830, 'lifeless': 4831, 'whack': 4832, 'uniformli': 4833, 'braveheart': 4834, 'spine': 4835, 'toe': 4836, 'bastard': 4837, 'btw': 4838, 'senat': 4839, 'collector': 4840, 'compris': 4841, 'plate': 4842, 'chip': 4843, 'tara': 4844, '1991': 4845, 'einstein': 4846, 'lighter': 4847, 'conrad': 4848, 'potter': 4849, '1994': 4850, 'sleaz': 4851, 'spawn': 4852, '4th': 4853, 'snatch': 4854, 'phenomen': 4855, 'cuban': 4856, 'lavish': 4857, 'mitch': 4858, 'goldsworthi': 4859, 'capot': 4860, 'liu': 4861, '1977': 4862, 'jedi': 4863, 'clara': 4864, 'trauma': 4865, 'alleg': 4866, 'ol': 4867, 'healthi': 4868, 'kazan': 4869, 'armstrong': 4870, 'appl': 4871, 'spectacl': 4872, 'undead': 4873, 'lex': 4874, 'occup': 4875, 'neatli': 4876, 'signal': 4877, 'creek': 4878, 'replay': 4879, 'belli': 4880, 'sorrow': 4881, 'cecil': 4882, 'judd': 4883, 'inaccuraci': 4884, '1974': 4885, 'jule': 4886, 'pronounc': 4887, 'bulk': 4888, 'ie': 4889, 'jare': 4890, 'bori': 4891, 'gilliam': 4892, 'jam': 4893, 'luxuri': 4894, 'mcqueen': 4895, 'historian': 4896, 'outright': 4897, 'nina': 4898, 'randolph': 4899, 'firmli': 4900, 'fluid': 4901, 'constitut': 4902, 'embark': 4903, 'kent': 4904, 'undertak': 4905, 'evelyn': 4906, 'eleven': 4907, 'wtf': 4908, 'truman': 4909, 'knee': 4910, 'vignett': 4911, 'sacrif': 4912, 'miniseri': 4913, 'pioneer': 4914, 'bait': 4915, 'unsuspect': 4916, 'abound': 4917, 'poker': 4918, 'relentless': 4919, 'lauren': 4920, 'subtli': 4921, 'ash': 4922, 'vain': 4923, 'conan': 4924, 'palm': 4925, 'antonio': 4926, 'walt': 4927, 'rosario': 4928, 'roar': 4929, 'paula': 4930, 'decapit': 4931, 'goldblum': 4932, 'propheci': 4933, 'unattract': 4934, '1985': 4935, 'comprehens': 4936, 'kiddi': 4937, 'congratul': 4938, 'curtain': 4939, 'galaxi': 4940, 'porter': 4941, 'spray': 4942, 'forgiven': 4943, 'mum': 4944, 'bsg': 4945, 'fruit': 4946, 'sidewalk': 4947, 'lanc': 4948, 'meal': 4949, 'tokyo': 4950, 'groan': 4951, 'genet': 4952, 'carmen': 4953, 'pepper': 4954, 'blur': 4955, 'aussi': 4956, 'inclus': 4957, 'id': 4958, 'cape': 4959, 'inaccur': 4960, 'miami': 4961, 'basket': 4962, 'comb': 4963, 'sparkl': 4964, 'victorian': 4965, 'hackman': 4966, 'ingrid': 4967, 'scariest': 4968, 'turtl': 4969, 'cypher': 4970, 'mice': 4971, 'evan': 4972, 'handicap': 4973, 'growth': 4974, 'incorrect': 4975, 'asset': 4976, '21st': 4977, 'assort': 4978, 'dubiou': 4979, 'substanti': 4980, 'weaker': 4981, 'detach': 4982, 'masterson': 4983, 'hostil': 4984, 'rapidli': 4985, 'reincarn': 4986, 'optimist': 4987, 'macabr': 4988, 'vastli': 4989, 'bravo': 4990, 'drone': 4991, 'motorcycl': 4992, 'playboy': 4993, 'bach': 4994, 'profil': 4995, 'omin': 4996, 'verg': 4997, 'frontal': 4998, 'jill': 4999}\n"
     ]
    }
   ],
   "source": [
    "word_dict = build_dict(train_X)\n",
    "print(word_dict)"
   ]
  },
  {
   "cell_type": "markdown",
   "metadata": {},
   "source": [
    "**Question:** What are the five most frequently appearing (tokenized) words in the training set? Does it makes sense that these words appear frequently in the training set?"
   ]
  },
  {
   "cell_type": "markdown",
   "metadata": {},
   "source": [
    "**Answer:**\n",
    "\n",
    "* 'movi'\n",
    "* 'film' \n",
    "* 'one' \n",
    "* 'like'\n",
    "* 'time'\n",
    "\n",
    "the 5 top most frequent words in reviews make sense, because they all are directly related to describing a movie."
   ]
  },
  {
   "cell_type": "code",
   "execution_count": 14,
   "metadata": {},
   "outputs": [
    {
     "data": {
      "text/plain": [
       "[('movi', 2), ('film', 3), ('one', 4), ('like', 5), ('time', 6)]"
      ]
     },
     "execution_count": 14,
     "metadata": {},
     "output_type": "execute_result"
    }
   ],
   "source": [
    "# TODO: Use this space to determine the five most frequently appearing words in the training set.\n",
    "sorted(word_dict.items(), key=lambda x:x[1])[0:5]"
   ]
  },
  {
   "cell_type": "markdown",
   "metadata": {},
   "source": [
    "### Save `word_dict`\n",
    "\n",
    "Later on when we construct an endpoint which processes a submitted review we will need to make use of the `word_dict` which we have created. As such, we will save it to a file now for future use."
   ]
  },
  {
   "cell_type": "code",
   "execution_count": 15,
   "metadata": {},
   "outputs": [],
   "source": [
    "data_dir = '../data/pytorch' # The folder we will use for storing data\n",
    "if not os.path.exists(data_dir): # Make sure that the folder exists\n",
    "    os.makedirs(data_dir)"
   ]
  },
  {
   "cell_type": "code",
   "execution_count": 16,
   "metadata": {},
   "outputs": [],
   "source": [
    "with open(os.path.join(data_dir, 'word_dict.pkl'), \"wb\") as f:\n",
    "    pickle.dump(word_dict, f)"
   ]
  },
  {
   "cell_type": "markdown",
   "metadata": {},
   "source": [
    "### Transform the reviews\n",
    "\n",
    "Now that we have our word dictionary which allows us to transform the words appearing in the reviews into integers, it is time to make use of it and convert our reviews to their integer sequence representation, making sure to pad or truncate to a fixed length, which in our case is `500`."
   ]
  },
  {
   "cell_type": "code",
   "execution_count": 17,
   "metadata": {},
   "outputs": [],
   "source": [
    "def convert_and_pad(word_dict, sentence, pad=500):\n",
    "    NOWORD = 0 # We will use 0 to represent the 'no word' category\n",
    "    INFREQ = 1 # and we use 1 to represent the infrequent words, i.e., words not appearing in word_dict\n",
    "    \n",
    "    working_sentence = [NOWORD] * pad\n",
    "    \n",
    "    for word_index, word in enumerate(sentence[:pad]):\n",
    "        if word in word_dict:\n",
    "            working_sentence[word_index] = word_dict[word]\n",
    "        else:\n",
    "            working_sentence[word_index] = INFREQ\n",
    "            \n",
    "    return working_sentence, min(len(sentence), pad)\n",
    "\n",
    "def convert_and_pad_data(word_dict, data, pad=500):\n",
    "    result = []\n",
    "    lengths = []\n",
    "    \n",
    "    for sentence in data:\n",
    "        converted, leng = convert_and_pad(word_dict, sentence, pad)\n",
    "        result.append(converted)\n",
    "        lengths.append(leng)\n",
    "        \n",
    "    return np.array(result), np.array(lengths)"
   ]
  },
  {
   "cell_type": "code",
   "execution_count": 18,
   "metadata": {},
   "outputs": [],
   "source": [
    "train_X, train_X_len = convert_and_pad_data(word_dict, train_X)\n",
    "test_X, test_X_len = convert_and_pad_data(word_dict, test_X)"
   ]
  },
  {
   "cell_type": "markdown",
   "metadata": {},
   "source": [
    "As a quick check to make sure that things are working as intended, check to see what one of the reviews in the training set looks like after having been processeed. Does this look reasonable? What is the length of a review in the training set?"
   ]
  },
  {
   "cell_type": "code",
   "execution_count": 19,
   "metadata": {},
   "outputs": [
    {
     "name": "stdout",
     "output_type": "stream",
     "text": [
      "\n",
      "train_X[100] original length:\n",
      " 119\n",
      "\n",
      "train_X[100] length after being padded:\n",
      " 500\n",
      "\n",
      "train_X[100]:\n",
      " [   1   59    7  259  966  361    3  341  154  966    1    1    1   27\n",
      "   97    2  251   85  457  191    3 2537 2100  966    1   50    1    1\n",
      " 3618    1    6   28  783 1624    4  237    2  331    1 1396  426 1551\n",
      "   29  322 1269  362    1  714  430    3  482   27  727    1  216    9\n",
      "  687 1428    1  129  186    1   13 1813   17 4478   43  494   31   97\n",
      "   17  470    1    1    1 1009    1    2 1201   28 2664 2522    8    7\n",
      "  217  357 1142  414  209    2 3713 1318    1    7    1   43  258  728\n",
      "   76    1    1    4  865  107  966   43   11  340   81   79  966    1\n",
      "    1    1  208 3032    1 2022    1    0    0    0    0    0    0    0\n",
      "    0    0    0    0    0    0    0    0    0    0    0    0    0    0\n",
      "    0    0    0    0    0    0    0    0    0    0    0    0    0    0\n",
      "    0    0    0    0    0    0    0    0    0    0    0    0    0    0\n",
      "    0    0    0    0    0    0    0    0    0    0    0    0    0    0\n",
      "    0    0    0    0    0    0    0    0    0    0    0    0    0    0\n",
      "    0    0    0    0    0    0    0    0    0    0    0    0    0    0\n",
      "    0    0    0    0    0    0    0    0    0    0    0    0    0    0\n",
      "    0    0    0    0    0    0    0    0    0    0    0    0    0    0\n",
      "    0    0    0    0    0    0    0    0    0    0    0    0    0    0\n",
      "    0    0    0    0    0    0    0    0    0    0    0    0    0    0\n",
      "    0    0    0    0    0    0    0    0    0    0    0    0    0    0\n",
      "    0    0    0    0    0    0    0    0    0    0    0    0    0    0\n",
      "    0    0    0    0    0    0    0    0    0    0    0    0    0    0\n",
      "    0    0    0    0    0    0    0    0    0    0    0    0    0    0\n",
      "    0    0    0    0    0    0    0    0    0    0    0    0    0    0\n",
      "    0    0    0    0    0    0    0    0    0    0    0    0    0    0\n",
      "    0    0    0    0    0    0    0    0    0    0    0    0    0    0\n",
      "    0    0    0    0    0    0    0    0    0    0    0    0    0    0\n",
      "    0    0    0    0    0    0    0    0    0    0    0    0    0    0\n",
      "    0    0    0    0    0    0    0    0    0    0    0    0    0    0\n",
      "    0    0    0    0    0    0    0    0    0    0    0    0    0    0\n",
      "    0    0    0    0    0    0    0    0    0    0    0    0    0    0\n",
      "    0    0    0    0    0    0    0    0    0    0    0    0    0    0\n",
      "    0    0    0    0    0    0    0    0    0    0    0    0    0    0\n",
      "    0    0    0    0    0    0    0    0    0    0    0    0    0    0\n",
      "    0    0    0    0    0    0    0    0    0    0    0    0    0    0\n",
      "    0    0    0    0    0    0    0    0    0    0]\n"
     ]
    }
   ],
   "source": [
    "# Use this cell to examine one of the processed reviews to make sure everything is working as intended.\n",
    "print(\"\\ntrain_X[100] original length:\\n\", train_X_len[100])\n",
    "print(\"\\ntrain_X[100] length after being padded:\\n\", len(train_X[100]))\n",
    "print(\"\\ntrain_X[100]:\\n\", train_X[100])"
   ]
  },
  {
   "cell_type": "markdown",
   "metadata": {},
   "source": [
    "**Question:** In the cells above we use the `preprocess_data` and `convert_and_pad_data` methods to process both the training and testing set. Why or why not might this be a problem?"
   ]
  },
  {
   "cell_type": "markdown",
   "metadata": {},
   "source": [
    "**Answer:**\n",
    "\n",
    "In general one of the common way of feature engineering for text data is using \"bag-of-words\" technique. This technique required to create a dictionary of top frequency word from \"train data\" and use the same dictionary to tokenize \"test data\". This is what we did here and I do not see any problem with it.\n",
    "\n",
    "If we use separete dictionary for train and test data, because 2 different representations cretaed there will be problems in infrence step."
   ]
  },
  {
   "cell_type": "markdown",
   "metadata": {},
   "source": [
    "## Step 3: Upload the data to S3\n",
    "\n",
    "As in the XGBoost notebook, we will need to upload the training dataset to S3 in order for our training code to access it. For now we will save it locally and we will upload to S3 later on.\n",
    "\n",
    "### Save the processed training dataset locally\n",
    "\n",
    "It is important to note the format of the data that we are saving as we will need to know it when we write the training code. In our case, each row of the dataset has the form `label`, `length`, `review[500]` where `review[500]` is a sequence of `500` integers representing the words in the review."
   ]
  },
  {
   "cell_type": "code",
   "execution_count": 20,
   "metadata": {},
   "outputs": [],
   "source": [
    "import pandas as pd\n",
    "    \n",
    "pd.concat([pd.DataFrame(train_y), pd.DataFrame(train_X_len), pd.DataFrame(train_X)], axis=1) \\\n",
    "        .to_csv(os.path.join(data_dir, 'train.csv'), header=False, index=False)"
   ]
  },
  {
   "cell_type": "markdown",
   "metadata": {},
   "source": [
    "### Uploading the training data\n",
    "\n",
    "\n",
    "Next, we need to upload the training data to the SageMaker default S3 bucket so that we can provide access to it while training our model."
   ]
  },
  {
   "cell_type": "code",
   "execution_count": 21,
   "metadata": {},
   "outputs": [],
   "source": [
    "import sagemaker\n",
    "\n",
    "sagemaker_session = sagemaker.Session()\n",
    "\n",
    "bucket = sagemaker_session.default_bucket()\n",
    "prefix = 'sagemaker/sentiment_rnn'\n",
    "\n",
    "role = sagemaker.get_execution_role()"
   ]
  },
  {
   "cell_type": "code",
   "execution_count": 22,
   "metadata": {},
   "outputs": [],
   "source": [
    "input_data = sagemaker_session.upload_data(path=data_dir, bucket=bucket, key_prefix=prefix)"
   ]
  },
  {
   "cell_type": "markdown",
   "metadata": {},
   "source": [
    "**NOTE:** The cell above uploads the entire contents of our data directory. This includes the `word_dict.pkl` file. This is fortunate as we will need this later on when we create an endpoint that accepts an arbitrary review. For now, we will just take note of the fact that it resides in the data directory (and so also in the S3 training bucket) and that we will need to make sure it gets saved in the model directory."
   ]
  },
  {
   "cell_type": "markdown",
   "metadata": {},
   "source": [
    "## Step 4: Build and Train the PyTorch Model\n",
    "\n",
    "In the XGBoost notebook we discussed what a model is in the SageMaker framework. In particular, a model comprises three objects\n",
    "\n",
    " - Model Artifacts,\n",
    " - Training Code, and\n",
    " - Inference Code,\n",
    " \n",
    "each of which interact with one another. In the XGBoost example we used training and inference code that was provided by Amazon. Here we will still be using containers provided by Amazon with the added benefit of being able to include our own custom code.\n",
    "\n",
    "We will start by implementing our own neural network in PyTorch along with a training script. For the purposes of this project we have provided the necessary model object in the `model.py` file, inside of the `train` folder. You can see the provided implementation by running the cell below."
   ]
  },
  {
   "cell_type": "code",
   "execution_count": 23,
   "metadata": {},
   "outputs": [
    {
     "name": "stdout",
     "output_type": "stream",
     "text": [
      "\u001b[34mimport\u001b[39;49;00m \u001b[04m\u001b[36mtorch\u001b[39;49;00m\u001b[04m\u001b[36m.\u001b[39;49;00m\u001b[04m\u001b[36mnn\u001b[39;49;00m \u001b[34mas\u001b[39;49;00m \u001b[04m\u001b[36mnn\u001b[39;49;00m\r\n",
      "\r\n",
      "\u001b[34mclass\u001b[39;49;00m \u001b[04m\u001b[32mLSTMClassifier\u001b[39;49;00m(nn.Module):\r\n",
      "    \u001b[33m\"\"\"\u001b[39;49;00m\r\n",
      "\u001b[33m    This is the simple RNN model we will be using to perform Sentiment Analysis.\u001b[39;49;00m\r\n",
      "\u001b[33m    \"\"\"\u001b[39;49;00m\r\n",
      "\r\n",
      "    \u001b[34mdef\u001b[39;49;00m \u001b[32m__init__\u001b[39;49;00m(\u001b[36mself\u001b[39;49;00m, embedding_dim, hidden_dim, vocab_size):\r\n",
      "        \u001b[33m\"\"\"\u001b[39;49;00m\r\n",
      "\u001b[33m        Initialize the model by settingg up the various layers.\u001b[39;49;00m\r\n",
      "\u001b[33m        \"\"\"\u001b[39;49;00m\r\n",
      "        \u001b[36msuper\u001b[39;49;00m(LSTMClassifier, \u001b[36mself\u001b[39;49;00m).\u001b[32m__init__\u001b[39;49;00m()\r\n",
      "\r\n",
      "        \u001b[36mself\u001b[39;49;00m.embedding = nn.Embedding(vocab_size, embedding_dim, padding_idx=\u001b[34m0\u001b[39;49;00m)\r\n",
      "        \u001b[36mself\u001b[39;49;00m.lstm = nn.LSTM(embedding_dim, hidden_dim)\r\n",
      "        \u001b[36mself\u001b[39;49;00m.dense = nn.Linear(in_features=hidden_dim, out_features=\u001b[34m1\u001b[39;49;00m)\r\n",
      "        \u001b[36mself\u001b[39;49;00m.sig = nn.Sigmoid()\r\n",
      "        \r\n",
      "        \u001b[36mself\u001b[39;49;00m.word_dict = \u001b[34mNone\u001b[39;49;00m\r\n",
      "\r\n",
      "    \u001b[34mdef\u001b[39;49;00m \u001b[32mforward\u001b[39;49;00m(\u001b[36mself\u001b[39;49;00m, x):\r\n",
      "        \u001b[33m\"\"\"\u001b[39;49;00m\r\n",
      "\u001b[33m        Perform a forward pass of our model on some input.\u001b[39;49;00m\r\n",
      "\u001b[33m        \"\"\"\u001b[39;49;00m\r\n",
      "        x = x.t()\r\n",
      "        lengths = x[\u001b[34m0\u001b[39;49;00m,:]\r\n",
      "        reviews = x[\u001b[34m1\u001b[39;49;00m:,:]\r\n",
      "        embeds = \u001b[36mself\u001b[39;49;00m.embedding(reviews)\r\n",
      "        lstm_out, _ = \u001b[36mself\u001b[39;49;00m.lstm(embeds)\r\n",
      "        out = \u001b[36mself\u001b[39;49;00m.dense(lstm_out)\r\n",
      "        out = out[lengths - \u001b[34m1\u001b[39;49;00m, \u001b[36mrange\u001b[39;49;00m(\u001b[36mlen\u001b[39;49;00m(lengths))]\r\n",
      "        \u001b[34mreturn\u001b[39;49;00m \u001b[36mself\u001b[39;49;00m.sig(out.squeeze())\r\n"
     ]
    }
   ],
   "source": [
    "!pygmentize train/model.py"
   ]
  },
  {
   "cell_type": "markdown",
   "metadata": {},
   "source": [
    "The important takeaway from the implementation provided is that there are three parameters that we may wish to tweak to improve the performance of our model. These are the embedding dimension, the hidden dimension and the size of the vocabulary. We will likely want to make these parameters configurable in the training script so that if we wish to modify them we do not need to modify the script itself. We will see how to do this later on. To start we will write some of the training code in the notebook so that we can more easily diagnose any issues that arise.\n",
    "\n",
    "First we will load a small portion of the training data set to use as a sample. It would be very time consuming to try and train the model completely in the notebook as we do not have access to a gpu and the compute instance that we are using is not particularly powerful. However, we can work on a small bit of the data to get a feel for how our training script is behaving."
   ]
  },
  {
   "cell_type": "code",
   "execution_count": 24,
   "metadata": {},
   "outputs": [],
   "source": [
    "import torch\n",
    "import torch.utils.data\n",
    "\n",
    "# Read in only the first 250 rows\n",
    "train_sample = pd.read_csv(os.path.join(data_dir, 'train.csv'), header=None, names=None, nrows=250)\n",
    "\n",
    "# Turn the input pandas dataframe into tensors\n",
    "train_sample_y = torch.from_numpy(train_sample[[0]].values).float().squeeze()\n",
    "train_sample_X = torch.from_numpy(train_sample.drop([0], axis=1).values).long()\n",
    "\n",
    "# Build the dataset\n",
    "train_sample_ds = torch.utils.data.TensorDataset(train_sample_X, train_sample_y)\n",
    "# Build the dataloader\n",
    "train_sample_dl = torch.utils.data.DataLoader(train_sample_ds, batch_size=50)"
   ]
  },
  {
   "cell_type": "markdown",
   "metadata": {},
   "source": [
    "### (TODO) Writing the training method\n",
    "\n",
    "Next we need to write the training code itself. This should be very similar to training methods that you have written before to train PyTorch models. We will leave any difficult aspects such as model saving / loading and parameter loading until a little later."
   ]
  },
  {
   "cell_type": "code",
   "execution_count": 25,
   "metadata": {},
   "outputs": [],
   "source": [
    "def train(model, train_loader, epochs, optimizer, loss_fn, device):\n",
    "    for epoch in range(1, epochs + 1):\n",
    "        model.train()\n",
    "        total_loss = 0\n",
    "        for batch in train_loader:         \n",
    "            batch_X, batch_y = batch\n",
    "            \n",
    "            batch_X = batch_X.to(device)\n",
    "            batch_y = batch_y.to(device)\n",
    "            \n",
    "            # TODO: Complete this train method to train the model provided.\n",
    "            optimizer.zero_grad()\n",
    "            # Forward\n",
    "            output = model(batch_X)\n",
    "            loss = loss_fn(output, batch_y)\n",
    "            # Backward\n",
    "            loss.backward()\n",
    "            optimizer.step()\n",
    "            \n",
    "            total_loss += loss.data.item()\n",
    "        print(\"Epoch: {}, BCELoss: {}\".format(epoch, total_loss / len(train_loader)))"
   ]
  },
  {
   "cell_type": "markdown",
   "metadata": {},
   "source": [
    "Supposing we have the training method above, we will test that it is working by writing a bit of code in the notebook that executes our training method on the small sample training set that we loaded earlier. The reason for doing this in the notebook is so that we have an opportunity to fix any errors that arise early when they are easier to diagnose."
   ]
  },
  {
   "cell_type": "code",
   "execution_count": 26,
   "metadata": {},
   "outputs": [
    {
     "name": "stdout",
     "output_type": "stream",
     "text": [
      "Epoch: 1, BCELoss: 0.6955250144004822\n",
      "Epoch: 2, BCELoss: 0.6867436289787292\n",
      "Epoch: 3, BCELoss: 0.6793598413467408\n",
      "Epoch: 4, BCELoss: 0.6712473869323731\n",
      "Epoch: 5, BCELoss: 0.661361825466156\n"
     ]
    }
   ],
   "source": [
    "import torch.optim as optim\n",
    "from train.model import LSTMClassifier\n",
    "\n",
    "device = torch.device(\"cuda\" if torch.cuda.is_available() else \"cpu\")\n",
    "model = LSTMClassifier(32, 100, 5000).to(device)\n",
    "optimizer = optim.Adam(model.parameters())\n",
    "loss_fn = torch.nn.BCELoss()\n",
    "\n",
    "train(model, train_sample_dl, 5, optimizer, loss_fn, device)"
   ]
  },
  {
   "cell_type": "markdown",
   "metadata": {},
   "source": [
    "In order to construct a PyTorch model using SageMaker we must provide SageMaker with a training script. We may optionally include a directory which will be copied to the container and from which our training code will be run. When the training container is executed it will check the uploaded directory (if there is one) for a `requirements.txt` file and install any required Python libraries, after which the training script will be run."
   ]
  },
  {
   "cell_type": "markdown",
   "metadata": {},
   "source": [
    "### (TODO) Training the model\n",
    "\n",
    "When a PyTorch model is constructed in SageMaker, an entry point must be specified. This is the Python file which will be executed when the model is trained. Inside of the `train` directory is a file called `train.py` which has been provided and which contains most of the necessary code to train our model. The only thing that is missing is the implementation of the `train()` method which you wrote earlier in this notebook.\n",
    "\n",
    "**TODO**: Copy the `train()` method written above and paste it into the `train/train.py` file where required.\n",
    "\n",
    "The way that SageMaker passes hyperparameters to the training script is by way of arguments. These arguments can then be parsed and used in the training script. To see how this is done take a look at the provided `train/train.py` file."
   ]
  },
  {
   "cell_type": "code",
   "execution_count": 27,
   "metadata": {},
   "outputs": [],
   "source": [
    "from sagemaker.pytorch import PyTorch\n",
    "\n",
    "estimator = PyTorch(entry_point=\"train.py\",\n",
    "                    source_dir=\"train\",\n",
    "                    role=role,\n",
    "                    framework_version='0.4.0',\n",
    "                    train_instance_count=1,\n",
    "                    train_instance_type='ml.p2.xlarge',\n",
    "                    hyperparameters={\n",
    "                        'epochs': 10,\n",
    "                        'hidden_dim': 200,\n",
    "                    })"
   ]
  },
  {
   "cell_type": "code",
   "execution_count": 28,
   "metadata": {},
   "outputs": [
    {
     "name": "stderr",
     "output_type": "stream",
     "text": [
      "'create_image_uri' will be deprecated in favor of 'ImageURIProvider' class in SageMaker Python SDK v2.\n",
      "'s3_input' class will be renamed to 'TrainingInput' in SageMaker Python SDK v2.\n",
      "'create_image_uri' will be deprecated in favor of 'ImageURIProvider' class in SageMaker Python SDK v2.\n"
     ]
    },
    {
     "name": "stdout",
     "output_type": "stream",
     "text": [
      "2021-07-29 21:08:52 Starting - Starting the training job...\n",
      "2021-07-29 21:08:54 Starting - Launching requested ML instances......\n",
      "2021-07-29 21:10:22 Starting - Preparing the instances for training............\n",
      "2021-07-29 21:11:59 Downloading - Downloading input data...\n",
      "2021-07-29 21:12:24 Training - Downloading the training image...\n",
      "2021-07-29 21:13:11 Training - Training image download completed. Training in progress.\u001b[34mbash: cannot set terminal process group (-1): Inappropriate ioctl for device\u001b[0m\n",
      "\u001b[34mbash: no job control in this shell\u001b[0m\n",
      "\u001b[34m2021-07-29 21:13:12,881 sagemaker-containers INFO     Imported framework sagemaker_pytorch_container.training\u001b[0m\n",
      "\u001b[34m2021-07-29 21:13:12,906 sagemaker_pytorch_container.training INFO     Block until all host DNS lookups succeed.\u001b[0m\n",
      "\u001b[34m2021-07-29 21:13:14,316 sagemaker_pytorch_container.training INFO     Invoking user training script.\u001b[0m\n",
      "\u001b[34m2021-07-29 21:13:14,579 sagemaker-containers INFO     Module train does not provide a setup.py. \u001b[0m\n",
      "\u001b[34mGenerating setup.py\u001b[0m\n",
      "\u001b[34mProcessing /opt/ml/code\u001b[0m\n",
      "\u001b[34mCollecting pandas (from -r requirements.txt (line 1))\u001b[0m\n",
      "\u001b[34m2021-07-29 21:13:14,579 sagemaker-containers INFO     Generating setup.cfg\u001b[0m\n",
      "\u001b[34m2021-07-29 21:13:14,579 sagemaker-containers INFO     Generating MANIFEST.in\u001b[0m\n",
      "\u001b[34m2021-07-29 21:13:14,579 sagemaker-containers INFO     Installing module with the following command:\u001b[0m\n",
      "\u001b[34m/usr/bin/python -m pip install -U . -r requirements.txt\n",
      "  Downloading https://files.pythonhosted.org/packages/74/24/0cdbf8907e1e3bc5a8da03345c23cbed7044330bb8f73bb12e711a640a00/pandas-0.24.2-cp35-cp35m-manylinux1_x86_64.whl (10.0MB)\u001b[0m\n",
      "\u001b[34mCollecting numpy (from -r requirements.txt (line 2))\n",
      "  Downloading https://files.pythonhosted.org/packages/b5/36/88723426b4ff576809fec7d73594fe17a35c27f8d01f93637637a29ae25b/numpy-1.18.5-cp35-cp35m-manylinux1_x86_64.whl (19.9MB)\u001b[0m\n",
      "\u001b[34mCollecting nltk (from -r requirements.txt (line 3))\n",
      "  Downloading https://files.pythonhosted.org/packages/5e/37/9532ddd4b1bbb619333d5708aaad9bf1742f051a664c3c6fa6632a105fd8/nltk-3.6.2-py3-none-any.whl (1.5MB)\u001b[0m\n",
      "\u001b[34mCollecting beautifulsoup4 (from -r requirements.txt (line 4))\n",
      "  Downloading https://files.pythonhosted.org/packages/d1/41/e6495bd7d3781cee623ce23ea6ac73282a373088fcd0ddc809a047b18eae/beautifulsoup4-4.9.3-py3-none-any.whl (115kB)\u001b[0m\n",
      "\u001b[34mCollecting html5lib (from -r requirements.txt (line 5))\n",
      "  Downloading https://files.pythonhosted.org/packages/6c/dd/a834df6482147d48e225a49515aabc28974ad5a4ca3215c18a882565b028/html5lib-1.1-py2.py3-none-any.whl (112kB)\u001b[0m\n",
      "\u001b[34mRequirement already satisfied, skipping upgrade: python-dateutil>=2.5.0 in /usr/local/lib/python3.5/dist-packages (from pandas->-r requirements.txt (line 1)) (2.7.5)\u001b[0m\n",
      "\u001b[34mCollecting pytz>=2011k (from pandas->-r requirements.txt (line 1))\u001b[0m\n",
      "\u001b[34m  Downloading https://files.pythonhosted.org/packages/70/94/784178ca5dd892a98f113cdd923372024dc04b8d40abe77ca76b5fb90ca6/pytz-2021.1-py2.py3-none-any.whl (510kB)\u001b[0m\n",
      "\u001b[34mRequirement already satisfied, skipping upgrade: click in /usr/local/lib/python3.5/dist-packages (from nltk->-r requirements.txt (line 3)) (7.0)\u001b[0m\n",
      "\u001b[34mCollecting joblib (from nltk->-r requirements.txt (line 3))\n",
      "  Downloading https://files.pythonhosted.org/packages/28/5c/cf6a2b65a321c4a209efcdf64c2689efae2cb62661f8f6f4bb28547cf1bf/joblib-0.14.1-py2.py3-none-any.whl (294kB)\u001b[0m\n",
      "\u001b[34mCollecting tqdm (from nltk->-r requirements.txt (line 3))\n",
      "  Downloading https://files.pythonhosted.org/packages/7a/ec/f8ff3ccfc4e59ce619a66a0bf29dc3b49c2e8c07de29d572e191c006eaa2/tqdm-4.61.2-py2.py3-none-any.whl (76kB)\u001b[0m\n",
      "\u001b[34mCollecting regex (from nltk->-r requirements.txt (line 3))\u001b[0m\n",
      "\u001b[34m  Downloading https://files.pythonhosted.org/packages/c0/d1/ad6afa6000ab869f6af2c85985d40558ffb298d9fcb2ab04c0648436008f/regex-2021.7.6.tar.gz (693kB)\u001b[0m\n",
      "\u001b[34mCollecting soupsieve>1.2; python_version >= \"3.0\" (from beautifulsoup4->-r requirements.txt (line 4))\u001b[0m\n",
      "\u001b[34m  Downloading https://files.pythonhosted.org/packages/02/fb/1c65691a9aeb7bd6ac2aa505b84cb8b49ac29c976411c6ab3659425e045f/soupsieve-2.1-py3-none-any.whl\u001b[0m\n",
      "\u001b[34mCollecting webencodings (from html5lib->-r requirements.txt (line 5))\n",
      "  Downloading https://files.pythonhosted.org/packages/f4/24/2a3e3df732393fed8b3ebf2ec078f05546de641fe1b667ee316ec1dcf3b7/webencodings-0.5.1-py2.py3-none-any.whl\u001b[0m\n",
      "\u001b[34mRequirement already satisfied, skipping upgrade: six>=1.9 in /usr/local/lib/python3.5/dist-packages (from html5lib->-r requirements.txt (line 5)) (1.11.0)\u001b[0m\n",
      "\u001b[34mBuilding wheels for collected packages: train, regex\n",
      "  Running setup.py bdist_wheel for train: started\n",
      "  Running setup.py bdist_wheel for train: finished with status 'done'\n",
      "  Stored in directory: /tmp/pip-ephem-wheel-cache-hjppot6o/wheels/35/24/16/37574d11bf9bde50616c67372a334f94fa8356bc7164af8ca3\n",
      "  Running setup.py bdist_wheel for regex: started\u001b[0m\n",
      "\u001b[34m  Running setup.py bdist_wheel for regex: finished with status 'done'\n",
      "  Stored in directory: /root/.cache/pip/wheels/4d/21/94/ffc1c84ddb509f51dab71898a63df9fbff5f1e04552ee8ea8e\u001b[0m\n",
      "\u001b[34mSuccessfully built train regex\u001b[0m\n",
      "\u001b[34mInstalling collected packages: numpy, pytz, pandas, joblib, tqdm, regex, nltk, soupsieve, beautifulsoup4, webencodings, html5lib, train\n",
      "  Found existing installation: numpy 1.15.4\n",
      "    Uninstalling numpy-1.15.4:\u001b[0m\n",
      "\u001b[34m      Successfully uninstalled numpy-1.15.4\u001b[0m\n",
      "\u001b[34mSuccessfully installed beautifulsoup4-4.9.3 html5lib-1.1 joblib-0.14.1 nltk-3.6.2 numpy-1.18.5 pandas-0.24.2 pytz-2021.1 regex-2021.7.6 soupsieve-2.1 tqdm-4.61.2 train-1.0.0 webencodings-0.5.1\u001b[0m\n",
      "\u001b[34mYou are using pip version 18.1, however version 20.3.4 is available.\u001b[0m\n",
      "\u001b[34mYou should consider upgrading via the 'pip install --upgrade pip' command.\u001b[0m\n",
      "\u001b[34m2021-07-29 21:13:35,773 sagemaker-containers INFO     Invoking user script\n",
      "\u001b[0m\n",
      "\u001b[34mTraining Env:\n",
      "\u001b[0m\n",
      "\u001b[34m{\n",
      "    \"model_dir\": \"/opt/ml/model\",\n",
      "    \"num_cpus\": 4,\n",
      "    \"channel_input_dirs\": {\n",
      "        \"training\": \"/opt/ml/input/data/training\"\n",
      "    },\n",
      "    \"input_dir\": \"/opt/ml/input\",\n",
      "    \"job_name\": \"sagemaker-pytorch-2021-07-29-21-08-52-020\",\n",
      "    \"output_dir\": \"/opt/ml/output\",\n",
      "    \"user_entry_point\": \"train.py\",\n",
      "    \"input_data_config\": {\n",
      "        \"training\": {\n",
      "            \"RecordWrapperType\": \"None\",\n",
      "            \"TrainingInputMode\": \"File\",\n",
      "            \"S3DistributionType\": \"FullyReplicated\"\n",
      "        }\n",
      "    },\n",
      "    \"log_level\": 20,\n",
      "    \"output_intermediate_dir\": \"/opt/ml/output/intermediate\",\n",
      "    \"hyperparameters\": {\n",
      "        \"epochs\": 10,\n",
      "        \"hidden_dim\": 200\n",
      "    },\n",
      "    \"resource_config\": {\n",
      "        \"network_interface_name\": \"eth0\",\n",
      "        \"current_host\": \"algo-1\",\n",
      "        \"hosts\": [\n",
      "            \"algo-1\"\n",
      "        ]\n",
      "    },\n",
      "    \"additional_framework_parameters\": {},\n",
      "    \"current_host\": \"algo-1\",\n",
      "    \"hosts\": [\n",
      "        \"algo-1\"\n",
      "    ],\n",
      "    \"output_data_dir\": \"/opt/ml/output/data\",\n",
      "    \"module_name\": \"train\",\n",
      "    \"input_config_dir\": \"/opt/ml/input/config\",\n",
      "    \"module_dir\": \"s3://sagemaker-us-east-1-740119474903/sagemaker-pytorch-2021-07-29-21-08-52-020/source/sourcedir.tar.gz\",\n",
      "    \"num_gpus\": 1,\n",
      "    \"network_interface_name\": \"eth0\",\n",
      "    \"framework_module\": \"sagemaker_pytorch_container.training:main\"\u001b[0m\n",
      "\u001b[34m}\n",
      "\u001b[0m\n",
      "\u001b[34mEnvironment variables:\n",
      "\u001b[0m\n",
      "\u001b[34mSM_INPUT_DATA_CONFIG={\"training\":{\"RecordWrapperType\":\"None\",\"S3DistributionType\":\"FullyReplicated\",\"TrainingInputMode\":\"File\"}}\u001b[0m\n",
      "\u001b[34mSM_NUM_GPUS=1\u001b[0m\n",
      "\u001b[34mSM_INPUT_CONFIG_DIR=/opt/ml/input/config\u001b[0m\n",
      "\u001b[34mSM_TRAINING_ENV={\"additional_framework_parameters\":{},\"channel_input_dirs\":{\"training\":\"/opt/ml/input/data/training\"},\"current_host\":\"algo-1\",\"framework_module\":\"sagemaker_pytorch_container.training:main\",\"hosts\":[\"algo-1\"],\"hyperparameters\":{\"epochs\":10,\"hidden_dim\":200},\"input_config_dir\":\"/opt/ml/input/config\",\"input_data_config\":{\"training\":{\"RecordWrapperType\":\"None\",\"S3DistributionType\":\"FullyReplicated\",\"TrainingInputMode\":\"File\"}},\"input_dir\":\"/opt/ml/input\",\"job_name\":\"sagemaker-pytorch-2021-07-29-21-08-52-020\",\"log_level\":20,\"model_dir\":\"/opt/ml/model\",\"module_dir\":\"s3://sagemaker-us-east-1-740119474903/sagemaker-pytorch-2021-07-29-21-08-52-020/source/sourcedir.tar.gz\",\"module_name\":\"train\",\"network_interface_name\":\"eth0\",\"num_cpus\":4,\"num_gpus\":1,\"output_data_dir\":\"/opt/ml/output/data\",\"output_dir\":\"/opt/ml/output\",\"output_intermediate_dir\":\"/opt/ml/output/intermediate\",\"resource_config\":{\"current_host\":\"algo-1\",\"hosts\":[\"algo-1\"],\"network_interface_name\":\"eth0\"},\"user_entry_point\":\"train.py\"}\u001b[0m\n",
      "\u001b[34mSM_HP_HIDDEN_DIM=200\u001b[0m\n",
      "\u001b[34mSM_MODULE_NAME=train\u001b[0m\n",
      "\u001b[34mSM_NETWORK_INTERFACE_NAME=eth0\u001b[0m\n",
      "\u001b[34mSM_CHANNEL_TRAINING=/opt/ml/input/data/training\u001b[0m\n",
      "\u001b[34mSM_USER_ARGS=[\"--epochs\",\"10\",\"--hidden_dim\",\"200\"]\u001b[0m\n",
      "\u001b[34mSM_MODEL_DIR=/opt/ml/model\u001b[0m\n",
      "\u001b[34mSM_MODULE_DIR=s3://sagemaker-us-east-1-740119474903/sagemaker-pytorch-2021-07-29-21-08-52-020/source/sourcedir.tar.gz\u001b[0m\n",
      "\u001b[34mSM_OUTPUT_DIR=/opt/ml/output\u001b[0m\n",
      "\u001b[34mSM_FRAMEWORK_PARAMS={}\u001b[0m\n",
      "\u001b[34mPYTHONPATH=/usr/local/bin:/usr/lib/python35.zip:/usr/lib/python3.5:/usr/lib/python3.5/plat-x86_64-linux-gnu:/usr/lib/python3.5/lib-dynload:/usr/local/lib/python3.5/dist-packages:/usr/lib/python3/dist-packages\u001b[0m\n",
      "\u001b[34mSM_CURRENT_HOST=algo-1\u001b[0m\n",
      "\u001b[34mSM_CHANNELS=[\"training\"]\u001b[0m\n",
      "\u001b[34mSM_HPS={\"epochs\":10,\"hidden_dim\":200}\u001b[0m\n",
      "\u001b[34mSM_FRAMEWORK_MODULE=sagemaker_pytorch_container.training:main\u001b[0m\n",
      "\u001b[34mSM_OUTPUT_DATA_DIR=/opt/ml/output/data\u001b[0m\n",
      "\u001b[34mSM_INPUT_DIR=/opt/ml/input\u001b[0m\n",
      "\u001b[34mSM_HP_EPOCHS=10\u001b[0m\n",
      "\u001b[34mSM_OUTPUT_INTERMEDIATE_DIR=/opt/ml/output/intermediate\u001b[0m\n",
      "\u001b[34mSM_RESOURCE_CONFIG={\"current_host\":\"algo-1\",\"hosts\":[\"algo-1\"],\"network_interface_name\":\"eth0\"}\u001b[0m\n",
      "\u001b[34mSM_NUM_CPUS=4\u001b[0m\n",
      "\u001b[34mSM_USER_ENTRY_POINT=train.py\u001b[0m\n",
      "\u001b[34mSM_HOSTS=[\"algo-1\"]\u001b[0m\n",
      "\u001b[34mSM_LOG_LEVEL=20\n",
      "\u001b[0m\n",
      "\u001b[34mInvoking script with the following command:\n",
      "\u001b[0m\n",
      "\u001b[34m/usr/bin/python -m train --epochs 10 --hidden_dim 200\n",
      "\n",
      "\u001b[0m\n",
      "\u001b[34mUsing device cuda.\u001b[0m\n",
      "\u001b[34mGet train data loader.\u001b[0m\n",
      "\u001b[34mModel loaded with embedding_dim 32, hidden_dim 200, vocab_size 5000.\u001b[0m\n",
      "\u001b[34mEpoch: 1, BCELoss: 0.6746374003741206\u001b[0m\n",
      "\u001b[34mEpoch: 2, BCELoss: 0.6066601118262933\u001b[0m\n",
      "\u001b[34mEpoch: 3, BCELoss: 0.5151616566035212\u001b[0m\n",
      "\u001b[34mEpoch: 4, BCELoss: 0.4766410352015982\u001b[0m\n",
      "\u001b[34mEpoch: 5, BCELoss: 0.4005446610402088\u001b[0m\n",
      "\u001b[34mEpoch: 6, BCELoss: 0.36052665053581706\u001b[0m\n",
      "\u001b[34mEpoch: 7, BCELoss: 0.3424628036362784\u001b[0m\n",
      "\u001b[34mEpoch: 8, BCELoss: 0.31027011573314667\u001b[0m\n",
      "\u001b[34mEpoch: 9, BCELoss: 0.28091001510620117\u001b[0m\n",
      "\u001b[34mEpoch: 10, BCELoss: 0.2693291181812481\u001b[0m\n",
      "\u001b[34m2021-07-29 21:16:36,776 sagemaker-containers INFO     Reporting training SUCCESS\u001b[0m\n",
      "\n",
      "2021-07-29 21:16:44 Uploading - Uploading generated training model\n",
      "2021-07-29 21:16:44 Completed - Training job completed\n",
      "Training seconds: 285\n",
      "Billable seconds: 285\n"
     ]
    }
   ],
   "source": [
    "estimator.fit({'training': input_data})"
   ]
  },
  {
   "cell_type": "markdown",
   "metadata": {},
   "source": [
    "## Step 5: Testing the model\n",
    "\n",
    "As mentioned at the top of this notebook, we will be testing this model by first deploying it and then sending the testing data to the deployed endpoint. We will do this so that we can make sure that the deployed model is working correctly.\n",
    "\n",
    "## Step 6: Deploy the model for testing\n",
    "\n",
    "Now that we have trained our model, we would like to test it to see how it performs. Currently our model takes input of the form `review_length, review[500]` where `review[500]` is a sequence of `500` integers which describe the words present in the review, encoded using `word_dict`. Fortunately for us, SageMaker provides built-in inference code for models with simple inputs such as this.\n",
    "\n",
    "There is one thing that we need to provide, however, and that is a function which loads the saved model. This function must be called `model_fn()` and takes as its only parameter a path to the directory where the model artifacts are stored. This function must also be present in the python file which we specified as the entry point. In our case the model loading function has been provided and so no changes need to be made.\n",
    "\n",
    "**NOTE**: When the built-in inference code is run it must import the `model_fn()` method from the `train.py` file. This is why the training code is wrapped in a main guard ( ie, `if __name__ == '__main__':` )\n",
    "\n",
    "Since we don't need to change anything in the code that was uploaded during training, we can simply deploy the current model as-is.\n",
    "\n",
    "**NOTE:** When deploying a model you are asking SageMaker to launch an compute instance that will wait for data to be sent to it. As a result, this compute instance will continue to run until *you* shut it down. This is important to know since the cost of a deployed endpoint depends on how long it has been running for.\n",
    "\n",
    "In other words **If you are no longer using a deployed endpoint, shut it down!**\n",
    "\n",
    "**TODO:** Deploy the trained model."
   ]
  },
  {
   "cell_type": "code",
   "execution_count": 29,
   "metadata": {},
   "outputs": [
    {
     "name": "stderr",
     "output_type": "stream",
     "text": [
      "Parameter image will be renamed to image_uri in SageMaker Python SDK v2.\n",
      "'create_image_uri' will be deprecated in favor of 'ImageURIProvider' class in SageMaker Python SDK v2.\n"
     ]
    },
    {
     "name": "stdout",
     "output_type": "stream",
     "text": [
      "----------------------!"
     ]
    }
   ],
   "source": [
    "# TODO: Deploy the trained model\n",
    "predictor = estimator.deploy(initial_instance_count=1, instance_type='ml.m4.xlarge')"
   ]
  },
  {
   "cell_type": "markdown",
   "metadata": {},
   "source": [
    "## Step 7 - Use the model for testing\n",
    "\n",
    "Once deployed, we can read in the test data and send it off to our deployed model to get some results. Once we collect all of the results we can determine how accurate our model is."
   ]
  },
  {
   "cell_type": "code",
   "execution_count": 33,
   "metadata": {},
   "outputs": [],
   "source": [
    "test_X = pd.concat([pd.DataFrame(test_X_len), pd.DataFrame(test_X)], axis=1)"
   ]
  },
  {
   "cell_type": "code",
   "execution_count": 34,
   "metadata": {},
   "outputs": [],
   "source": [
    "# We split the data into chunks and send each chunk seperately, accumulating the results.\n",
    "\n",
    "def predict(data, rows=512):\n",
    "    split_array = np.array_split(data, int(data.shape[0] / float(rows) + 1))\n",
    "    predictions = np.array([])\n",
    "    for array in split_array:\n",
    "        predictions = np.append(predictions, predictor.predict(array))\n",
    "    \n",
    "    return predictions"
   ]
  },
  {
   "cell_type": "code",
   "execution_count": 37,
   "metadata": {},
   "outputs": [],
   "source": [
    "predictions = predict(test_X.values)\n",
    "predictions = [round(num) for num in predictions]"
   ]
  },
  {
   "cell_type": "code",
   "execution_count": 36,
   "metadata": {},
   "outputs": [
    {
     "data": {
      "text/plain": [
       "0.82776"
      ]
     },
     "execution_count": 36,
     "metadata": {},
     "output_type": "execute_result"
    }
   ],
   "source": [
    "from sklearn.metrics import accuracy_score\n",
    "accuracy_score(test_y, predictions)"
   ]
  },
  {
   "cell_type": "markdown",
   "metadata": {},
   "source": [
    "**Question:** How does this model compare to the XGBoost model you created earlier? Why might these two models perform differently on this dataset? Which do *you* think is better for sentiment analysis?"
   ]
  },
  {
   "cell_type": "markdown",
   "metadata": {},
   "source": [
    "**Answer:**\n",
    "\n",
    "- Our result here is alittle worse than XGBoost that we tried earlier, but this model here is not tuned yet, so there is still hope for improvement of the result. \n",
    "\n",
    "- As we know RNN can capture sequential data which makes it a more ‘natural’ approach when dealing with textual data since text is naturally sequential. on the other hand, XGBoost is a tree based algorithm and does not get into account the sequantial structure of the reviews, for this reason I beleive theoritricaly RNN/LSTM model is a better approach for text classification."
   ]
  },
  {
   "cell_type": "markdown",
   "metadata": {},
   "source": [
    "### (TODO) More testing\n",
    "\n",
    "We now have a trained model which has been deployed and which we can send processed reviews to and which returns the predicted sentiment. However, ultimately we would like to be able to send our model an unprocessed review. That is, we would like to send the review itself as a string. For example, suppose we wish to send the following review to our model."
   ]
  },
  {
   "cell_type": "code",
   "execution_count": 46,
   "metadata": {},
   "outputs": [],
   "source": [
    "test_review = 'The simplest pleasures in life are the best, and this film is one of them. Combining a rather basic storyline of love and adventure this movie transcends the usual weekend fair with wit and unmitigated charm.'"
   ]
  },
  {
   "cell_type": "markdown",
   "metadata": {},
   "source": [
    "The question we now need to answer is, how do we send this review to our model?\n",
    "\n",
    "Recall in the first section of this notebook we did a bunch of data processing to the IMDb dataset. In particular, we did two specific things to the provided reviews.\n",
    " - Removed any html tags and stemmed the input\n",
    " - Encoded the review as a sequence of integers using `word_dict`\n",
    " \n",
    "In order process the review we will need to repeat these two steps.\n",
    "\n",
    "**TODO**: Using the `review_to_words` and `convert_and_pad` methods from section one, convert `test_review` into a numpy array `test_data` suitable to send to our model. Remember that our model expects input of the form `review_length, review[500]`."
   ]
  },
  {
   "cell_type": "code",
   "execution_count": 47,
   "metadata": {},
   "outputs": [
    {
     "data": {
      "text/plain": [
       "[array([   1, 1374,   50,   53,    3,    4,  878,  173,  392,  682,   29,\n",
       "         723,    2, 4403,  275, 2075, 1061,  760,    1,  581,    0,    0,\n",
       "           0,    0,    0,    0,    0,    0,    0,    0,    0,    0,    0,\n",
       "           0,    0,    0,    0,    0,    0,    0,    0,    0,    0,    0,\n",
       "           0,    0,    0,    0,    0,    0,    0,    0,    0,    0,    0,\n",
       "           0,    0,    0,    0,    0,    0,    0,    0,    0,    0,    0,\n",
       "           0,    0,    0,    0,    0,    0,    0,    0,    0,    0,    0,\n",
       "           0,    0,    0,    0,    0,    0,    0,    0,    0,    0,    0,\n",
       "           0,    0,    0,    0,    0,    0,    0,    0,    0,    0,    0,\n",
       "           0,    0,    0,    0,    0,    0,    0,    0,    0,    0,    0,\n",
       "           0,    0,    0,    0,    0,    0,    0,    0,    0,    0,    0,\n",
       "           0,    0,    0,    0,    0,    0,    0,    0,    0,    0,    0,\n",
       "           0,    0,    0,    0,    0,    0,    0,    0,    0,    0,    0,\n",
       "           0,    0,    0,    0,    0,    0,    0,    0,    0,    0,    0,\n",
       "           0,    0,    0,    0,    0,    0,    0,    0,    0,    0,    0,\n",
       "           0,    0,    0,    0,    0,    0,    0,    0,    0,    0,    0,\n",
       "           0,    0,    0,    0,    0,    0,    0,    0,    0,    0,    0,\n",
       "           0,    0,    0,    0,    0,    0,    0,    0,    0,    0,    0,\n",
       "           0,    0,    0,    0,    0,    0,    0,    0,    0,    0,    0,\n",
       "           0,    0,    0,    0,    0,    0,    0,    0,    0,    0,    0,\n",
       "           0,    0,    0,    0,    0,    0,    0,    0,    0,    0,    0,\n",
       "           0,    0,    0,    0,    0,    0,    0,    0,    0,    0,    0,\n",
       "           0,    0,    0,    0,    0,    0,    0,    0,    0,    0,    0,\n",
       "           0,    0,    0,    0,    0,    0,    0,    0,    0,    0,    0,\n",
       "           0,    0,    0,    0,    0,    0,    0,    0,    0,    0,    0,\n",
       "           0,    0,    0,    0,    0,    0,    0,    0,    0,    0,    0,\n",
       "           0,    0,    0,    0,    0,    0,    0,    0,    0,    0,    0,\n",
       "           0,    0,    0,    0,    0,    0,    0,    0,    0,    0,    0,\n",
       "           0,    0,    0,    0,    0,    0,    0,    0,    0,    0,    0,\n",
       "           0,    0,    0,    0,    0,    0,    0,    0,    0,    0,    0,\n",
       "           0,    0,    0,    0,    0,    0,    0,    0,    0,    0,    0,\n",
       "           0,    0,    0,    0,    0,    0,    0,    0,    0,    0,    0,\n",
       "           0,    0,    0,    0,    0,    0,    0,    0,    0,    0,    0,\n",
       "           0,    0,    0,    0,    0,    0,    0,    0,    0,    0,    0,\n",
       "           0,    0,    0,    0,    0,    0,    0,    0,    0,    0,    0,\n",
       "           0,    0,    0,    0,    0,    0,    0,    0,    0,    0,    0,\n",
       "           0,    0,    0,    0,    0,    0,    0,    0,    0,    0,    0,\n",
       "           0,    0,    0,    0,    0,    0,    0,    0,    0,    0,    0,\n",
       "           0,    0,    0,    0,    0,    0,    0,    0,    0,    0,    0,\n",
       "           0,    0,    0,    0,    0,    0,    0,    0,    0,    0,    0,\n",
       "           0,    0,    0,    0,    0,    0,    0,    0,    0,    0,    0,\n",
       "           0,    0,    0,    0,    0,    0,    0,    0,    0,    0,    0,\n",
       "           0,    0,    0,    0,    0,    0,    0,    0,    0,    0,    0,\n",
       "           0,    0,    0,    0,    0,    0,    0,    0,    0,    0,    0,\n",
       "           0,    0,    0,    0,    0,    0,    0,    0,    0,    0,    0,\n",
       "           0,    0,    0,    0,    0])]"
      ]
     },
     "execution_count": 47,
     "metadata": {},
     "output_type": "execute_result"
    }
   ],
   "source": [
    "# TODO: Convert test_review into a form usable by the model and save the results in test_data\n",
    "test_data = review_to_words(test_review)\n",
    "test_data = [np.array(convert_and_pad(word_dict, test_data)[0])]\n",
    "test_data"
   ]
  },
  {
   "cell_type": "markdown",
   "metadata": {},
   "source": [
    "Now that we have processed the review, we can send the resulting array to our model to predict the sentiment of the review."
   ]
  },
  {
   "cell_type": "code",
   "execution_count": 48,
   "metadata": {},
   "outputs": [
    {
     "data": {
      "text/plain": [
       "array(0.7701493, dtype=float32)"
      ]
     },
     "execution_count": 48,
     "metadata": {},
     "output_type": "execute_result"
    }
   ],
   "source": [
    "predictor.predict(test_data)"
   ]
  },
  {
   "cell_type": "markdown",
   "metadata": {},
   "source": [
    "Since the return value of our model is close to `1`, we can be certain that the review we submitted is positive."
   ]
  },
  {
   "cell_type": "markdown",
   "metadata": {},
   "source": [
    "### Delete the endpoint\n",
    "\n",
    "Of course, just like in the XGBoost notebook, once we've deployed an endpoint it continues to run until we tell it to shut down. Since we are done using our endpoint for now, we can delete it."
   ]
  },
  {
   "cell_type": "code",
   "execution_count": 49,
   "metadata": {},
   "outputs": [
    {
     "name": "stderr",
     "output_type": "stream",
     "text": [
      "estimator.delete_endpoint() will be deprecated in SageMaker Python SDK v2. Please use the delete_endpoint() function on your predictor instead.\n"
     ]
    }
   ],
   "source": [
    "estimator.delete_endpoint()"
   ]
  },
  {
   "cell_type": "markdown",
   "metadata": {},
   "source": [
    "## Step 6 (again) - Deploy the model for the web app\n",
    "\n",
    "Now that we know that our model is working, it's time to create some custom inference code so that we can send the model a review which has not been processed and have it determine the sentiment of the review.\n",
    "\n",
    "As we saw above, by default the estimator which we created, when deployed, will use the entry script and directory which we provided when creating the model. However, since we now wish to accept a string as input and our model expects a processed review, we need to write some custom inference code.\n",
    "\n",
    "We will store the code that we write in the `serve` directory. Provided in this directory is the `model.py` file that we used to construct our model, a `utils.py` file which contains the `review_to_words` and `convert_and_pad` pre-processing functions which we used during the initial data processing, and `predict.py`, the file which will contain our custom inference code. Note also that `requirements.txt` is present which will tell SageMaker what Python libraries are required by our custom inference code.\n",
    "\n",
    "When deploying a PyTorch model in SageMaker, you are expected to provide four functions which the SageMaker inference container will use.\n",
    " - `model_fn`: This function is the same function that we used in the training script and it tells SageMaker how to load our model.\n",
    " - `input_fn`: This function receives the raw serialized input that has been sent to the model's endpoint and its job is to de-serialize and make the input available for the inference code.\n",
    " - `output_fn`: This function takes the output of the inference code and its job is to serialize this output and return it to the caller of the model's endpoint.\n",
    " - `predict_fn`: The heart of the inference script, this is where the actual prediction is done and is the function which you will need to complete.\n",
    "\n",
    "For the simple website that we are constructing during this project, the `input_fn` and `output_fn` methods are relatively straightforward. We only require being able to accept a string as input and we expect to return a single value as output. You might imagine though that in a more complex application the input or output may be image data or some other binary data which would require some effort to serialize.\n",
    "\n",
    "### (TODO) Writing inference code\n",
    "\n",
    "Before writing our custom inference code, we will begin by taking a look at the code which has been provided."
   ]
  },
  {
   "cell_type": "code",
   "execution_count": 50,
   "metadata": {},
   "outputs": [
    {
     "name": "stdout",
     "output_type": "stream",
     "text": [
      "\u001b[34mimport\u001b[39;49;00m \u001b[04m\u001b[36margparse\u001b[39;49;00m\r\n",
      "\u001b[34mimport\u001b[39;49;00m \u001b[04m\u001b[36mjson\u001b[39;49;00m\r\n",
      "\u001b[34mimport\u001b[39;49;00m \u001b[04m\u001b[36mos\u001b[39;49;00m\r\n",
      "\u001b[34mimport\u001b[39;49;00m \u001b[04m\u001b[36mpickle\u001b[39;49;00m\r\n",
      "\u001b[34mimport\u001b[39;49;00m \u001b[04m\u001b[36msys\u001b[39;49;00m\r\n",
      "\u001b[34mimport\u001b[39;49;00m \u001b[04m\u001b[36msagemaker_containers\u001b[39;49;00m\r\n",
      "\u001b[34mimport\u001b[39;49;00m \u001b[04m\u001b[36mpandas\u001b[39;49;00m \u001b[34mas\u001b[39;49;00m \u001b[04m\u001b[36mpd\u001b[39;49;00m\r\n",
      "\u001b[34mimport\u001b[39;49;00m \u001b[04m\u001b[36mnumpy\u001b[39;49;00m \u001b[34mas\u001b[39;49;00m \u001b[04m\u001b[36mnp\u001b[39;49;00m\r\n",
      "\u001b[34mimport\u001b[39;49;00m \u001b[04m\u001b[36mtorch\u001b[39;49;00m\r\n",
      "\u001b[34mimport\u001b[39;49;00m \u001b[04m\u001b[36mtorch\u001b[39;49;00m\u001b[04m\u001b[36m.\u001b[39;49;00m\u001b[04m\u001b[36mnn\u001b[39;49;00m \u001b[34mas\u001b[39;49;00m \u001b[04m\u001b[36mnn\u001b[39;49;00m\r\n",
      "\u001b[34mimport\u001b[39;49;00m \u001b[04m\u001b[36mtorch\u001b[39;49;00m\u001b[04m\u001b[36m.\u001b[39;49;00m\u001b[04m\u001b[36moptim\u001b[39;49;00m \u001b[34mas\u001b[39;49;00m \u001b[04m\u001b[36moptim\u001b[39;49;00m\r\n",
      "\u001b[34mimport\u001b[39;49;00m \u001b[04m\u001b[36mtorch\u001b[39;49;00m\u001b[04m\u001b[36m.\u001b[39;49;00m\u001b[04m\u001b[36mutils\u001b[39;49;00m\u001b[04m\u001b[36m.\u001b[39;49;00m\u001b[04m\u001b[36mdata\u001b[39;49;00m\r\n",
      "\r\n",
      "\u001b[34mfrom\u001b[39;49;00m \u001b[04m\u001b[36mmodel\u001b[39;49;00m \u001b[34mimport\u001b[39;49;00m LSTMClassifier\r\n",
      "\r\n",
      "\u001b[34mfrom\u001b[39;49;00m \u001b[04m\u001b[36mutils\u001b[39;49;00m \u001b[34mimport\u001b[39;49;00m review_to_words, convert_and_pad\r\n",
      "\r\n",
      "\u001b[34mdef\u001b[39;49;00m \u001b[32mmodel_fn\u001b[39;49;00m(model_dir):\r\n",
      "    \u001b[33m\"\"\"Load the PyTorch model from the `model_dir` directory.\"\"\"\u001b[39;49;00m\r\n",
      "    \u001b[36mprint\u001b[39;49;00m(\u001b[33m\"\u001b[39;49;00m\u001b[33mLoading model.\u001b[39;49;00m\u001b[33m\"\u001b[39;49;00m)\r\n",
      "\r\n",
      "    \u001b[37m# First, load the parameters used to create the model.\u001b[39;49;00m\r\n",
      "    model_info = {}\r\n",
      "    model_info_path = os.path.join(model_dir, \u001b[33m'\u001b[39;49;00m\u001b[33mmodel_info.pth\u001b[39;49;00m\u001b[33m'\u001b[39;49;00m)\r\n",
      "    \u001b[34mwith\u001b[39;49;00m \u001b[36mopen\u001b[39;49;00m(model_info_path, \u001b[33m'\u001b[39;49;00m\u001b[33mrb\u001b[39;49;00m\u001b[33m'\u001b[39;49;00m) \u001b[34mas\u001b[39;49;00m f:\r\n",
      "        model_info = torch.load(f)\r\n",
      "\r\n",
      "    \u001b[36mprint\u001b[39;49;00m(\u001b[33m\"\u001b[39;49;00m\u001b[33mmodel_info: \u001b[39;49;00m\u001b[33m{}\u001b[39;49;00m\u001b[33m\"\u001b[39;49;00m.format(model_info))\r\n",
      "\r\n",
      "    \u001b[37m# Determine the device and construct the model.\u001b[39;49;00m\r\n",
      "    device = torch.device(\u001b[33m\"\u001b[39;49;00m\u001b[33mcuda\u001b[39;49;00m\u001b[33m\"\u001b[39;49;00m \u001b[34mif\u001b[39;49;00m torch.cuda.is_available() \u001b[34melse\u001b[39;49;00m \u001b[33m\"\u001b[39;49;00m\u001b[33mcpu\u001b[39;49;00m\u001b[33m\"\u001b[39;49;00m)\r\n",
      "    model = LSTMClassifier(model_info[\u001b[33m'\u001b[39;49;00m\u001b[33membedding_dim\u001b[39;49;00m\u001b[33m'\u001b[39;49;00m], model_info[\u001b[33m'\u001b[39;49;00m\u001b[33mhidden_dim\u001b[39;49;00m\u001b[33m'\u001b[39;49;00m], model_info[\u001b[33m'\u001b[39;49;00m\u001b[33mvocab_size\u001b[39;49;00m\u001b[33m'\u001b[39;49;00m])\r\n",
      "\r\n",
      "    \u001b[37m# Load the store model parameters.\u001b[39;49;00m\r\n",
      "    model_path = os.path.join(model_dir, \u001b[33m'\u001b[39;49;00m\u001b[33mmodel.pth\u001b[39;49;00m\u001b[33m'\u001b[39;49;00m)\r\n",
      "    \u001b[34mwith\u001b[39;49;00m \u001b[36mopen\u001b[39;49;00m(model_path, \u001b[33m'\u001b[39;49;00m\u001b[33mrb\u001b[39;49;00m\u001b[33m'\u001b[39;49;00m) \u001b[34mas\u001b[39;49;00m f:\r\n",
      "        model.load_state_dict(torch.load(f))\r\n",
      "\r\n",
      "    \u001b[37m# Load the saved word_dict.\u001b[39;49;00m\r\n",
      "    word_dict_path = os.path.join(model_dir, \u001b[33m'\u001b[39;49;00m\u001b[33mword_dict.pkl\u001b[39;49;00m\u001b[33m'\u001b[39;49;00m)\r\n",
      "    \u001b[34mwith\u001b[39;49;00m \u001b[36mopen\u001b[39;49;00m(word_dict_path, \u001b[33m'\u001b[39;49;00m\u001b[33mrb\u001b[39;49;00m\u001b[33m'\u001b[39;49;00m) \u001b[34mas\u001b[39;49;00m f:\r\n",
      "        model.word_dict = pickle.load(f)\r\n",
      "\r\n",
      "    model.to(device).eval()\r\n",
      "\r\n",
      "    \u001b[36mprint\u001b[39;49;00m(\u001b[33m\"\u001b[39;49;00m\u001b[33mDone loading model.\u001b[39;49;00m\u001b[33m\"\u001b[39;49;00m)\r\n",
      "    \u001b[34mreturn\u001b[39;49;00m model\r\n",
      "\r\n",
      "\u001b[34mdef\u001b[39;49;00m \u001b[32minput_fn\u001b[39;49;00m(serialized_input_data, content_type):\r\n",
      "    \u001b[36mprint\u001b[39;49;00m(\u001b[33m'\u001b[39;49;00m\u001b[33mDeserializing the input data.\u001b[39;49;00m\u001b[33m'\u001b[39;49;00m)\r\n",
      "    \u001b[34mif\u001b[39;49;00m content_type == \u001b[33m'\u001b[39;49;00m\u001b[33mtext/plain\u001b[39;49;00m\u001b[33m'\u001b[39;49;00m:\r\n",
      "        data = serialized_input_data.decode(\u001b[33m'\u001b[39;49;00m\u001b[33mutf-8\u001b[39;49;00m\u001b[33m'\u001b[39;49;00m)\r\n",
      "        \u001b[34mreturn\u001b[39;49;00m data\r\n",
      "    \u001b[34mraise\u001b[39;49;00m \u001b[36mException\u001b[39;49;00m(\u001b[33m'\u001b[39;49;00m\u001b[33mRequested unsupported ContentType in content_type: \u001b[39;49;00m\u001b[33m'\u001b[39;49;00m + content_type)\r\n",
      "\r\n",
      "\u001b[34mdef\u001b[39;49;00m \u001b[32moutput_fn\u001b[39;49;00m(prediction_output, accept):\r\n",
      "    \u001b[36mprint\u001b[39;49;00m(\u001b[33m'\u001b[39;49;00m\u001b[33mSerializing the generated output.\u001b[39;49;00m\u001b[33m'\u001b[39;49;00m)\r\n",
      "    \u001b[34mreturn\u001b[39;49;00m \u001b[36mstr\u001b[39;49;00m(prediction_output)\r\n",
      "\r\n",
      "\u001b[34mdef\u001b[39;49;00m \u001b[32mpredict_fn\u001b[39;49;00m(input_data, model):\r\n",
      "    \u001b[36mprint\u001b[39;49;00m(\u001b[33m'\u001b[39;49;00m\u001b[33mInferring sentiment of input data.\u001b[39;49;00m\u001b[33m'\u001b[39;49;00m)\r\n",
      "\r\n",
      "    device = torch.device(\u001b[33m\"\u001b[39;49;00m\u001b[33mcuda\u001b[39;49;00m\u001b[33m\"\u001b[39;49;00m \u001b[34mif\u001b[39;49;00m torch.cuda.is_available() \u001b[34melse\u001b[39;49;00m \u001b[33m\"\u001b[39;49;00m\u001b[33mcpu\u001b[39;49;00m\u001b[33m\"\u001b[39;49;00m)\r\n",
      "    \r\n",
      "    \u001b[34mif\u001b[39;49;00m model.word_dict \u001b[35mis\u001b[39;49;00m \u001b[34mNone\u001b[39;49;00m:\r\n",
      "        \u001b[34mraise\u001b[39;49;00m \u001b[36mException\u001b[39;49;00m(\u001b[33m'\u001b[39;49;00m\u001b[33mModel has not been loaded properly, no word_dict.\u001b[39;49;00m\u001b[33m'\u001b[39;49;00m)\r\n",
      "    \r\n",
      "    \u001b[37m# TODO: Process input_data so that it is ready to be sent to our model.\u001b[39;49;00m\r\n",
      "    \u001b[37m#       You should produce two variables:\u001b[39;49;00m\r\n",
      "    \u001b[37m#         data_X   - A sequence of length 500 which represents the converted review\u001b[39;49;00m\r\n",
      "    \u001b[37m#         data_len - The length of the review\u001b[39;49;00m\r\n",
      "\r\n",
      "    review_words = review_to_words(input_data)\r\n",
      "    data_X, data_len = convert_and_pad(model.word_dict, review_words) \r\n",
      "\r\n",
      "    \u001b[37m# Using data_X and data_len we construct an appropriate input tensor. Remember\u001b[39;49;00m\r\n",
      "    \u001b[37m# that our model expects input data of the form 'len, review[500]'.\u001b[39;49;00m\r\n",
      "    data_pack = np.hstack((data_len, data_X))\r\n",
      "    data_pack = data_pack.reshape(\u001b[34m1\u001b[39;49;00m, -\u001b[34m1\u001b[39;49;00m)\r\n",
      "    \r\n",
      "    data = torch.from_numpy(data_pack)\r\n",
      "    data = data.to(device)\r\n",
      "\r\n",
      "    \u001b[37m# Make sure to put the model into evaluation mode\u001b[39;49;00m\r\n",
      "    model.eval()\r\n",
      "\r\n",
      "    \u001b[37m# TODO: Compute the result of applying the model to the input data. The variable `result` should\u001b[39;49;00m\r\n",
      "    \u001b[37m#       be a numpy array which contains a single integer which is either 1 or 0\u001b[39;49;00m\r\n",
      "\r\n",
      "    y_hat = model(data).detach().cpu().numpy()\r\n",
      "    result = np.round(y_hat).astype(np.int)\r\n",
      "\r\n",
      "    \u001b[34mreturn\u001b[39;49;00m result\r\n"
     ]
    }
   ],
   "source": [
    "!pygmentize serve/predict.py"
   ]
  },
  {
   "cell_type": "markdown",
   "metadata": {},
   "source": [
    "As mentioned earlier, the `model_fn` method is the same as the one provided in the training code and the `input_fn` and `output_fn` methods are very simple and your task will be to complete the `predict_fn` method. Make sure that you save the completed file as `predict.py` in the `serve` directory.\n",
    "\n",
    "**TODO**: Complete the `predict_fn()` method in the `serve/predict.py` file."
   ]
  },
  {
   "cell_type": "markdown",
   "metadata": {},
   "source": [
    "### Deploying the model\n",
    "\n",
    "Now that the custom inference code has been written, we will create and deploy our model. To begin with, we need to construct a new PyTorchModel object which points to the model artifacts created during training and also points to the inference code that we wish to use. Then we can call the deploy method to launch the deployment container.\n",
    "\n",
    "**NOTE**: The default behaviour for a deployed PyTorch model is to assume that any input passed to the predictor is a `numpy` array. In our case we want to send a string so we need to construct a simple wrapper around the `RealTimePredictor` class to accomodate simple strings. In a more complicated situation you may want to provide a serialization object, for example if you wanted to sent image data."
   ]
  },
  {
   "cell_type": "code",
   "execution_count": 51,
   "metadata": {},
   "outputs": [
    {
     "name": "stderr",
     "output_type": "stream",
     "text": [
      "Parameter image will be renamed to image_uri in SageMaker Python SDK v2.\n",
      "'create_image_uri' will be deprecated in favor of 'ImageURIProvider' class in SageMaker Python SDK v2.\n"
     ]
    },
    {
     "name": "stdout",
     "output_type": "stream",
     "text": [
      "-----------------!"
     ]
    }
   ],
   "source": [
    "from sagemaker.predictor import RealTimePredictor\n",
    "from sagemaker.pytorch import PyTorchModel\n",
    "\n",
    "class StringPredictor(RealTimePredictor):\n",
    "    def __init__(self, endpoint_name, sagemaker_session):\n",
    "        super(StringPredictor, self).__init__(endpoint_name, sagemaker_session, content_type='text/plain')\n",
    "\n",
    "model = PyTorchModel(model_data=estimator.model_data,\n",
    "                     role = role,\n",
    "                     framework_version='0.4.0',\n",
    "                     entry_point='predict.py',\n",
    "                     source_dir='serve',\n",
    "                     predictor_cls=StringPredictor)\n",
    "predictor = model.deploy(initial_instance_count=1, instance_type='ml.m4.xlarge')"
   ]
  },
  {
   "cell_type": "markdown",
   "metadata": {},
   "source": [
    "### Testing the model\n",
    "\n",
    "Now that we have deployed our model with the custom inference code, we should test to see if everything is working. Here we test our model by loading the first `250` positive and negative reviews and send them to the endpoint, then collect the results. The reason for only sending some of the data is that the amount of time it takes for our model to process the input and then perform inference is quite long and so testing the entire data set would be prohibitive."
   ]
  },
  {
   "cell_type": "code",
   "execution_count": 52,
   "metadata": {},
   "outputs": [],
   "source": [
    "import glob\n",
    "\n",
    "def test_reviews(data_dir='../data/aclImdb', stop=250):\n",
    "    \n",
    "    results = []\n",
    "    ground = []\n",
    "    \n",
    "    # We make sure to test both positive and negative reviews    \n",
    "    for sentiment in ['pos', 'neg']:\n",
    "        \n",
    "        path = os.path.join(data_dir, 'test', sentiment, '*.txt')\n",
    "        files = glob.glob(path)\n",
    "        \n",
    "        files_read = 0\n",
    "        \n",
    "        print('Starting ', sentiment, ' files')\n",
    "        \n",
    "        # Iterate through the files and send them to the predictor\n",
    "        for f in files:\n",
    "            with open(f) as review:\n",
    "                # First, we store the ground truth (was the review positive or negative)\n",
    "                if sentiment == 'pos':\n",
    "                    ground.append(1)\n",
    "                else:\n",
    "                    ground.append(0)\n",
    "                # Read in the review and convert to 'utf-8' for transmission via HTTP\n",
    "                review_input = review.read().encode('utf-8')\n",
    "                # Send the review to the predictor and store the results\n",
    "                results.append(float(predictor.predict(review_input)))\n",
    "                \n",
    "            # Sending reviews to our endpoint one at a time takes a while so we\n",
    "            # only send a small number of reviews\n",
    "            files_read += 1\n",
    "            if files_read == stop:\n",
    "                break\n",
    "            \n",
    "    return ground, results"
   ]
  },
  {
   "cell_type": "code",
   "execution_count": 53,
   "metadata": {},
   "outputs": [
    {
     "name": "stdout",
     "output_type": "stream",
     "text": [
      "Starting  pos  files\n",
      "Starting  neg  files\n"
     ]
    }
   ],
   "source": [
    "ground, results = test_reviews()"
   ]
  },
  {
   "cell_type": "code",
   "execution_count": 54,
   "metadata": {
    "scrolled": true
   },
   "outputs": [
    {
     "data": {
      "text/plain": [
       "0.844"
      ]
     },
     "execution_count": 54,
     "metadata": {},
     "output_type": "execute_result"
    }
   ],
   "source": [
    "from sklearn.metrics import accuracy_score\n",
    "accuracy_score(ground, results)"
   ]
  },
  {
   "cell_type": "markdown",
   "metadata": {},
   "source": [
    "As an additional test, we can try sending the `test_review` that we looked at earlier."
   ]
  },
  {
   "cell_type": "code",
   "execution_count": 58,
   "metadata": {},
   "outputs": [
    {
     "data": {
      "text/plain": [
       "b'1'"
      ]
     },
     "execution_count": 58,
     "metadata": {},
     "output_type": "execute_result"
    }
   ],
   "source": [
    "predictor.predict(test_review)"
   ]
  },
  {
   "cell_type": "markdown",
   "metadata": {},
   "source": [
    "Now that we know our endpoint is working as expected, we can set up the web page that will interact with it. If you don't have time to finish the project now, make sure to skip down to the end of this notebook and shut down your endpoint. You can deploy it again when you come back."
   ]
  },
  {
   "cell_type": "markdown",
   "metadata": {},
   "source": [
    "## Step 7 (again): Use the model for the web app\n",
    "\n",
    "> **TODO:** This entire section and the next contain tasks for you to complete, mostly using the AWS console.\n",
    "\n",
    "So far we have been accessing our model endpoint by constructing a predictor object which uses the endpoint and then just using the predictor object to perform inference. What if we wanted to create a web app which accessed our model? The way things are set up currently makes that not possible since in order to access a SageMaker endpoint the app would first have to authenticate with AWS using an IAM role which included access to SageMaker endpoints. However, there is an easier way! We just need to use some additional AWS services.\n",
    "\n",
    "<img src=\"Web App Diagram.svg\">\n",
    "\n",
    "The diagram above gives an overview of how the various services will work together. On the far right is the model which we trained above and which is deployed using SageMaker. On the far left is our web app that collects a user's movie review, sends it off and expects a positive or negative sentiment in return.\n",
    "\n",
    "In the middle is where some of the magic happens. We will construct a Lambda function, which you can think of as a straightforward Python function that can be executed whenever a specified event occurs. We will give this function permission to send and recieve data from a SageMaker endpoint.\n",
    "\n",
    "Lastly, the method we will use to execute the Lambda function is a new endpoint that we will create using API Gateway. This endpoint will be a url that listens for data to be sent to it. Once it gets some data it will pass that data on to the Lambda function and then return whatever the Lambda function returns. Essentially it will act as an interface that lets our web app communicate with the Lambda function.\n",
    "\n",
    "### Setting up a Lambda function\n",
    "\n",
    "The first thing we are going to do is set up a Lambda function. This Lambda function will be executed whenever our public API has data sent to it. When it is executed it will receive the data, perform any sort of processing that is required, send the data (the review) to the SageMaker endpoint we've created and then return the result.\n",
    "\n",
    "#### Part A: Create an IAM Role for the Lambda function\n",
    "\n",
    "Since we want the Lambda function to call a SageMaker endpoint, we need to make sure that it has permission to do so. To do this, we will construct a role that we can later give the Lambda function.\n",
    "\n",
    "Using the AWS Console, navigate to the **IAM** page and click on **Roles**. Then, click on **Create role**. Make sure that the **AWS service** is the type of trusted entity selected and choose **Lambda** as the service that will use this role, then click **Next: Permissions**.\n",
    "\n",
    "In the search box type `sagemaker` and select the check box next to the **AmazonSageMakerFullAccess** policy. Then, click on **Next: Review**.\n",
    "\n",
    "Lastly, give this role a name. Make sure you use a name that you will remember later on, for example `LambdaSageMakerRole`. Then, click on **Create role**.\n",
    "\n",
    "#### Part B: Create a Lambda function\n",
    "\n",
    "Now it is time to actually create the Lambda function.\n",
    "\n",
    "Using the AWS Console, navigate to the AWS Lambda page and click on **Create a function**. When you get to the next page, make sure that **Author from scratch** is selected. Now, name your Lambda function, using a name that you will remember later on, for example `sentiment_analysis_func`. Make sure that the **Python 3.6** runtime is selected and then choose the role that you created in the previous part. Then, click on **Create Function**.\n",
    "\n",
    "On the next page you will see some information about the Lambda function you've just created. If you scroll down you should see an editor in which you can write the code that will be executed when your Lambda function is triggered. In our example, we will use the code below. \n",
    "\n",
    "```python\n",
    "# We need to use the low-level library to interact with SageMaker since the SageMaker API\n",
    "# is not available natively through Lambda.\n",
    "import boto3\n",
    "\n",
    "def lambda_handler(event, context):\n",
    "\n",
    "    # The SageMaker runtime is what allows us to invoke the endpoint that we've created.\n",
    "    runtime = boto3.Session().client('sagemaker-runtime')\n",
    "\n",
    "    # Now we use the SageMaker runtime to invoke our endpoint, sending the review we were given\n",
    "    response = runtime.invoke_endpoint(EndpointName = '**ENDPOINT NAME HERE**',    # The name of the endpoint we created\n",
    "                                       ContentType = 'text/plain',                 # The data format that is expected\n",
    "                                       Body = event['body'])                       # The actual review\n",
    "\n",
    "    # The response is an HTTP response whose body contains the result of our inference\n",
    "    result = response['Body'].read().decode('utf-8')\n",
    "\n",
    "    return {\n",
    "        'statusCode' : 200,\n",
    "        'headers' : { 'Content-Type' : 'text/plain', 'Access-Control-Allow-Origin' : '*' },\n",
    "        'body' : result\n",
    "    }\n",
    "```\n",
    "\n",
    "Once you have copy and pasted the code above into the Lambda code editor, replace the `**ENDPOINT NAME HERE**` portion with the name of the endpoint that we deployed earlier. You can determine the name of the endpoint using the code cell below."
   ]
  },
  {
   "cell_type": "code",
   "execution_count": 59,
   "metadata": {},
   "outputs": [
    {
     "data": {
      "text/plain": [
       "'sagemaker-pytorch-2021-07-29-21-56-46-959'"
      ]
     },
     "execution_count": 59,
     "metadata": {},
     "output_type": "execute_result"
    }
   ],
   "source": [
    "predictor.endpoint"
   ]
  },
  {
   "cell_type": "markdown",
   "metadata": {},
   "source": [
    "Once you have added the endpoint name to the Lambda function, click on **Save**. Your Lambda function is now up and running. Next we need to create a way for our web app to execute the Lambda function.\n",
    "\n",
    "### Setting up API Gateway\n",
    "\n",
    "Now that our Lambda function is set up, it is time to create a new API using API Gateway that will trigger the Lambda function we have just created.\n",
    "\n",
    "Using AWS Console, navigate to **Amazon API Gateway** and then click on **Get started**.\n",
    "\n",
    "On the next page, make sure that **New API** is selected and give the new api a name, for example, `sentiment_analysis_api`. Then, click on **Create API**.\n",
    "\n",
    "Now we have created an API, however it doesn't currently do anything. What we want it to do is to trigger the Lambda function that we created earlier.\n",
    "\n",
    "Select the **Actions** dropdown menu and click **Create Method**. A new blank method will be created, select its dropdown menu and select **POST**, then click on the check mark beside it.\n",
    "\n",
    "For the integration point, make sure that **Lambda Function** is selected and click on the **Use Lambda Proxy integration**. This option makes sure that the data that is sent to the API is then sent directly to the Lambda function with no processing. It also means that the return value must be a proper response object as it will also not be processed by API Gateway.\n",
    "\n",
    "Type the name of the Lambda function you created earlier into the **Lambda Function** text entry box and then click on **Save**. Click on **OK** in the pop-up box that then appears, giving permission to API Gateway to invoke the Lambda function you created.\n",
    "\n",
    "The last step in creating the API Gateway is to select the **Actions** dropdown and click on **Deploy API**. You will need to create a new Deployment stage and name it anything you like, for example `prod`.\n",
    "\n",
    "You have now successfully set up a public API to access your SageMaker model. Make sure to copy or write down the URL provided to invoke your newly created public API as this will be needed in the next step. This URL can be found at the top of the page, highlighted in blue next to the text **Invoke URL**."
   ]
  },
  {
   "cell_type": "markdown",
   "metadata": {},
   "source": [
    "## Step 4: Deploying our web app\n",
    "\n",
    "Now that we have a publicly available API, we can start using it in a web app. For our purposes, we have provided a simple static html file which can make use of the public api you created earlier.\n",
    "\n",
    "In the `website` folder there should be a file called `index.html`. Download the file to your computer and open that file up in a text editor of your choice. There should be a line which contains **\\*\\*REPLACE WITH PUBLIC API URL\\*\\***. Replace this string with the url that you wrote down in the last step and then save the file.\n",
    "\n",
    "Now, if you open `index.html` on your local computer, your browser will behave as a local web server and you can use the provided site to interact with your SageMaker model.\n",
    "\n",
    "If you'd like to go further, you can host this html file anywhere you'd like, for example using github or hosting a static site on Amazon's S3. Once you have done this you can share the link with anyone you'd like and have them play with it too!\n",
    "\n",
    "> **Important Note** In order for the web app to communicate with the SageMaker endpoint, the endpoint has to actually be deployed and running. This means that you are paying for it. Make sure that the endpoint is running when you want to use the web app but that you shut it down when you don't need it, otherwise you will end up with a surprisingly large AWS bill.\n",
    "\n",
    "**TODO:** Make sure that you include the edited `index.html` file in your project submission."
   ]
  },
  {
   "cell_type": "markdown",
   "metadata": {},
   "source": [
    "Now that your web app is working, trying playing around with it and see how well it works.\n",
    "\n",
    "**Question**: Give an example of a review that you entered into your web app. What was the predicted sentiment of your example review?"
   ]
  },
  {
   "cell_type": "markdown",
   "metadata": {},
   "source": [
    "**Answer:**\n",
    "\n",
    "review: \"the movie was horrible. I don't recomment it at all.\"\n",
    "Sentiment: \"Your review as NEGATIVE\""
   ]
  },
  {
   "cell_type": "markdown",
   "metadata": {},
   "source": [
    "### Delete the endpoint\n",
    "\n",
    "Remember to always shut down your endpoint if you are no longer using it. You are charged for the length of time that the endpoint is running so if you forget and leave it on you could end up with an unexpectedly large bill."
   ]
  },
  {
   "cell_type": "code",
   "execution_count": 60,
   "metadata": {},
   "outputs": [],
   "source": [
    "predictor.delete_endpoint()"
   ]
  }
 ],
 "metadata": {
  "kernelspec": {
   "display_name": "conda_pytorch_p36",
   "language": "python",
   "name": "conda_pytorch_p36"
  },
  "language_info": {
   "codemirror_mode": {
    "name": "ipython",
    "version": 3
   },
   "file_extension": ".py",
   "mimetype": "text/x-python",
   "name": "python",
   "nbconvert_exporter": "python",
   "pygments_lexer": "ipython3",
   "version": "3.6.13"
  }
 },
 "nbformat": 4,
 "nbformat_minor": 2
}
