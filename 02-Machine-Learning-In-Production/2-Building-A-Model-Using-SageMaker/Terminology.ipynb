{
 "cells": [
  {
   "cell_type": "markdown",
   "metadata": {},
   "source": [
    "### Session\n",
    "A session is a special object that allows you to do things like manage data in S3 and create and train any machine learning models; you can read more about the functions that can be called on a session, at this [documentation](https://sagemaker.readthedocs.io/en/latest/session.html). "
   ]
  },
  {
   "cell_type": "markdown",
   "metadata": {},
   "source": [
    "### Role\n",
    "Sometimes called the **execution role**, this is the IAM role that you created when you created your notebook instance. The role basically defines how data that your notebook uses/creates will be stored. You can even try printing out the role with print(role) to see the details of this creation."
   ]
  },
  {
   "cell_type": "markdown",
   "metadata": {},
   "source": [
    " ### Batch Transform\n",
    "is the method we will be using to test our model once we have trained it."
   ]
  },
  {
   "cell_type": "markdown",
   "metadata": {},
   "source": [
    "### High Level\n",
    "describes the API we will be using to get SageMaker to perform various machine learning tasks. In particular, it refers to the Python SDK whose documentation can be found here: https://sagemaker.readthedocs.io/en/latest/. This high level approach simplifies a lot of the details when working with SageMaker and can be very useful."
   ]
  },
  {
   "cell_type": "markdown",
   "metadata": {},
   "source": [
    "### Estimators\n",
    "You can read the documentation on estimators for [more information](https://sagemaker.readthedocs.io/en/latest/estimators.html) about this object. Essentially, the Estimator is an object that specifies some details about how a model will be trained. It gives you the ability to create and deploy a model."
   ]
  },
  {
   "cell_type": "markdown",
   "metadata": {},
   "source": [
    "### Training Jobs\n",
    "A training job is used to train a specific estimator.\n",
    "\n",
    "When you request a training job to be executed you need to provide a few items:\n",
    "\n",
    "* A location on S3 where your training (and possibly validation) data is stored,\n",
    "* A location on S3 where the resulting model will be stored (this data is called the model artifacts),\n",
    "* A location of a docker container (certainly this is the case if using a built in algorithm) to be used for training\n",
    "* A description of the compute instance that should be used.\n",
    "\n",
    "Once you provide all of this information, SageMaker will executed the necessary instance (CPU or GPU), load up the necessary docker container and execute it, passing in the location of the training data. Then when the container has finished training the model, the model artifacts are packaged up and stored on S3."
   ]
  },
  {
   "cell_type": "markdown",
   "metadata": {},
   "source": [
    "### Transformer\n",
    "You can read more about the transform and wait functions, in the [transformer documentation](https://sagemaker.readthedocs.io/en/latest/transformer.html). In this case, the transformer is used to create a transform job and evaluate a trained model. The transform function takes in the location of some test data, and some information about how that test data is formatted."
   ]
  },
  {
   "cell_type": "markdown",
   "metadata": {},
   "source": [
    "### What are the main components of a SageMaker model?\n",
    "In SageMaker, a model is a collection of information that describes how to perform inference. For the most part, this comprises two very important pieces.\n",
    "\n",
    "The first is the container that holds the model inference functionality. For different types of models this code may be different but for simpler models and models provided by Amazon this is typically the same container that was used to train the model.\n",
    "\n",
    "The second is the model artifacts. These are the pieces of data that were created during the training process. For example, if we were fitting a linear model then the coefficients that were fit would be saved as model artifacts.\n",
    "\n",
    "### What happens when a model is fit using SageMaker?\n",
    "When a model is fit using SageMaker, the process is as follows.\n",
    "\n",
    "First, a compute instance (basically a server somewhere) is started up with the properties that we specified.\n",
    "\n",
    "Next, when the compute instance is ready, the code, in the form of a container, that is used to fit the model is loaded and executed. When this code is executed, it is provided access to the training (and possibly validation) data stored on S3.\n",
    "\n",
    "Once the compute instance has finished fitting the model, the resulting model artifacts are stored on S3 and the compute instance is shut down."
   ]
  },
  {
   "cell_type": "markdown",
   "metadata": {},
   "source": [
    "### What is Concept Drift?\n",
    "https://edouardfouche.com/Data-Stream-Generation-with-Concept-Drift/"
   ]
  },
  {
   "cell_type": "code",
   "execution_count": null,
   "metadata": {},
   "outputs": [],
   "source": []
  }
 ],
 "metadata": {
  "kernelspec": {
   "display_name": "Python 3",
   "language": "python",
   "name": "python3"
  },
  "language_info": {
   "codemirror_mode": {
    "name": "ipython",
    "version": 3
   },
   "file_extension": ".py",
   "mimetype": "text/x-python",
   "name": "python",
   "nbconvert_exporter": "python",
   "pygments_lexer": "ipython3",
   "version": "3.8.1"
  }
 },
 "nbformat": 4,
 "nbformat_minor": 4
}
