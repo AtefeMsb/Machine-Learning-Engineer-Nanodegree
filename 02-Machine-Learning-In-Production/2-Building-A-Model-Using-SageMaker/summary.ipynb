{
 "cells": [
  {
   "cell_type": "markdown",
   "metadata": {},
   "source": [
    "**What is AWS Sagemaker?**\n",
    "\n",
    "AWS (or Amazon) SageMaker is a fully managed service that provides the ability to build, train, tune, deploy, and manage large-scale machine learning (ML) models quickly.\n",
    "\n",
    "**The Amazon Sagemaker provides the following tools:**\n",
    "\n",
    "* **Ground Truth** - To label the jobs, datasets, and workforces\n",
    "* **Notebook** - To create Jupyter notebook instances, configure the lifecycle of the notebooks, and attache Git repositories\n",
    "* **Training** - To choose an ML algorithm, define the training jobs, and tune the hyperparameter\n",
    "* **Inference** - To compile and configure the trained models, and endpoints for deployments\n",
    "\n",
    "**Why is SageMaker a \"fully managed\" service?**\n",
    "\n",
    "SageMaker helps to reduce the complexity of building, training and deploying your ML models by offering all these steps on a single platform. SageMaker supports building the ML models with modularity, which means you can reuse a model that you have already built earlier in other projects.\n",
    "\n",
    "**AWS Service Utilization Quota (Limits)**\n",
    "\n",
    "You need to understand the way AWS imposes utilization quotas (limits) on almost all of its services. Quotas, also referred to as limits, are the maximum number of resources of a particular service that you can create in your AWS account.\n",
    "\n",
    "**There are three ways to view your quotas, as mentioned [here](https://docs.aws.amazon.com/general/latest/gr/aws_service_limits.html):**\n",
    "\n",
    "* [Service Quotas console](https://console.aws.amazon.com/servicequotas/home?region=us-east-1#!)\n",
    "* Using [AWS Support Center](https://console.aws.amazon.com/support/home?#/) - You can create a case for support from AWS.\n",
    "* AWS CLI commands - `request-service-quota-increase`"
   ]
  }
 ],
 "metadata": {
  "kernelspec": {
   "display_name": "Python 3",
   "language": "python",
   "name": "python3"
  },
  "language_info": {
   "codemirror_mode": {
    "name": "ipython",
    "version": 3
   },
   "file_extension": ".py",
   "mimetype": "text/x-python",
   "name": "python",
   "nbconvert_exporter": "python",
   "pygments_lexer": "ipython3",
   "version": "3.8.1"
  }
 },
 "nbformat": 4,
 "nbformat_minor": 4
}
