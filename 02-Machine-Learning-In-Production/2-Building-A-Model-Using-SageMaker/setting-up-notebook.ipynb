{
 "cells": [
  {
   "cell_type": "markdown",
   "metadata": {},
   "source": [
    "### Setting up a Notebook Instance\n",
    "\n",
    "[Set Up Instruction Video](https://www.youtube.com/watch?v=TRUCNy5Eqjc&feature=emb_logo&ab_channel=Udacity)\n",
    "\n",
    "### How to connect git repository to a SageMaker notebook\n",
    "\n",
    "Recently, SageMaker has added a line in the setup code to link directly to a Github repository and it's recommended that you use that setup!\n",
    "\n",
    "These notebooks are stored in a [repository on Github](https://github.com/udacity/sagemaker-deployment) and the easiest way to make them available inside of your notebook instance is to use git and clone the repository.\n",
    "\n",
    "[Cloning Instruction Video](https://www.youtube.com/watch?time_continue=1&v=jqL74whe9yo&feature=emb_logo&ab_channel=Udacity)\n",
    "\n",
    "In order to clone the deployment repository into your notebook instance, click on the new drop down menu and select terminal. By default, the working directory of the terminal instance is the home directory, however, the Jupyter notebook hub's root directory is under SageMaker. Enter the appropriate directory and clone the repository as follows:\n",
    "\n",
    "`cd SageMaker`\n",
    "\n",
    "`git clone https://github.com/udacity/sagemaker-deployment.git`\n",
    "\n",
    "`exit`"
   ]
  },
  {
   "cell_type": "markdown",
   "metadata": {},
   "source": [
    "### How SageMaker Trains and Deployes Models ([Video](https://www.youtube.com/watch?v=78y5cTR-JxM&feature=emb_logo&ab_channel=Udacity)) \n",
    "\n",
    "1. a virtual machine will be created and will have all the properties we need it might come equiped with a gpu, or some amount of ram, or some specific number of processors.\n",
    "\n",
    "2. then the virtual machine will load an image. typically this image is usually in the form of a docker container. in the Boston Example we use a docker container that contains training and inference code to use XGboost.\n",
    "\n",
    "3. in order for virtal machine to excute the training code successfully needs to access the training data. SageMaker assumes that this data is on S3, which is amazon data storage service. so we need to make sure we upload the dataset there."
   ]
  },
  {
   "cell_type": "markdown",
   "metadata": {},
   "source": [
    "### SageMaker Sessions & Execution Roles\n",
    "\n",
    "**Session** - A session is a special object that allows you to do things like manage data in S3 and create and train any machine learning models; you can read more about the functions that can be called on a session, [at this documentation](https://sagemaker.readthedocs.io/en/latest/session.html). The `upload_data` function should be close to the top of the list! You'll also see functions like `train`, `tune`, and `create_model`.\n",
    "\n",
    "**Role** - Sometimes called the execution role, this is the IAM role that you created when you created your notebook instance. The role basically defines how data that your notebook uses/creates will be stored. You can even try printing out the role with `print(role)` to see the details of this creation."
   ]
  },
  {
   "cell_type": "markdown",
   "metadata": {},
   "source": [
    "### S3 stands for Simple Storage Service (S3).\n",
    "S3 is a virtual storage solution that is mostly meant for data to be written to few times and read from many times. This is, in some sense, the main workhorse for data storage and transfer when using Amazon services. These are similar to file folders that contain data and metadata about that data, such as the data size, date of upload, author, and so on."
   ]
  },
  {
   "cell_type": "markdown",
   "metadata": {},
   "source": [
    "### High Level SageMaker API\n",
    "\n",
    "describes the API we will be using to get SageMaker to perform various machine learning tasks. In particular, it refers to the Python SDK whose documentation can be found here: https://sagemaker.readthedocs.io/en/latest/. This high level approach simplifies a lot of the details when working with SageMaker and can be very useful."
   ]
  },
  {
   "cell_type": "markdown",
   "metadata": {},
   "source": [
    "### Training Jobs\n",
    "\n",
    "A training job is used to train a specific estimator. Estimator is an object that specifies some details about how a model will be trained. It gives you the ability to create and deploy a model.\n",
    "\n",
    "When you request a training job to be executed you need to provide a few items:\n",
    "\n",
    "1. A location on S3 where your training (and possibly validation) data is stored,\n",
    "2. A location on S3 where the resulting model will be stored (this data is called the model artifacts),\n",
    "3. A location of a docker container (certainly this is the case if using a built in algorithm) to be used for training\n",
    "4. A description of the compute instance that should be used."
   ]
  },
  {
   "cell_type": "code",
   "execution_count": null,
   "metadata": {},
   "outputs": [],
   "source": []
  }
 ],
 "metadata": {
  "kernelspec": {
   "display_name": "Python 3",
   "language": "python",
   "name": "python3"
  },
  "language_info": {
   "codemirror_mode": {
    "name": "ipython",
    "version": 3
   },
   "file_extension": ".py",
   "mimetype": "text/x-python",
   "name": "python",
   "nbconvert_exporter": "python",
   "pygments_lexer": "ipython3",
   "version": "3.8.1"
  }
 },
 "nbformat": 4,
 "nbformat_minor": 4
}
